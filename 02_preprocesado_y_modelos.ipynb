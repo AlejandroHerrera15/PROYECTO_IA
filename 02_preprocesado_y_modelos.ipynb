{
  "nbformat": 4,
  "nbformat_minor": 0,
  "metadata": {
    "colab": {
      "provenance": [],
      "collapsed_sections": [
        "Nmy9XkAld472"
      ],
      "authorship_tag": "ABX9TyOipHCnwtE+aiCF040sjYS6",
      "include_colab_link": true
    },
    "kernelspec": {
      "name": "python3",
      "display_name": "Python 3"
    },
    "language_info": {
      "name": "python"
    }
  },
  "cells": [
    {
      "cell_type": "markdown",
      "metadata": {
        "id": "view-in-github",
        "colab_type": "text"
      },
      "source": [
        "<a href=\"https://colab.research.google.com/github/AlejandroHerrera15/PROYECTO_IA/blob/main/02_preprocesado_y_modelos.ipynb\" target=\"_parent\"><img src=\"https://colab.research.google.com/assets/colab-badge.svg\" alt=\"Open In Colab\"/></a>"
      ]
    },
    {
      "cell_type": "markdown",
      "metadata": {
        "id": "Nmy9XkAld472"
      },
      "source": [
        "# Preprocesado y modelos\n",
        "\n",
        "## ADAMS SoSe23\n",
        "Predicting prices of AirBnB listings in the city of London: [Kaggle link](https://www.kaggle.com/competitions/adams-sose23)\n"
      ]
    },
    {
      "cell_type": "code",
      "execution_count": 92,
      "metadata": {
        "id": "oXuzAIh2T5Eb"
      },
      "outputs": [],
      "source": [
        "api_token = {\"username\":\"alejandroherrerar\",\n",
        "             \"key\":\"a266538c9ed8b4d58aa6d5b3bcf32743\"}"
      ]
    },
    {
      "cell_type": "code",
      "execution_count": 93,
      "metadata": {
        "id": "Y-qp7RTjYpK8"
      },
      "outputs": [],
      "source": [
        "!rm -rf /root/.kaggle."
      ]
    },
    {
      "cell_type": "code",
      "source": [
        "!mkdir /root/.kaggle"
      ],
      "metadata": {
        "id": "GdraeSteT010",
        "colab": {
          "base_uri": "https://localhost:8080/"
        },
        "outputId": "713a24cb-6e22-4e2a-ab41-3097c2d5aa9f"
      },
      "execution_count": 94,
      "outputs": [
        {
          "output_type": "stream",
          "name": "stdout",
          "text": [
            "mkdir: cannot create directory ‘/root/.kaggle’: File exists\n"
          ]
        }
      ]
    },
    {
      "cell_type": "code",
      "execution_count": 95,
      "metadata": {
        "id": "sHrzGU1QXy7_"
      },
      "outputs": [],
      "source": [
        "import json\n",
        "with open('/root/.kaggle/kaggle.json','w') as file:\n",
        "  json.dump(api_token,file)"
      ]
    },
    {
      "cell_type": "code",
      "source": [
        "!chmod 600 /root/.kaggle/kaggle.json"
      ],
      "metadata": {
        "id": "rj4zHjVEVn3j"
      },
      "execution_count": 96,
      "outputs": []
    },
    {
      "cell_type": "code",
      "execution_count": 97,
      "metadata": {
        "id": "12x1o01DX9ff",
        "colab": {
          "base_uri": "https://localhost:8080/"
        },
        "outputId": "59290ed0-28b5-402a-e40c-64fbf86a9445"
      },
      "outputs": [
        {
          "output_type": "stream",
          "name": "stdout",
          "text": [
            "adams-sose23.zip: Skipping, found more recently modified local copy (use --force to force download)\n"
          ]
        }
      ],
      "source": [
        "!kaggle competitions download -c adams-sose23"
      ]
    },
    {
      "cell_type": "code",
      "source": [
        "!unzip adams-sose23"
      ],
      "metadata": {
        "colab": {
          "base_uri": "https://localhost:8080/"
        },
        "id": "pMFO70UTWae9",
        "outputId": "e7bb8312-fb84-44a7-ea59-70f263062c91"
      },
      "execution_count": 98,
      "outputs": [
        {
          "output_type": "stream",
          "name": "stdout",
          "text": [
            "Archive:  adams-sose23.zip\n",
            "replace reviews.csv? [y]es, [n]o, [A]ll, [N]one, [r]ename: A\n",
            "  inflating: reviews.csv             \n",
            "  inflating: test.csv                \n",
            "  inflating: train.csv               \n"
          ]
        }
      ]
    },
    {
      "cell_type": "markdown",
      "source": [
        "# 1 Cargar base"
      ],
      "metadata": {
        "id": "nfTM3C9YWgb0"
      }
    },
    {
      "cell_type": "code",
      "execution_count": 99,
      "metadata": {
        "id": "fc2d3GoFc1Mc"
      },
      "outputs": [],
      "source": [
        "import numpy as np\n",
        "import pandas as pd\n",
        "import seaborn as sns\n",
        "import matplotlib.pyplot as plt\n",
        "import missingno as msno\n",
        "#bibliotecas de machine learning\n",
        "from sklearn.linear_model import LinearRegression\n",
        "from sklearn.tree import DecisionTreeRegressor\n",
        "from sklearn.ensemble import RandomForestRegressor\n",
        "from sklearn.model_selection import cross_validate, ShuffleSplit\n",
        "\n",
        "from sklearn.model_selection import learning_curve\n",
        "from sklearn.metrics import mean_squared_error\n",
        "from sklearn.impute import SimpleImputer\n",
        "from sklearn.preprocessing import OneHotEncoder\n",
        "from sklearn.preprocessing import FunctionTransformer\n",
        "from sklearn.pipeline import Pipeline\n",
        "from sklearn.compose import ColumnTransformer\n",
        "from sklearn.preprocessing import LabelEncoder\n",
        "from sklearn import utils\n",
        "from sklearn import preprocessing\n",
        "from sklearn.model_selection import train_test_split,KFold,GroupKFold\n",
        "import lightgbm as lgb\n",
        "import gc\n",
        "\n",
        "## Data\n",
        "import pandas as pd\n",
        "import numpy as np\n",
        "from itertools import product\n",
        "from sklearn.impute import SimpleImputer\n",
        "from sklearn.preprocessing import OneHotEncoder, StandardScaler\n",
        "## Visualization\n",
        "import matplotlib.pyplot as plt\n",
        "import seaborn as sns\n",
        "from plotly.subplots import make_subplots\n",
        "import plotly.express as px\n",
        "import plotly.graph_objects as go\n",
        "import plotly.figure_factory as ff\n",
        "\n",
        "## Modelling\n",
        "from sklearn.metrics import mean_squared_error\n",
        "from sklearn.model_selection import train_test_split, GridSearchCV\n",
        "from sklearn.linear_model import LinearRegression\n",
        "import statsmodels.api as sm\n",
        "from sklearn.metrics import mean_squared_error,  mean_absolute_error, mean_absolute_percentage_error, r2_score, classification_report\n",
        "import math\n"
      ]
    },
    {
      "cell_type": "code",
      "execution_count": 100,
      "metadata": {
        "colab": {
          "base_uri": "https://localhost:8080/",
          "height": 0
        },
        "id": "3HEffsK4ZlcA",
        "outputId": "77f93611-5f0a-4bab-d406-25842b421d7e"
      },
      "outputs": [
        {
          "output_type": "execute_result",
          "data": {
            "text/plain": [
              "                                                name  \\\n",
              "0                   Attic Room in historic Greenwich   \n",
              "1                Lovely Garden Studio Private Access   \n",
              "2  Comfi apartment 2 close to wimbledon tennis court   \n",
              "3           Luxury room in the heart of London - SW4   \n",
              "4        Excellent city Apartment with Private Patio   \n",
              "\n",
              "                                             summary  \\\n",
              "0  The room does not have a door but its own disc...   \n",
              "1  Garden studio with private entrance, 5 minutes...   \n",
              "2                                                NaN   \n",
              "3  Luxury first floor Victorian split level maiso...   \n",
              "4  NEW luxury apartment, with private outside pat...   \n",
              "\n",
              "                                               space  \\\n",
              "0  Double room available in historic royal Greenw...   \n",
              "1  Beautiful studio with a king size bed, a sofa ...   \n",
              "2                                                NaN   \n",
              "3  Your room will be fully furnished, and it will...   \n",
              "4  A modern, well-equipped, cosy apartment close ...   \n",
              "\n",
              "                                         description experiences_offered  \\\n",
              "0  The room does not have a door but its own disc...            business   \n",
              "1  Garden studio with private entrance, 5 minutes...                none   \n",
              "2                                                NaN                none   \n",
              "3  Luxury first floor Victorian split level maiso...                none   \n",
              "4  NEW luxury apartment, with private outside pat...                none   \n",
              "\n",
              "                               neighborhood_overview  \\\n",
              "0                                                NaN   \n",
              "1  Crouch End is a very hip and friendly neighbou...   \n",
              "2                                                NaN   \n",
              "3  Gail coffee shop, just round the corner as wel...   \n",
              "4                                                NaN   \n",
              "\n",
              "                                             transit  \\\n",
              "0  Parking is restricted in London. Visitors park...   \n",
              "1  Walk across the street to the W3 bus stop and ...   \n",
              "2                                                NaN   \n",
              "3  Happy to advise on things to do in London and ...   \n",
              "4                                                NaN   \n",
              "\n",
              "                                         house_rules  \\\n",
              "0  no shoes on carpets no food in attic room no o...   \n",
              "1  We'd love it if you would remove your shoes at...   \n",
              "2  1- No party or event allowed. 2-No smoking ins...   \n",
              "3  - Check-in after 18:30pm and no later than 20:...   \n",
              "4  I am very happy for your visit, but please car...   \n",
              "\n",
              "                                         picture_url    host_id  ...  \\\n",
              "0  https://a0.muscache.com/im/pictures/20045164/7...    2167992  ...   \n",
              "1  https://a0.muscache.com/im/pictures/8d1ddcdc-f...   16148175  ...   \n",
              "2  https://a0.muscache.com/im/pictures/e7e4a740-d...  272000199  ...   \n",
              "3  https://a0.muscache.com/im/pictures/7c2b2fcc-e...    3361233  ...   \n",
              "4  https://a0.muscache.com/im/pictures/ca1494da-f...   94317022  ...   \n",
              "\n",
              "  review_scores_rating review_scores_accuracy review_scores_cleanliness  \\\n",
              "0                 95.0                   10.0                      10.0   \n",
              "1                 99.0                   10.0                      10.0   \n",
              "2                 84.0                    9.0                       9.0   \n",
              "3                  NaN                    NaN                       NaN   \n",
              "4                100.0                   10.0                      10.0   \n",
              "\n",
              "  review_scores_checkin  review_scores_communication review_scores_location  \\\n",
              "0                  10.0                         10.0                   10.0   \n",
              "1                  10.0                         10.0                   10.0   \n",
              "2                  10.0                         10.0                    9.0   \n",
              "3                   NaN                          NaN                    NaN   \n",
              "4                  10.0                         10.0                   10.0   \n",
              "\n",
              "  review_scores_value          cancellation_policy reviews_per_month  \\\n",
              "0                10.0  strict_14_with_grace_period              2.37   \n",
              "1                10.0                     moderate              2.97   \n",
              "2                 8.0  strict_14_with_grace_period              1.73   \n",
              "3                 NaN                     flexible               NaN   \n",
              "4                10.0  strict_14_with_grace_period              2.32   \n",
              "\n",
              "   listing_id  \n",
              "0  9Q1RD6H7IO  \n",
              "1  6XDPZPGLSR  \n",
              "2  SND9OPN6IY  \n",
              "3  SE3B7BXN9G  \n",
              "4  E0C82VK0VF  \n",
              "\n",
              "[5 rows x 42 columns]"
            ],
            "text/html": [
              "\n",
              "  <div id=\"df-9de11aa9-cbb4-4847-8fcd-6d3039d65c09\" class=\"colab-df-container\">\n",
              "    <div>\n",
              "<style scoped>\n",
              "    .dataframe tbody tr th:only-of-type {\n",
              "        vertical-align: middle;\n",
              "    }\n",
              "\n",
              "    .dataframe tbody tr th {\n",
              "        vertical-align: top;\n",
              "    }\n",
              "\n",
              "    .dataframe thead th {\n",
              "        text-align: right;\n",
              "    }\n",
              "</style>\n",
              "<table border=\"1\" class=\"dataframe\">\n",
              "  <thead>\n",
              "    <tr style=\"text-align: right;\">\n",
              "      <th></th>\n",
              "      <th>name</th>\n",
              "      <th>summary</th>\n",
              "      <th>space</th>\n",
              "      <th>description</th>\n",
              "      <th>experiences_offered</th>\n",
              "      <th>neighborhood_overview</th>\n",
              "      <th>transit</th>\n",
              "      <th>house_rules</th>\n",
              "      <th>picture_url</th>\n",
              "      <th>host_id</th>\n",
              "      <th>...</th>\n",
              "      <th>review_scores_rating</th>\n",
              "      <th>review_scores_accuracy</th>\n",
              "      <th>review_scores_cleanliness</th>\n",
              "      <th>review_scores_checkin</th>\n",
              "      <th>review_scores_communication</th>\n",
              "      <th>review_scores_location</th>\n",
              "      <th>review_scores_value</th>\n",
              "      <th>cancellation_policy</th>\n",
              "      <th>reviews_per_month</th>\n",
              "      <th>listing_id</th>\n",
              "    </tr>\n",
              "  </thead>\n",
              "  <tbody>\n",
              "    <tr>\n",
              "      <th>0</th>\n",
              "      <td>Attic Room in historic Greenwich</td>\n",
              "      <td>The room does not have a door but its own disc...</td>\n",
              "      <td>Double room available in historic royal Greenw...</td>\n",
              "      <td>The room does not have a door but its own disc...</td>\n",
              "      <td>business</td>\n",
              "      <td>NaN</td>\n",
              "      <td>Parking is restricted in London. Visitors park...</td>\n",
              "      <td>no shoes on carpets no food in attic room no o...</td>\n",
              "      <td>https://a0.muscache.com/im/pictures/20045164/7...</td>\n",
              "      <td>2167992</td>\n",
              "      <td>...</td>\n",
              "      <td>95.0</td>\n",
              "      <td>10.0</td>\n",
              "      <td>10.0</td>\n",
              "      <td>10.0</td>\n",
              "      <td>10.0</td>\n",
              "      <td>10.0</td>\n",
              "      <td>10.0</td>\n",
              "      <td>strict_14_with_grace_period</td>\n",
              "      <td>2.37</td>\n",
              "      <td>9Q1RD6H7IO</td>\n",
              "    </tr>\n",
              "    <tr>\n",
              "      <th>1</th>\n",
              "      <td>Lovely Garden Studio Private Access</td>\n",
              "      <td>Garden studio with private entrance, 5 minutes...</td>\n",
              "      <td>Beautiful studio with a king size bed, a sofa ...</td>\n",
              "      <td>Garden studio with private entrance, 5 minutes...</td>\n",
              "      <td>none</td>\n",
              "      <td>Crouch End is a very hip and friendly neighbou...</td>\n",
              "      <td>Walk across the street to the W3 bus stop and ...</td>\n",
              "      <td>We'd love it if you would remove your shoes at...</td>\n",
              "      <td>https://a0.muscache.com/im/pictures/8d1ddcdc-f...</td>\n",
              "      <td>16148175</td>\n",
              "      <td>...</td>\n",
              "      <td>99.0</td>\n",
              "      <td>10.0</td>\n",
              "      <td>10.0</td>\n",
              "      <td>10.0</td>\n",
              "      <td>10.0</td>\n",
              "      <td>10.0</td>\n",
              "      <td>10.0</td>\n",
              "      <td>moderate</td>\n",
              "      <td>2.97</td>\n",
              "      <td>6XDPZPGLSR</td>\n",
              "    </tr>\n",
              "    <tr>\n",
              "      <th>2</th>\n",
              "      <td>Comfi apartment 2 close to wimbledon tennis court</td>\n",
              "      <td>NaN</td>\n",
              "      <td>NaN</td>\n",
              "      <td>NaN</td>\n",
              "      <td>none</td>\n",
              "      <td>NaN</td>\n",
              "      <td>NaN</td>\n",
              "      <td>1- No party or event allowed. 2-No smoking ins...</td>\n",
              "      <td>https://a0.muscache.com/im/pictures/e7e4a740-d...</td>\n",
              "      <td>272000199</td>\n",
              "      <td>...</td>\n",
              "      <td>84.0</td>\n",
              "      <td>9.0</td>\n",
              "      <td>9.0</td>\n",
              "      <td>10.0</td>\n",
              "      <td>10.0</td>\n",
              "      <td>9.0</td>\n",
              "      <td>8.0</td>\n",
              "      <td>strict_14_with_grace_period</td>\n",
              "      <td>1.73</td>\n",
              "      <td>SND9OPN6IY</td>\n",
              "    </tr>\n",
              "    <tr>\n",
              "      <th>3</th>\n",
              "      <td>Luxury room in the heart of London - SW4</td>\n",
              "      <td>Luxury first floor Victorian split level maiso...</td>\n",
              "      <td>Your room will be fully furnished, and it will...</td>\n",
              "      <td>Luxury first floor Victorian split level maiso...</td>\n",
              "      <td>none</td>\n",
              "      <td>Gail coffee shop, just round the corner as wel...</td>\n",
              "      <td>Happy to advise on things to do in London and ...</td>\n",
              "      <td>- Check-in after 18:30pm and no later than 20:...</td>\n",
              "      <td>https://a0.muscache.com/im/pictures/7c2b2fcc-e...</td>\n",
              "      <td>3361233</td>\n",
              "      <td>...</td>\n",
              "      <td>NaN</td>\n",
              "      <td>NaN</td>\n",
              "      <td>NaN</td>\n",
              "      <td>NaN</td>\n",
              "      <td>NaN</td>\n",
              "      <td>NaN</td>\n",
              "      <td>NaN</td>\n",
              "      <td>flexible</td>\n",
              "      <td>NaN</td>\n",
              "      <td>SE3B7BXN9G</td>\n",
              "    </tr>\n",
              "    <tr>\n",
              "      <th>4</th>\n",
              "      <td>Excellent city Apartment with Private Patio</td>\n",
              "      <td>NEW luxury apartment, with private outside pat...</td>\n",
              "      <td>A modern, well-equipped, cosy apartment close ...</td>\n",
              "      <td>NEW luxury apartment, with private outside pat...</td>\n",
              "      <td>none</td>\n",
              "      <td>NaN</td>\n",
              "      <td>NaN</td>\n",
              "      <td>I am very happy for your visit, but please car...</td>\n",
              "      <td>https://a0.muscache.com/im/pictures/ca1494da-f...</td>\n",
              "      <td>94317022</td>\n",
              "      <td>...</td>\n",
              "      <td>100.0</td>\n",
              "      <td>10.0</td>\n",
              "      <td>10.0</td>\n",
              "      <td>10.0</td>\n",
              "      <td>10.0</td>\n",
              "      <td>10.0</td>\n",
              "      <td>10.0</td>\n",
              "      <td>strict_14_with_grace_period</td>\n",
              "      <td>2.32</td>\n",
              "      <td>E0C82VK0VF</td>\n",
              "    </tr>\n",
              "  </tbody>\n",
              "</table>\n",
              "<p>5 rows × 42 columns</p>\n",
              "</div>\n",
              "    <div class=\"colab-df-buttons\">\n",
              "\n",
              "  <div class=\"colab-df-container\">\n",
              "    <button class=\"colab-df-convert\" onclick=\"convertToInteractive('df-9de11aa9-cbb4-4847-8fcd-6d3039d65c09')\"\n",
              "            title=\"Convert this dataframe to an interactive table.\"\n",
              "            style=\"display:none;\">\n",
              "\n",
              "  <svg xmlns=\"http://www.w3.org/2000/svg\" height=\"24px\" viewBox=\"0 -960 960 960\">\n",
              "    <path d=\"M120-120v-720h720v720H120Zm60-500h600v-160H180v160Zm220 220h160v-160H400v160Zm0 220h160v-160H400v160ZM180-400h160v-160H180v160Zm440 0h160v-160H620v160ZM180-180h160v-160H180v160Zm440 0h160v-160H620v160Z\"/>\n",
              "  </svg>\n",
              "    </button>\n",
              "\n",
              "  <style>\n",
              "    .colab-df-container {\n",
              "      display:flex;\n",
              "      gap: 12px;\n",
              "    }\n",
              "\n",
              "    .colab-df-convert {\n",
              "      background-color: #E8F0FE;\n",
              "      border: none;\n",
              "      border-radius: 50%;\n",
              "      cursor: pointer;\n",
              "      display: none;\n",
              "      fill: #1967D2;\n",
              "      height: 32px;\n",
              "      padding: 0 0 0 0;\n",
              "      width: 32px;\n",
              "    }\n",
              "\n",
              "    .colab-df-convert:hover {\n",
              "      background-color: #E2EBFA;\n",
              "      box-shadow: 0px 1px 2px rgba(60, 64, 67, 0.3), 0px 1px 3px 1px rgba(60, 64, 67, 0.15);\n",
              "      fill: #174EA6;\n",
              "    }\n",
              "\n",
              "    .colab-df-buttons div {\n",
              "      margin-bottom: 4px;\n",
              "    }\n",
              "\n",
              "    [theme=dark] .colab-df-convert {\n",
              "      background-color: #3B4455;\n",
              "      fill: #D2E3FC;\n",
              "    }\n",
              "\n",
              "    [theme=dark] .colab-df-convert:hover {\n",
              "      background-color: #434B5C;\n",
              "      box-shadow: 0px 1px 3px 1px rgba(0, 0, 0, 0.15);\n",
              "      filter: drop-shadow(0px 1px 2px rgba(0, 0, 0, 0.3));\n",
              "      fill: #FFFFFF;\n",
              "    }\n",
              "  </style>\n",
              "\n",
              "    <script>\n",
              "      const buttonEl =\n",
              "        document.querySelector('#df-9de11aa9-cbb4-4847-8fcd-6d3039d65c09 button.colab-df-convert');\n",
              "      buttonEl.style.display =\n",
              "        google.colab.kernel.accessAllowed ? 'block' : 'none';\n",
              "\n",
              "      async function convertToInteractive(key) {\n",
              "        const element = document.querySelector('#df-9de11aa9-cbb4-4847-8fcd-6d3039d65c09');\n",
              "        const dataTable =\n",
              "          await google.colab.kernel.invokeFunction('convertToInteractive',\n",
              "                                                    [key], {});\n",
              "        if (!dataTable) return;\n",
              "\n",
              "        const docLinkHtml = 'Like what you see? Visit the ' +\n",
              "          '<a target=\"_blank\" href=https://colab.research.google.com/notebooks/data_table.ipynb>data table notebook</a>'\n",
              "          + ' to learn more about interactive tables.';\n",
              "        element.innerHTML = '';\n",
              "        dataTable['output_type'] = 'display_data';\n",
              "        await google.colab.output.renderOutput(dataTable, element);\n",
              "        const docLink = document.createElement('div');\n",
              "        docLink.innerHTML = docLinkHtml;\n",
              "        element.appendChild(docLink);\n",
              "      }\n",
              "    </script>\n",
              "  </div>\n",
              "\n",
              "\n",
              "<div id=\"df-f61bef16-0f2b-43e9-84cf-84e3c7686b8e\">\n",
              "  <button class=\"colab-df-quickchart\" onclick=\"quickchart('df-f61bef16-0f2b-43e9-84cf-84e3c7686b8e')\"\n",
              "            title=\"Suggest charts\"\n",
              "            style=\"display:none;\">\n",
              "\n",
              "<svg xmlns=\"http://www.w3.org/2000/svg\" height=\"24px\"viewBox=\"0 0 24 24\"\n",
              "     width=\"24px\">\n",
              "    <g>\n",
              "        <path d=\"M19 3H5c-1.1 0-2 .9-2 2v14c0 1.1.9 2 2 2h14c1.1 0 2-.9 2-2V5c0-1.1-.9-2-2-2zM9 17H7v-7h2v7zm4 0h-2V7h2v10zm4 0h-2v-4h2v4z\"/>\n",
              "    </g>\n",
              "</svg>\n",
              "  </button>\n",
              "\n",
              "<style>\n",
              "  .colab-df-quickchart {\n",
              "      --bg-color: #E8F0FE;\n",
              "      --fill-color: #1967D2;\n",
              "      --hover-bg-color: #E2EBFA;\n",
              "      --hover-fill-color: #174EA6;\n",
              "      --disabled-fill-color: #AAA;\n",
              "      --disabled-bg-color: #DDD;\n",
              "  }\n",
              "\n",
              "  [theme=dark] .colab-df-quickchart {\n",
              "      --bg-color: #3B4455;\n",
              "      --fill-color: #D2E3FC;\n",
              "      --hover-bg-color: #434B5C;\n",
              "      --hover-fill-color: #FFFFFF;\n",
              "      --disabled-bg-color: #3B4455;\n",
              "      --disabled-fill-color: #666;\n",
              "  }\n",
              "\n",
              "  .colab-df-quickchart {\n",
              "    background-color: var(--bg-color);\n",
              "    border: none;\n",
              "    border-radius: 50%;\n",
              "    cursor: pointer;\n",
              "    display: none;\n",
              "    fill: var(--fill-color);\n",
              "    height: 32px;\n",
              "    padding: 0;\n",
              "    width: 32px;\n",
              "  }\n",
              "\n",
              "  .colab-df-quickchart:hover {\n",
              "    background-color: var(--hover-bg-color);\n",
              "    box-shadow: 0 1px 2px rgba(60, 64, 67, 0.3), 0 1px 3px 1px rgba(60, 64, 67, 0.15);\n",
              "    fill: var(--button-hover-fill-color);\n",
              "  }\n",
              "\n",
              "  .colab-df-quickchart-complete:disabled,\n",
              "  .colab-df-quickchart-complete:disabled:hover {\n",
              "    background-color: var(--disabled-bg-color);\n",
              "    fill: var(--disabled-fill-color);\n",
              "    box-shadow: none;\n",
              "  }\n",
              "\n",
              "  .colab-df-spinner {\n",
              "    border: 2px solid var(--fill-color);\n",
              "    border-color: transparent;\n",
              "    border-bottom-color: var(--fill-color);\n",
              "    animation:\n",
              "      spin 1s steps(1) infinite;\n",
              "  }\n",
              "\n",
              "  @keyframes spin {\n",
              "    0% {\n",
              "      border-color: transparent;\n",
              "      border-bottom-color: var(--fill-color);\n",
              "      border-left-color: var(--fill-color);\n",
              "    }\n",
              "    20% {\n",
              "      border-color: transparent;\n",
              "      border-left-color: var(--fill-color);\n",
              "      border-top-color: var(--fill-color);\n",
              "    }\n",
              "    30% {\n",
              "      border-color: transparent;\n",
              "      border-left-color: var(--fill-color);\n",
              "      border-top-color: var(--fill-color);\n",
              "      border-right-color: var(--fill-color);\n",
              "    }\n",
              "    40% {\n",
              "      border-color: transparent;\n",
              "      border-right-color: var(--fill-color);\n",
              "      border-top-color: var(--fill-color);\n",
              "    }\n",
              "    60% {\n",
              "      border-color: transparent;\n",
              "      border-right-color: var(--fill-color);\n",
              "    }\n",
              "    80% {\n",
              "      border-color: transparent;\n",
              "      border-right-color: var(--fill-color);\n",
              "      border-bottom-color: var(--fill-color);\n",
              "    }\n",
              "    90% {\n",
              "      border-color: transparent;\n",
              "      border-bottom-color: var(--fill-color);\n",
              "    }\n",
              "  }\n",
              "</style>\n",
              "\n",
              "  <script>\n",
              "    async function quickchart(key) {\n",
              "      const quickchartButtonEl =\n",
              "        document.querySelector('#' + key + ' button');\n",
              "      quickchartButtonEl.disabled = true;  // To prevent multiple clicks.\n",
              "      quickchartButtonEl.classList.add('colab-df-spinner');\n",
              "      try {\n",
              "        const charts = await google.colab.kernel.invokeFunction(\n",
              "            'suggestCharts', [key], {});\n",
              "      } catch (error) {\n",
              "        console.error('Error during call to suggestCharts:', error);\n",
              "      }\n",
              "      quickchartButtonEl.classList.remove('colab-df-spinner');\n",
              "      quickchartButtonEl.classList.add('colab-df-quickchart-complete');\n",
              "    }\n",
              "    (() => {\n",
              "      let quickchartButtonEl =\n",
              "        document.querySelector('#df-f61bef16-0f2b-43e9-84cf-84e3c7686b8e button');\n",
              "      quickchartButtonEl.style.display =\n",
              "        google.colab.kernel.accessAllowed ? 'block' : 'none';\n",
              "    })();\n",
              "  </script>\n",
              "</div>\n",
              "    </div>\n",
              "  </div>\n"
            ]
          },
          "metadata": {},
          "execution_count": 100
        }
      ],
      "source": [
        "df_train = pd.read_csv('train.csv')\n",
        "df_train.head()"
      ]
    },
    {
      "cell_type": "code",
      "source": [
        "tabla = df_train.copy()\n",
        "tabla.drop(['name', 'summary', 'space', 'amenities', 'description','neighborhood_overview','transit','house_rules','picture_url','host_id','host_since', 'listing_id', 'zipcode'],axis=1,inplace=True)"
      ],
      "metadata": {
        "id": "OnESHh0_WGnE"
      },
      "execution_count": 101,
      "outputs": []
    },
    {
      "cell_type": "code",
      "source": [
        "print(tabla.shape)"
      ],
      "metadata": {
        "colab": {
          "base_uri": "https://localhost:8080/"
        },
        "id": "y3bMZsJx1M7V",
        "outputId": "a584dc14-b05e-4d8d-928e-150004537872"
      },
      "execution_count": 102,
      "outputs": [
        {
          "output_type": "stream",
          "name": "stdout",
          "text": [
            "(55284, 29)\n"
          ]
        }
      ]
    },
    {
      "cell_type": "markdown",
      "source": [
        "# 2 Tratamiento de datos"
      ],
      "metadata": {
        "id": "LD1gDYCAXBiH"
      }
    },
    {
      "cell_type": "markdown",
      "source": [
        "### 2.1 Nulos"
      ],
      "metadata": {
        "id": "J-Qeb1xsX8La"
      }
    },
    {
      "cell_type": "markdown",
      "source": [
        "Ya que no hay variables con una cantidad de datos nulos tan significativa que supere el 50% de sus datos, se decide no eliminar ninguna variable. En este caso se optará por llenar esos datos con la mediana o la moda según el caso."
      ],
      "metadata": {
        "id": "3uAFjprzYBki"
      }
    },
    {
      "cell_type": "code",
      "source": [
        "k = tabla.isna().sum()\n",
        "k[k!=0]"
      ],
      "metadata": {
        "colab": {
          "base_uri": "https://localhost:8080/"
        },
        "id": "0cEoFN34tSAY",
        "outputId": "aa53f6df-17e4-427d-9aaf-924f286249b3"
      },
      "execution_count": 103,
      "outputs": [
        {
          "output_type": "execute_result",
          "data": {
            "text/plain": [
              "host_response_time             17802\n",
              "host_response_rate             17802\n",
              "host_is_superhost                111\n",
              "host_total_listings_count        111\n",
              "host_has_profile_pic             111\n",
              "host_identity_verified           111\n",
              "neighbourhood                    147\n",
              "bathrooms                         70\n",
              "bedrooms                          62\n",
              "beds                             262\n",
              "review_scores_rating           13415\n",
              "review_scores_accuracy         13448\n",
              "review_scores_cleanliness      13442\n",
              "review_scores_checkin          13483\n",
              "review_scores_communication    13446\n",
              "review_scores_location         13480\n",
              "review_scores_value            13480\n",
              "reviews_per_month              12380\n",
              "dtype: int64"
            ]
          },
          "metadata": {},
          "execution_count": 103
        }
      ]
    },
    {
      "cell_type": "code",
      "source": [
        "tabla['host_response_time'].fillna(tabla['host_response_time'].mode()[0], inplace=True)\n",
        "tabla['host_response_rate'].fillna(tabla['host_response_rate'].mode()[0], inplace=True)\n",
        "tabla['host_is_superhost'].fillna(tabla['host_is_superhost'].mode()[0], inplace=True)\n",
        "tabla['host_total_listings_count'].fillna(tabla['host_total_listings_count'].median(), inplace=True)\n",
        "tabla['host_has_profile_pic'].fillna(tabla['host_has_profile_pic'].mode()[0], inplace=True)\n",
        "tabla['host_identity_verified'].fillna(tabla['host_identity_verified'].mode()[0], inplace=True)\n",
        "tabla.dropna(subset=['neighbourhood'], inplace=True)\n",
        "#tabla.dropna(subset=['zipcode'], inplace=True)\n",
        "tabla['bathrooms'].fillna(tabla['bathrooms'].mode()[0], inplace=True)\n",
        "tabla['bedrooms'].fillna(tabla['bedrooms'].mode()[0], inplace=True)\n",
        "tabla['beds'].fillna(tabla['beds'].mode()[0], inplace=True)\n",
        "tabla['review_scores_rating'].fillna(tabla['review_scores_rating'].mode()[0], inplace=True)\n",
        "tabla['review_scores_accuracy'].fillna(tabla['review_scores_accuracy'].mode()[0], inplace=True)\n",
        "tabla['review_scores_cleanliness'].fillna(tabla['review_scores_cleanliness'].mode()[0], inplace=True)\n",
        "tabla['review_scores_checkin'].fillna(tabla['review_scores_checkin'].mode()[0], inplace=True)\n",
        "tabla['review_scores_communication'].fillna(tabla['review_scores_communication'].mode()[0], inplace=True)\n",
        "tabla['review_scores_location'].fillna(tabla['review_scores_location'].mode()[0], inplace=True)\n",
        "tabla['review_scores_value'].fillna(tabla['review_scores_value'].mode()[0], inplace=True)\n",
        "tabla['reviews_per_month'].fillna(tabla['reviews_per_month'].mode()[0], inplace=True)"
      ],
      "metadata": {
        "id": "CzhsSjoPXKpT"
      },
      "execution_count": 104,
      "outputs": []
    },
    {
      "cell_type": "code",
      "source": [
        "k_2 = tabla.isnull().sum()\n",
        "k_2"
      ],
      "metadata": {
        "colab": {
          "base_uri": "https://localhost:8080/"
        },
        "id": "nClD_DrcyNvV",
        "outputId": "01e3aace-c0c3-45e8-855c-642d2fe888f6"
      },
      "execution_count": 105,
      "outputs": [
        {
          "output_type": "execute_result",
          "data": {
            "text/plain": [
              "experiences_offered            0\n",
              "host_response_time             0\n",
              "host_response_rate             0\n",
              "host_is_superhost              0\n",
              "host_total_listings_count      0\n",
              "host_has_profile_pic           0\n",
              "host_identity_verified         0\n",
              "neighbourhood                  0\n",
              "neighbourhood_cleansed         0\n",
              "latitude                       0\n",
              "longitude                      0\n",
              "property_type                  0\n",
              "room_type                      0\n",
              "accommodates                   0\n",
              "bathrooms                      0\n",
              "bedrooms                       0\n",
              "beds                           0\n",
              "bed_type                       0\n",
              "price                          0\n",
              "guests_included                0\n",
              "review_scores_rating           0\n",
              "review_scores_accuracy         0\n",
              "review_scores_cleanliness      0\n",
              "review_scores_checkin          0\n",
              "review_scores_communication    0\n",
              "review_scores_location         0\n",
              "review_scores_value            0\n",
              "cancellation_policy            0\n",
              "reviews_per_month              0\n",
              "dtype: int64"
            ]
          },
          "metadata": {},
          "execution_count": 105
        }
      ]
    },
    {
      "cell_type": "code",
      "source": [
        "tabla.shape"
      ],
      "metadata": {
        "colab": {
          "base_uri": "https://localhost:8080/"
        },
        "id": "OAexXeYZ1AJa",
        "outputId": "b962897a-81f9-4482-866c-1f2fc7c20b49"
      },
      "execution_count": 106,
      "outputs": [
        {
          "output_type": "execute_result",
          "data": {
            "text/plain": [
              "(55137, 29)"
            ]
          },
          "metadata": {},
          "execution_count": 106
        }
      ]
    },
    {
      "cell_type": "markdown",
      "source": [
        "### 2.2 Normalización"
      ],
      "metadata": {
        "id": "yRuSZ16CB8Mz"
      }
    },
    {
      "cell_type": "code",
      "source": [
        "# Eliminación de variables que se correlacionan\n",
        "tabla_limpia = tabla.copy()\n",
        "tabla_limpia.drop(['review_scores_rating', 'accommodates', 'bedrooms', 'review_scores_accuracy','host_has_profile_pic', 'bed_type'], axis=1, inplace=True)"
      ],
      "metadata": {
        "id": "VyZpQrAkia9W"
      },
      "execution_count": 107,
      "outputs": []
    },
    {
      "cell_type": "code",
      "source": [
        "tabla_limpia.shape"
      ],
      "metadata": {
        "colab": {
          "base_uri": "https://localhost:8080/"
        },
        "id": "QU-UrodHiexr",
        "outputId": "021130da-b6d8-4869-8c1c-fdb11ef7e3b9"
      },
      "execution_count": 108,
      "outputs": [
        {
          "output_type": "execute_result",
          "data": {
            "text/plain": [
              "(55137, 23)"
            ]
          },
          "metadata": {},
          "execution_count": 108
        }
      ]
    },
    {
      "cell_type": "code",
      "source": [
        "tabla_limpia.info()"
      ],
      "metadata": {
        "colab": {
          "base_uri": "https://localhost:8080/"
        },
        "id": "gygJeOnRB-ls",
        "outputId": "509618a1-1ccb-4df4-eb0d-a388ec7c44a3"
      },
      "execution_count": 109,
      "outputs": [
        {
          "output_type": "stream",
          "name": "stdout",
          "text": [
            "<class 'pandas.core.frame.DataFrame'>\n",
            "Int64Index: 55137 entries, 0 to 55283\n",
            "Data columns (total 23 columns):\n",
            " #   Column                       Non-Null Count  Dtype  \n",
            "---  ------                       --------------  -----  \n",
            " 0   experiences_offered          55137 non-null  object \n",
            " 1   host_response_time           55137 non-null  object \n",
            " 2   host_response_rate           55137 non-null  object \n",
            " 3   host_is_superhost            55137 non-null  object \n",
            " 4   host_total_listings_count    55137 non-null  float64\n",
            " 5   host_identity_verified       55137 non-null  object \n",
            " 6   neighbourhood                55137 non-null  object \n",
            " 7   neighbourhood_cleansed       55137 non-null  object \n",
            " 8   latitude                     55137 non-null  float64\n",
            " 9   longitude                    55137 non-null  float64\n",
            " 10  property_type                55137 non-null  object \n",
            " 11  room_type                    55137 non-null  object \n",
            " 12  bathrooms                    55137 non-null  float64\n",
            " 13  beds                         55137 non-null  float64\n",
            " 14  price                        55137 non-null  float64\n",
            " 15  guests_included              55137 non-null  int64  \n",
            " 16  review_scores_cleanliness    55137 non-null  float64\n",
            " 17  review_scores_checkin        55137 non-null  float64\n",
            " 18  review_scores_communication  55137 non-null  float64\n",
            " 19  review_scores_location       55137 non-null  float64\n",
            " 20  review_scores_value          55137 non-null  float64\n",
            " 21  cancellation_policy          55137 non-null  object \n",
            " 22  reviews_per_month            55137 non-null  float64\n",
            "dtypes: float64(12), int64(1), object(10)\n",
            "memory usage: 10.1+ MB\n"
          ]
        }
      ]
    },
    {
      "cell_type": "code",
      "source": [
        "tablabase=tabla_limpia.copy()\n",
        "columnascategoricas=['experiences_offered', 'host_response_time', 'host_response_rate', 'host_is_superhost', 'host_identity_verified', 'neighbourhood', 'neighbourhood_cleansed', 'property_type', 'room_type', 'cancellation_policy']\n",
        "tablabase[columnascategoricas] = tablabase[columnascategoricas].astype(str)\n",
        "tablabase.dtypes"
      ],
      "metadata": {
        "colab": {
          "base_uri": "https://localhost:8080/"
        },
        "id": "ilg6uJoICG6Q",
        "outputId": "0515f83d-2f58-4199-a16d-33e7f2b24e8b"
      },
      "execution_count": 110,
      "outputs": [
        {
          "output_type": "execute_result",
          "data": {
            "text/plain": [
              "experiences_offered             object\n",
              "host_response_time              object\n",
              "host_response_rate              object\n",
              "host_is_superhost               object\n",
              "host_total_listings_count      float64\n",
              "host_identity_verified          object\n",
              "neighbourhood                   object\n",
              "neighbourhood_cleansed          object\n",
              "latitude                       float64\n",
              "longitude                      float64\n",
              "property_type                   object\n",
              "room_type                       object\n",
              "bathrooms                      float64\n",
              "beds                           float64\n",
              "price                          float64\n",
              "guests_included                  int64\n",
              "review_scores_cleanliness      float64\n",
              "review_scores_checkin          float64\n",
              "review_scores_communication    float64\n",
              "review_scores_location         float64\n",
              "review_scores_value            float64\n",
              "cancellation_policy             object\n",
              "reviews_per_month              float64\n",
              "dtype: object"
            ]
          },
          "metadata": {},
          "execution_count": 110
        }
      ]
    },
    {
      "cell_type": "code",
      "source": [
        "tablabase1=pd.get_dummies(tablabase)\n",
        "tablabase1"
      ],
      "metadata": {
        "colab": {
          "base_uri": "https://localhost:8080/",
          "height": 0
        },
        "id": "eysLpmfbDaPC",
        "outputId": "e696e9c9-968f-466c-acbc-678b05e1127e"
      },
      "execution_count": 111,
      "outputs": [
        {
          "output_type": "execute_result",
          "data": {
            "text/plain": [
              "       host_total_listings_count  latitude  longitude  bathrooms  beds  price  \\\n",
              "0                            1.0  51.47457   -0.01062        1.0   1.0   35.0   \n",
              "1                            1.0  51.58329   -0.12416        1.0   1.0   75.0   \n",
              "2                            2.0  51.41634   -0.18567        1.0   2.0  120.0   \n",
              "3                            1.0  51.45622   -0.14137        1.0   1.0   50.0   \n",
              "4                            2.0  51.48114   -0.11219        1.0   2.0  104.0   \n",
              "...                          ...       ...        ...        ...   ...    ...   \n",
              "55279                        2.0  51.47078   -0.10048        1.0   1.0   65.0   \n",
              "55280                        1.0  51.53341   -0.00913        1.0   0.0   40.0   \n",
              "55281                        4.0  51.57463   -0.14177        2.0   4.0   89.0   \n",
              "55282                        1.0  51.56586   -0.10193        1.0   1.0   80.0   \n",
              "55283                        2.0  51.48549   -0.26685        1.0   1.0  110.0   \n",
              "\n",
              "       guests_included  review_scores_cleanliness  review_scores_checkin  \\\n",
              "0                    1                       10.0                   10.0   \n",
              "1                    2                       10.0                   10.0   \n",
              "2                    2                        9.0                   10.0   \n",
              "3                    1                       10.0                   10.0   \n",
              "4                    1                       10.0                   10.0   \n",
              "...                ...                        ...                    ...   \n",
              "55279                1                       10.0                   10.0   \n",
              "55280                1                       10.0                   10.0   \n",
              "55281                2                       10.0                   10.0   \n",
              "55282                2                       10.0                    9.0   \n",
              "55283                1                       10.0                   10.0   \n",
              "\n",
              "       review_scores_communication  ...  room_type_Private room  \\\n",
              "0                             10.0  ...                       1   \n",
              "1                             10.0  ...                       1   \n",
              "2                             10.0  ...                       0   \n",
              "3                             10.0  ...                       1   \n",
              "4                             10.0  ...                       0   \n",
              "...                            ...  ...                     ...   \n",
              "55279                         10.0  ...                       1   \n",
              "55280                         10.0  ...                       1   \n",
              "55281                         10.0  ...                       0   \n",
              "55282                         10.0  ...                       0   \n",
              "55283                         10.0  ...                       1   \n",
              "\n",
              "       room_type_Shared room  cancellation_policy_flexible  \\\n",
              "0                          0                             0   \n",
              "1                          0                             0   \n",
              "2                          0                             0   \n",
              "3                          0                             1   \n",
              "4                          0                             0   \n",
              "...                      ...                           ...   \n",
              "55279                      0                             0   \n",
              "55280                      0                             1   \n",
              "55281                      0                             1   \n",
              "55282                      0                             0   \n",
              "55283                      0                             0   \n",
              "\n",
              "       cancellation_policy_luxury_moderate  \\\n",
              "0                                        0   \n",
              "1                                        0   \n",
              "2                                        0   \n",
              "3                                        0   \n",
              "4                                        0   \n",
              "...                                    ...   \n",
              "55279                                    0   \n",
              "55280                                    0   \n",
              "55281                                    0   \n",
              "55282                                    0   \n",
              "55283                                    0   \n",
              "\n",
              "       cancellation_policy_luxury_super_strict_95  \\\n",
              "0                                               0   \n",
              "1                                               0   \n",
              "2                                               0   \n",
              "3                                               0   \n",
              "4                                               0   \n",
              "...                                           ...   \n",
              "55279                                           0   \n",
              "55280                                           0   \n",
              "55281                                           0   \n",
              "55282                                           0   \n",
              "55283                                           0   \n",
              "\n",
              "       cancellation_policy_moderate  cancellation_policy_strict  \\\n",
              "0                                 0                           0   \n",
              "1                                 1                           0   \n",
              "2                                 0                           0   \n",
              "3                                 0                           0   \n",
              "4                                 0                           0   \n",
              "...                             ...                         ...   \n",
              "55279                             0                           0   \n",
              "55280                             0                           0   \n",
              "55281                             0                           0   \n",
              "55282                             1                           0   \n",
              "55283                             1                           0   \n",
              "\n",
              "       cancellation_policy_strict_14_with_grace_period  \\\n",
              "0                                                    1   \n",
              "1                                                    0   \n",
              "2                                                    1   \n",
              "3                                                    0   \n",
              "4                                                    1   \n",
              "...                                                ...   \n",
              "55279                                                1   \n",
              "55280                                                0   \n",
              "55281                                                0   \n",
              "55282                                                0   \n",
              "55283                                                0   \n",
              "\n",
              "       cancellation_policy_super_strict_30  \\\n",
              "0                                        0   \n",
              "1                                        0   \n",
              "2                                        0   \n",
              "3                                        0   \n",
              "4                                        0   \n",
              "...                                    ...   \n",
              "55279                                    0   \n",
              "55280                                    0   \n",
              "55281                                    0   \n",
              "55282                                    0   \n",
              "55283                                    0   \n",
              "\n",
              "       cancellation_policy_super_strict_60  \n",
              "0                                        0  \n",
              "1                                        0  \n",
              "2                                        0  \n",
              "3                                        0  \n",
              "4                                        0  \n",
              "...                                    ...  \n",
              "55279                                    0  \n",
              "55280                                    0  \n",
              "55281                                    0  \n",
              "55282                                    0  \n",
              "55283                                    0  \n",
              "\n",
              "[55137 rows x 327 columns]"
            ],
            "text/html": [
              "\n",
              "  <div id=\"df-0765ea7e-dd89-49f1-a6c9-d7eb0d5f06e7\" class=\"colab-df-container\">\n",
              "    <div>\n",
              "<style scoped>\n",
              "    .dataframe tbody tr th:only-of-type {\n",
              "        vertical-align: middle;\n",
              "    }\n",
              "\n",
              "    .dataframe tbody tr th {\n",
              "        vertical-align: top;\n",
              "    }\n",
              "\n",
              "    .dataframe thead th {\n",
              "        text-align: right;\n",
              "    }\n",
              "</style>\n",
              "<table border=\"1\" class=\"dataframe\">\n",
              "  <thead>\n",
              "    <tr style=\"text-align: right;\">\n",
              "      <th></th>\n",
              "      <th>host_total_listings_count</th>\n",
              "      <th>latitude</th>\n",
              "      <th>longitude</th>\n",
              "      <th>bathrooms</th>\n",
              "      <th>beds</th>\n",
              "      <th>price</th>\n",
              "      <th>guests_included</th>\n",
              "      <th>review_scores_cleanliness</th>\n",
              "      <th>review_scores_checkin</th>\n",
              "      <th>review_scores_communication</th>\n",
              "      <th>...</th>\n",
              "      <th>room_type_Private room</th>\n",
              "      <th>room_type_Shared room</th>\n",
              "      <th>cancellation_policy_flexible</th>\n",
              "      <th>cancellation_policy_luxury_moderate</th>\n",
              "      <th>cancellation_policy_luxury_super_strict_95</th>\n",
              "      <th>cancellation_policy_moderate</th>\n",
              "      <th>cancellation_policy_strict</th>\n",
              "      <th>cancellation_policy_strict_14_with_grace_period</th>\n",
              "      <th>cancellation_policy_super_strict_30</th>\n",
              "      <th>cancellation_policy_super_strict_60</th>\n",
              "    </tr>\n",
              "  </thead>\n",
              "  <tbody>\n",
              "    <tr>\n",
              "      <th>0</th>\n",
              "      <td>1.0</td>\n",
              "      <td>51.47457</td>\n",
              "      <td>-0.01062</td>\n",
              "      <td>1.0</td>\n",
              "      <td>1.0</td>\n",
              "      <td>35.0</td>\n",
              "      <td>1</td>\n",
              "      <td>10.0</td>\n",
              "      <td>10.0</td>\n",
              "      <td>10.0</td>\n",
              "      <td>...</td>\n",
              "      <td>1</td>\n",
              "      <td>0</td>\n",
              "      <td>0</td>\n",
              "      <td>0</td>\n",
              "      <td>0</td>\n",
              "      <td>0</td>\n",
              "      <td>0</td>\n",
              "      <td>1</td>\n",
              "      <td>0</td>\n",
              "      <td>0</td>\n",
              "    </tr>\n",
              "    <tr>\n",
              "      <th>1</th>\n",
              "      <td>1.0</td>\n",
              "      <td>51.58329</td>\n",
              "      <td>-0.12416</td>\n",
              "      <td>1.0</td>\n",
              "      <td>1.0</td>\n",
              "      <td>75.0</td>\n",
              "      <td>2</td>\n",
              "      <td>10.0</td>\n",
              "      <td>10.0</td>\n",
              "      <td>10.0</td>\n",
              "      <td>...</td>\n",
              "      <td>1</td>\n",
              "      <td>0</td>\n",
              "      <td>0</td>\n",
              "      <td>0</td>\n",
              "      <td>0</td>\n",
              "      <td>1</td>\n",
              "      <td>0</td>\n",
              "      <td>0</td>\n",
              "      <td>0</td>\n",
              "      <td>0</td>\n",
              "    </tr>\n",
              "    <tr>\n",
              "      <th>2</th>\n",
              "      <td>2.0</td>\n",
              "      <td>51.41634</td>\n",
              "      <td>-0.18567</td>\n",
              "      <td>1.0</td>\n",
              "      <td>2.0</td>\n",
              "      <td>120.0</td>\n",
              "      <td>2</td>\n",
              "      <td>9.0</td>\n",
              "      <td>10.0</td>\n",
              "      <td>10.0</td>\n",
              "      <td>...</td>\n",
              "      <td>0</td>\n",
              "      <td>0</td>\n",
              "      <td>0</td>\n",
              "      <td>0</td>\n",
              "      <td>0</td>\n",
              "      <td>0</td>\n",
              "      <td>0</td>\n",
              "      <td>1</td>\n",
              "      <td>0</td>\n",
              "      <td>0</td>\n",
              "    </tr>\n",
              "    <tr>\n",
              "      <th>3</th>\n",
              "      <td>1.0</td>\n",
              "      <td>51.45622</td>\n",
              "      <td>-0.14137</td>\n",
              "      <td>1.0</td>\n",
              "      <td>1.0</td>\n",
              "      <td>50.0</td>\n",
              "      <td>1</td>\n",
              "      <td>10.0</td>\n",
              "      <td>10.0</td>\n",
              "      <td>10.0</td>\n",
              "      <td>...</td>\n",
              "      <td>1</td>\n",
              "      <td>0</td>\n",
              "      <td>1</td>\n",
              "      <td>0</td>\n",
              "      <td>0</td>\n",
              "      <td>0</td>\n",
              "      <td>0</td>\n",
              "      <td>0</td>\n",
              "      <td>0</td>\n",
              "      <td>0</td>\n",
              "    </tr>\n",
              "    <tr>\n",
              "      <th>4</th>\n",
              "      <td>2.0</td>\n",
              "      <td>51.48114</td>\n",
              "      <td>-0.11219</td>\n",
              "      <td>1.0</td>\n",
              "      <td>2.0</td>\n",
              "      <td>104.0</td>\n",
              "      <td>1</td>\n",
              "      <td>10.0</td>\n",
              "      <td>10.0</td>\n",
              "      <td>10.0</td>\n",
              "      <td>...</td>\n",
              "      <td>0</td>\n",
              "      <td>0</td>\n",
              "      <td>0</td>\n",
              "      <td>0</td>\n",
              "      <td>0</td>\n",
              "      <td>0</td>\n",
              "      <td>0</td>\n",
              "      <td>1</td>\n",
              "      <td>0</td>\n",
              "      <td>0</td>\n",
              "    </tr>\n",
              "    <tr>\n",
              "      <th>...</th>\n",
              "      <td>...</td>\n",
              "      <td>...</td>\n",
              "      <td>...</td>\n",
              "      <td>...</td>\n",
              "      <td>...</td>\n",
              "      <td>...</td>\n",
              "      <td>...</td>\n",
              "      <td>...</td>\n",
              "      <td>...</td>\n",
              "      <td>...</td>\n",
              "      <td>...</td>\n",
              "      <td>...</td>\n",
              "      <td>...</td>\n",
              "      <td>...</td>\n",
              "      <td>...</td>\n",
              "      <td>...</td>\n",
              "      <td>...</td>\n",
              "      <td>...</td>\n",
              "      <td>...</td>\n",
              "      <td>...</td>\n",
              "      <td>...</td>\n",
              "    </tr>\n",
              "    <tr>\n",
              "      <th>55279</th>\n",
              "      <td>2.0</td>\n",
              "      <td>51.47078</td>\n",
              "      <td>-0.10048</td>\n",
              "      <td>1.0</td>\n",
              "      <td>1.0</td>\n",
              "      <td>65.0</td>\n",
              "      <td>1</td>\n",
              "      <td>10.0</td>\n",
              "      <td>10.0</td>\n",
              "      <td>10.0</td>\n",
              "      <td>...</td>\n",
              "      <td>1</td>\n",
              "      <td>0</td>\n",
              "      <td>0</td>\n",
              "      <td>0</td>\n",
              "      <td>0</td>\n",
              "      <td>0</td>\n",
              "      <td>0</td>\n",
              "      <td>1</td>\n",
              "      <td>0</td>\n",
              "      <td>0</td>\n",
              "    </tr>\n",
              "    <tr>\n",
              "      <th>55280</th>\n",
              "      <td>1.0</td>\n",
              "      <td>51.53341</td>\n",
              "      <td>-0.00913</td>\n",
              "      <td>1.0</td>\n",
              "      <td>0.0</td>\n",
              "      <td>40.0</td>\n",
              "      <td>1</td>\n",
              "      <td>10.0</td>\n",
              "      <td>10.0</td>\n",
              "      <td>10.0</td>\n",
              "      <td>...</td>\n",
              "      <td>1</td>\n",
              "      <td>0</td>\n",
              "      <td>1</td>\n",
              "      <td>0</td>\n",
              "      <td>0</td>\n",
              "      <td>0</td>\n",
              "      <td>0</td>\n",
              "      <td>0</td>\n",
              "      <td>0</td>\n",
              "      <td>0</td>\n",
              "    </tr>\n",
              "    <tr>\n",
              "      <th>55281</th>\n",
              "      <td>4.0</td>\n",
              "      <td>51.57463</td>\n",
              "      <td>-0.14177</td>\n",
              "      <td>2.0</td>\n",
              "      <td>4.0</td>\n",
              "      <td>89.0</td>\n",
              "      <td>2</td>\n",
              "      <td>10.0</td>\n",
              "      <td>10.0</td>\n",
              "      <td>10.0</td>\n",
              "      <td>...</td>\n",
              "      <td>0</td>\n",
              "      <td>0</td>\n",
              "      <td>1</td>\n",
              "      <td>0</td>\n",
              "      <td>0</td>\n",
              "      <td>0</td>\n",
              "      <td>0</td>\n",
              "      <td>0</td>\n",
              "      <td>0</td>\n",
              "      <td>0</td>\n",
              "    </tr>\n",
              "    <tr>\n",
              "      <th>55282</th>\n",
              "      <td>1.0</td>\n",
              "      <td>51.56586</td>\n",
              "      <td>-0.10193</td>\n",
              "      <td>1.0</td>\n",
              "      <td>1.0</td>\n",
              "      <td>80.0</td>\n",
              "      <td>2</td>\n",
              "      <td>10.0</td>\n",
              "      <td>9.0</td>\n",
              "      <td>10.0</td>\n",
              "      <td>...</td>\n",
              "      <td>0</td>\n",
              "      <td>0</td>\n",
              "      <td>0</td>\n",
              "      <td>0</td>\n",
              "      <td>0</td>\n",
              "      <td>1</td>\n",
              "      <td>0</td>\n",
              "      <td>0</td>\n",
              "      <td>0</td>\n",
              "      <td>0</td>\n",
              "    </tr>\n",
              "    <tr>\n",
              "      <th>55283</th>\n",
              "      <td>2.0</td>\n",
              "      <td>51.48549</td>\n",
              "      <td>-0.26685</td>\n",
              "      <td>1.0</td>\n",
              "      <td>1.0</td>\n",
              "      <td>110.0</td>\n",
              "      <td>1</td>\n",
              "      <td>10.0</td>\n",
              "      <td>10.0</td>\n",
              "      <td>10.0</td>\n",
              "      <td>...</td>\n",
              "      <td>1</td>\n",
              "      <td>0</td>\n",
              "      <td>0</td>\n",
              "      <td>0</td>\n",
              "      <td>0</td>\n",
              "      <td>1</td>\n",
              "      <td>0</td>\n",
              "      <td>0</td>\n",
              "      <td>0</td>\n",
              "      <td>0</td>\n",
              "    </tr>\n",
              "  </tbody>\n",
              "</table>\n",
              "<p>55137 rows × 327 columns</p>\n",
              "</div>\n",
              "    <div class=\"colab-df-buttons\">\n",
              "\n",
              "  <div class=\"colab-df-container\">\n",
              "    <button class=\"colab-df-convert\" onclick=\"convertToInteractive('df-0765ea7e-dd89-49f1-a6c9-d7eb0d5f06e7')\"\n",
              "            title=\"Convert this dataframe to an interactive table.\"\n",
              "            style=\"display:none;\">\n",
              "\n",
              "  <svg xmlns=\"http://www.w3.org/2000/svg\" height=\"24px\" viewBox=\"0 -960 960 960\">\n",
              "    <path d=\"M120-120v-720h720v720H120Zm60-500h600v-160H180v160Zm220 220h160v-160H400v160Zm0 220h160v-160H400v160ZM180-400h160v-160H180v160Zm440 0h160v-160H620v160ZM180-180h160v-160H180v160Zm440 0h160v-160H620v160Z\"/>\n",
              "  </svg>\n",
              "    </button>\n",
              "\n",
              "  <style>\n",
              "    .colab-df-container {\n",
              "      display:flex;\n",
              "      gap: 12px;\n",
              "    }\n",
              "\n",
              "    .colab-df-convert {\n",
              "      background-color: #E8F0FE;\n",
              "      border: none;\n",
              "      border-radius: 50%;\n",
              "      cursor: pointer;\n",
              "      display: none;\n",
              "      fill: #1967D2;\n",
              "      height: 32px;\n",
              "      padding: 0 0 0 0;\n",
              "      width: 32px;\n",
              "    }\n",
              "\n",
              "    .colab-df-convert:hover {\n",
              "      background-color: #E2EBFA;\n",
              "      box-shadow: 0px 1px 2px rgba(60, 64, 67, 0.3), 0px 1px 3px 1px rgba(60, 64, 67, 0.15);\n",
              "      fill: #174EA6;\n",
              "    }\n",
              "\n",
              "    .colab-df-buttons div {\n",
              "      margin-bottom: 4px;\n",
              "    }\n",
              "\n",
              "    [theme=dark] .colab-df-convert {\n",
              "      background-color: #3B4455;\n",
              "      fill: #D2E3FC;\n",
              "    }\n",
              "\n",
              "    [theme=dark] .colab-df-convert:hover {\n",
              "      background-color: #434B5C;\n",
              "      box-shadow: 0px 1px 3px 1px rgba(0, 0, 0, 0.15);\n",
              "      filter: drop-shadow(0px 1px 2px rgba(0, 0, 0, 0.3));\n",
              "      fill: #FFFFFF;\n",
              "    }\n",
              "  </style>\n",
              "\n",
              "    <script>\n",
              "      const buttonEl =\n",
              "        document.querySelector('#df-0765ea7e-dd89-49f1-a6c9-d7eb0d5f06e7 button.colab-df-convert');\n",
              "      buttonEl.style.display =\n",
              "        google.colab.kernel.accessAllowed ? 'block' : 'none';\n",
              "\n",
              "      async function convertToInteractive(key) {\n",
              "        const element = document.querySelector('#df-0765ea7e-dd89-49f1-a6c9-d7eb0d5f06e7');\n",
              "        const dataTable =\n",
              "          await google.colab.kernel.invokeFunction('convertToInteractive',\n",
              "                                                    [key], {});\n",
              "        if (!dataTable) return;\n",
              "\n",
              "        const docLinkHtml = 'Like what you see? Visit the ' +\n",
              "          '<a target=\"_blank\" href=https://colab.research.google.com/notebooks/data_table.ipynb>data table notebook</a>'\n",
              "          + ' to learn more about interactive tables.';\n",
              "        element.innerHTML = '';\n",
              "        dataTable['output_type'] = 'display_data';\n",
              "        await google.colab.output.renderOutput(dataTable, element);\n",
              "        const docLink = document.createElement('div');\n",
              "        docLink.innerHTML = docLinkHtml;\n",
              "        element.appendChild(docLink);\n",
              "      }\n",
              "    </script>\n",
              "  </div>\n",
              "\n",
              "\n",
              "<div id=\"df-c3e7373a-838a-444b-a399-3a2a06718bc0\">\n",
              "  <button class=\"colab-df-quickchart\" onclick=\"quickchart('df-c3e7373a-838a-444b-a399-3a2a06718bc0')\"\n",
              "            title=\"Suggest charts\"\n",
              "            style=\"display:none;\">\n",
              "\n",
              "<svg xmlns=\"http://www.w3.org/2000/svg\" height=\"24px\"viewBox=\"0 0 24 24\"\n",
              "     width=\"24px\">\n",
              "    <g>\n",
              "        <path d=\"M19 3H5c-1.1 0-2 .9-2 2v14c0 1.1.9 2 2 2h14c1.1 0 2-.9 2-2V5c0-1.1-.9-2-2-2zM9 17H7v-7h2v7zm4 0h-2V7h2v10zm4 0h-2v-4h2v4z\"/>\n",
              "    </g>\n",
              "</svg>\n",
              "  </button>\n",
              "\n",
              "<style>\n",
              "  .colab-df-quickchart {\n",
              "      --bg-color: #E8F0FE;\n",
              "      --fill-color: #1967D2;\n",
              "      --hover-bg-color: #E2EBFA;\n",
              "      --hover-fill-color: #174EA6;\n",
              "      --disabled-fill-color: #AAA;\n",
              "      --disabled-bg-color: #DDD;\n",
              "  }\n",
              "\n",
              "  [theme=dark] .colab-df-quickchart {\n",
              "      --bg-color: #3B4455;\n",
              "      --fill-color: #D2E3FC;\n",
              "      --hover-bg-color: #434B5C;\n",
              "      --hover-fill-color: #FFFFFF;\n",
              "      --disabled-bg-color: #3B4455;\n",
              "      --disabled-fill-color: #666;\n",
              "  }\n",
              "\n",
              "  .colab-df-quickchart {\n",
              "    background-color: var(--bg-color);\n",
              "    border: none;\n",
              "    border-radius: 50%;\n",
              "    cursor: pointer;\n",
              "    display: none;\n",
              "    fill: var(--fill-color);\n",
              "    height: 32px;\n",
              "    padding: 0;\n",
              "    width: 32px;\n",
              "  }\n",
              "\n",
              "  .colab-df-quickchart:hover {\n",
              "    background-color: var(--hover-bg-color);\n",
              "    box-shadow: 0 1px 2px rgba(60, 64, 67, 0.3), 0 1px 3px 1px rgba(60, 64, 67, 0.15);\n",
              "    fill: var(--button-hover-fill-color);\n",
              "  }\n",
              "\n",
              "  .colab-df-quickchart-complete:disabled,\n",
              "  .colab-df-quickchart-complete:disabled:hover {\n",
              "    background-color: var(--disabled-bg-color);\n",
              "    fill: var(--disabled-fill-color);\n",
              "    box-shadow: none;\n",
              "  }\n",
              "\n",
              "  .colab-df-spinner {\n",
              "    border: 2px solid var(--fill-color);\n",
              "    border-color: transparent;\n",
              "    border-bottom-color: var(--fill-color);\n",
              "    animation:\n",
              "      spin 1s steps(1) infinite;\n",
              "  }\n",
              "\n",
              "  @keyframes spin {\n",
              "    0% {\n",
              "      border-color: transparent;\n",
              "      border-bottom-color: var(--fill-color);\n",
              "      border-left-color: var(--fill-color);\n",
              "    }\n",
              "    20% {\n",
              "      border-color: transparent;\n",
              "      border-left-color: var(--fill-color);\n",
              "      border-top-color: var(--fill-color);\n",
              "    }\n",
              "    30% {\n",
              "      border-color: transparent;\n",
              "      border-left-color: var(--fill-color);\n",
              "      border-top-color: var(--fill-color);\n",
              "      border-right-color: var(--fill-color);\n",
              "    }\n",
              "    40% {\n",
              "      border-color: transparent;\n",
              "      border-right-color: var(--fill-color);\n",
              "      border-top-color: var(--fill-color);\n",
              "    }\n",
              "    60% {\n",
              "      border-color: transparent;\n",
              "      border-right-color: var(--fill-color);\n",
              "    }\n",
              "    80% {\n",
              "      border-color: transparent;\n",
              "      border-right-color: var(--fill-color);\n",
              "      border-bottom-color: var(--fill-color);\n",
              "    }\n",
              "    90% {\n",
              "      border-color: transparent;\n",
              "      border-bottom-color: var(--fill-color);\n",
              "    }\n",
              "  }\n",
              "</style>\n",
              "\n",
              "  <script>\n",
              "    async function quickchart(key) {\n",
              "      const quickchartButtonEl =\n",
              "        document.querySelector('#' + key + ' button');\n",
              "      quickchartButtonEl.disabled = true;  // To prevent multiple clicks.\n",
              "      quickchartButtonEl.classList.add('colab-df-spinner');\n",
              "      try {\n",
              "        const charts = await google.colab.kernel.invokeFunction(\n",
              "            'suggestCharts', [key], {});\n",
              "      } catch (error) {\n",
              "        console.error('Error during call to suggestCharts:', error);\n",
              "      }\n",
              "      quickchartButtonEl.classList.remove('colab-df-spinner');\n",
              "      quickchartButtonEl.classList.add('colab-df-quickchart-complete');\n",
              "    }\n",
              "    (() => {\n",
              "      let quickchartButtonEl =\n",
              "        document.querySelector('#df-c3e7373a-838a-444b-a399-3a2a06718bc0 button');\n",
              "      quickchartButtonEl.style.display =\n",
              "        google.colab.kernel.accessAllowed ? 'block' : 'none';\n",
              "    })();\n",
              "  </script>\n",
              "</div>\n",
              "    </div>\n",
              "  </div>\n"
            ]
          },
          "metadata": {},
          "execution_count": 111
        }
      ]
    },
    {
      "cell_type": "code",
      "source": [
        "tabla_completa=pd.get_dummies(tabla)\n",
        "tabla_completa"
      ],
      "metadata": {
        "colab": {
          "base_uri": "https://localhost:8080/",
          "height": 0
        },
        "id": "UdA9XyrKjSQZ",
        "outputId": "b549db74-b7bc-44ae-f72b-41abfbd69bac"
      },
      "execution_count": 112,
      "outputs": [
        {
          "output_type": "execute_result",
          "data": {
            "text/plain": [
              "       host_total_listings_count  latitude  longitude  accommodates  \\\n",
              "0                            1.0  51.47457   -0.01062             2   \n",
              "1                            1.0  51.58329   -0.12416             2   \n",
              "2                            2.0  51.41634   -0.18567             5   \n",
              "3                            1.0  51.45622   -0.14137             1   \n",
              "4                            2.0  51.48114   -0.11219             3   \n",
              "...                          ...       ...        ...           ...   \n",
              "55279                        2.0  51.47078   -0.10048             2   \n",
              "55280                        1.0  51.53341   -0.00913             2   \n",
              "55281                        4.0  51.57463   -0.14177             7   \n",
              "55282                        1.0  51.56586   -0.10193             2   \n",
              "55283                        2.0  51.48549   -0.26685             2   \n",
              "\n",
              "       bathrooms  bedrooms  beds  price  guests_included  \\\n",
              "0            1.0       1.0   1.0   35.0                1   \n",
              "1            1.0       1.0   1.0   75.0                2   \n",
              "2            1.0       1.0   2.0  120.0                2   \n",
              "3            1.0       1.0   1.0   50.0                1   \n",
              "4            1.0       2.0   2.0  104.0                1   \n",
              "...          ...       ...   ...    ...              ...   \n",
              "55279        1.0       1.0   1.0   65.0                1   \n",
              "55280        1.0       1.0   0.0   40.0                1   \n",
              "55281        2.0       3.0   4.0   89.0                2   \n",
              "55282        1.0       1.0   1.0   80.0                2   \n",
              "55283        1.0       1.0   1.0  110.0                1   \n",
              "\n",
              "       review_scores_rating  ...  bed_type_Pull-out Sofa  bed_type_Real Bed  \\\n",
              "0                      95.0  ...                       1                  0   \n",
              "1                      99.0  ...                       0                  1   \n",
              "2                      84.0  ...                       0                  1   \n",
              "3                     100.0  ...                       0                  1   \n",
              "4                     100.0  ...                       0                  1   \n",
              "...                     ...  ...                     ...                ...   \n",
              "55279                 100.0  ...                       0                  1   \n",
              "55280                 100.0  ...                       0                  1   \n",
              "55281                  96.0  ...                       0                  1   \n",
              "55282                  94.0  ...                       0                  1   \n",
              "55283                 100.0  ...                       0                  1   \n",
              "\n",
              "       cancellation_policy_flexible  cancellation_policy_luxury_moderate  \\\n",
              "0                                 0                                    0   \n",
              "1                                 0                                    0   \n",
              "2                                 0                                    0   \n",
              "3                                 1                                    0   \n",
              "4                                 0                                    0   \n",
              "...                             ...                                  ...   \n",
              "55279                             0                                    0   \n",
              "55280                             1                                    0   \n",
              "55281                             1                                    0   \n",
              "55282                             0                                    0   \n",
              "55283                             0                                    0   \n",
              "\n",
              "       cancellation_policy_luxury_super_strict_95  \\\n",
              "0                                               0   \n",
              "1                                               0   \n",
              "2                                               0   \n",
              "3                                               0   \n",
              "4                                               0   \n",
              "...                                           ...   \n",
              "55279                                           0   \n",
              "55280                                           0   \n",
              "55281                                           0   \n",
              "55282                                           0   \n",
              "55283                                           0   \n",
              "\n",
              "       cancellation_policy_moderate  cancellation_policy_strict  \\\n",
              "0                                 0                           0   \n",
              "1                                 1                           0   \n",
              "2                                 0                           0   \n",
              "3                                 0                           0   \n",
              "4                                 0                           0   \n",
              "...                             ...                         ...   \n",
              "55279                             0                           0   \n",
              "55280                             0                           0   \n",
              "55281                             0                           0   \n",
              "55282                             1                           0   \n",
              "55283                             1                           0   \n",
              "\n",
              "       cancellation_policy_strict_14_with_grace_period  \\\n",
              "0                                                    1   \n",
              "1                                                    0   \n",
              "2                                                    1   \n",
              "3                                                    0   \n",
              "4                                                    1   \n",
              "...                                                ...   \n",
              "55279                                                1   \n",
              "55280                                                0   \n",
              "55281                                                0   \n",
              "55282                                                0   \n",
              "55283                                                0   \n",
              "\n",
              "       cancellation_policy_super_strict_30  \\\n",
              "0                                        0   \n",
              "1                                        0   \n",
              "2                                        0   \n",
              "3                                        0   \n",
              "4                                        0   \n",
              "...                                    ...   \n",
              "55279                                    0   \n",
              "55280                                    0   \n",
              "55281                                    0   \n",
              "55282                                    0   \n",
              "55283                                    0   \n",
              "\n",
              "       cancellation_policy_super_strict_60  \n",
              "0                                        0  \n",
              "1                                        0  \n",
              "2                                        0  \n",
              "3                                        0  \n",
              "4                                        0  \n",
              "...                                    ...  \n",
              "55279                                    0  \n",
              "55280                                    0  \n",
              "55281                                    0  \n",
              "55282                                    0  \n",
              "55283                                    0  \n",
              "\n",
              "[55137 rows x 338 columns]"
            ],
            "text/html": [
              "\n",
              "  <div id=\"df-e7f557e8-032d-4741-946b-d51c590696e3\" class=\"colab-df-container\">\n",
              "    <div>\n",
              "<style scoped>\n",
              "    .dataframe tbody tr th:only-of-type {\n",
              "        vertical-align: middle;\n",
              "    }\n",
              "\n",
              "    .dataframe tbody tr th {\n",
              "        vertical-align: top;\n",
              "    }\n",
              "\n",
              "    .dataframe thead th {\n",
              "        text-align: right;\n",
              "    }\n",
              "</style>\n",
              "<table border=\"1\" class=\"dataframe\">\n",
              "  <thead>\n",
              "    <tr style=\"text-align: right;\">\n",
              "      <th></th>\n",
              "      <th>host_total_listings_count</th>\n",
              "      <th>latitude</th>\n",
              "      <th>longitude</th>\n",
              "      <th>accommodates</th>\n",
              "      <th>bathrooms</th>\n",
              "      <th>bedrooms</th>\n",
              "      <th>beds</th>\n",
              "      <th>price</th>\n",
              "      <th>guests_included</th>\n",
              "      <th>review_scores_rating</th>\n",
              "      <th>...</th>\n",
              "      <th>bed_type_Pull-out Sofa</th>\n",
              "      <th>bed_type_Real Bed</th>\n",
              "      <th>cancellation_policy_flexible</th>\n",
              "      <th>cancellation_policy_luxury_moderate</th>\n",
              "      <th>cancellation_policy_luxury_super_strict_95</th>\n",
              "      <th>cancellation_policy_moderate</th>\n",
              "      <th>cancellation_policy_strict</th>\n",
              "      <th>cancellation_policy_strict_14_with_grace_period</th>\n",
              "      <th>cancellation_policy_super_strict_30</th>\n",
              "      <th>cancellation_policy_super_strict_60</th>\n",
              "    </tr>\n",
              "  </thead>\n",
              "  <tbody>\n",
              "    <tr>\n",
              "      <th>0</th>\n",
              "      <td>1.0</td>\n",
              "      <td>51.47457</td>\n",
              "      <td>-0.01062</td>\n",
              "      <td>2</td>\n",
              "      <td>1.0</td>\n",
              "      <td>1.0</td>\n",
              "      <td>1.0</td>\n",
              "      <td>35.0</td>\n",
              "      <td>1</td>\n",
              "      <td>95.0</td>\n",
              "      <td>...</td>\n",
              "      <td>1</td>\n",
              "      <td>0</td>\n",
              "      <td>0</td>\n",
              "      <td>0</td>\n",
              "      <td>0</td>\n",
              "      <td>0</td>\n",
              "      <td>0</td>\n",
              "      <td>1</td>\n",
              "      <td>0</td>\n",
              "      <td>0</td>\n",
              "    </tr>\n",
              "    <tr>\n",
              "      <th>1</th>\n",
              "      <td>1.0</td>\n",
              "      <td>51.58329</td>\n",
              "      <td>-0.12416</td>\n",
              "      <td>2</td>\n",
              "      <td>1.0</td>\n",
              "      <td>1.0</td>\n",
              "      <td>1.0</td>\n",
              "      <td>75.0</td>\n",
              "      <td>2</td>\n",
              "      <td>99.0</td>\n",
              "      <td>...</td>\n",
              "      <td>0</td>\n",
              "      <td>1</td>\n",
              "      <td>0</td>\n",
              "      <td>0</td>\n",
              "      <td>0</td>\n",
              "      <td>1</td>\n",
              "      <td>0</td>\n",
              "      <td>0</td>\n",
              "      <td>0</td>\n",
              "      <td>0</td>\n",
              "    </tr>\n",
              "    <tr>\n",
              "      <th>2</th>\n",
              "      <td>2.0</td>\n",
              "      <td>51.41634</td>\n",
              "      <td>-0.18567</td>\n",
              "      <td>5</td>\n",
              "      <td>1.0</td>\n",
              "      <td>1.0</td>\n",
              "      <td>2.0</td>\n",
              "      <td>120.0</td>\n",
              "      <td>2</td>\n",
              "      <td>84.0</td>\n",
              "      <td>...</td>\n",
              "      <td>0</td>\n",
              "      <td>1</td>\n",
              "      <td>0</td>\n",
              "      <td>0</td>\n",
              "      <td>0</td>\n",
              "      <td>0</td>\n",
              "      <td>0</td>\n",
              "      <td>1</td>\n",
              "      <td>0</td>\n",
              "      <td>0</td>\n",
              "    </tr>\n",
              "    <tr>\n",
              "      <th>3</th>\n",
              "      <td>1.0</td>\n",
              "      <td>51.45622</td>\n",
              "      <td>-0.14137</td>\n",
              "      <td>1</td>\n",
              "      <td>1.0</td>\n",
              "      <td>1.0</td>\n",
              "      <td>1.0</td>\n",
              "      <td>50.0</td>\n",
              "      <td>1</td>\n",
              "      <td>100.0</td>\n",
              "      <td>...</td>\n",
              "      <td>0</td>\n",
              "      <td>1</td>\n",
              "      <td>1</td>\n",
              "      <td>0</td>\n",
              "      <td>0</td>\n",
              "      <td>0</td>\n",
              "      <td>0</td>\n",
              "      <td>0</td>\n",
              "      <td>0</td>\n",
              "      <td>0</td>\n",
              "    </tr>\n",
              "    <tr>\n",
              "      <th>4</th>\n",
              "      <td>2.0</td>\n",
              "      <td>51.48114</td>\n",
              "      <td>-0.11219</td>\n",
              "      <td>3</td>\n",
              "      <td>1.0</td>\n",
              "      <td>2.0</td>\n",
              "      <td>2.0</td>\n",
              "      <td>104.0</td>\n",
              "      <td>1</td>\n",
              "      <td>100.0</td>\n",
              "      <td>...</td>\n",
              "      <td>0</td>\n",
              "      <td>1</td>\n",
              "      <td>0</td>\n",
              "      <td>0</td>\n",
              "      <td>0</td>\n",
              "      <td>0</td>\n",
              "      <td>0</td>\n",
              "      <td>1</td>\n",
              "      <td>0</td>\n",
              "      <td>0</td>\n",
              "    </tr>\n",
              "    <tr>\n",
              "      <th>...</th>\n",
              "      <td>...</td>\n",
              "      <td>...</td>\n",
              "      <td>...</td>\n",
              "      <td>...</td>\n",
              "      <td>...</td>\n",
              "      <td>...</td>\n",
              "      <td>...</td>\n",
              "      <td>...</td>\n",
              "      <td>...</td>\n",
              "      <td>...</td>\n",
              "      <td>...</td>\n",
              "      <td>...</td>\n",
              "      <td>...</td>\n",
              "      <td>...</td>\n",
              "      <td>...</td>\n",
              "      <td>...</td>\n",
              "      <td>...</td>\n",
              "      <td>...</td>\n",
              "      <td>...</td>\n",
              "      <td>...</td>\n",
              "      <td>...</td>\n",
              "    </tr>\n",
              "    <tr>\n",
              "      <th>55279</th>\n",
              "      <td>2.0</td>\n",
              "      <td>51.47078</td>\n",
              "      <td>-0.10048</td>\n",
              "      <td>2</td>\n",
              "      <td>1.0</td>\n",
              "      <td>1.0</td>\n",
              "      <td>1.0</td>\n",
              "      <td>65.0</td>\n",
              "      <td>1</td>\n",
              "      <td>100.0</td>\n",
              "      <td>...</td>\n",
              "      <td>0</td>\n",
              "      <td>1</td>\n",
              "      <td>0</td>\n",
              "      <td>0</td>\n",
              "      <td>0</td>\n",
              "      <td>0</td>\n",
              "      <td>0</td>\n",
              "      <td>1</td>\n",
              "      <td>0</td>\n",
              "      <td>0</td>\n",
              "    </tr>\n",
              "    <tr>\n",
              "      <th>55280</th>\n",
              "      <td>1.0</td>\n",
              "      <td>51.53341</td>\n",
              "      <td>-0.00913</td>\n",
              "      <td>2</td>\n",
              "      <td>1.0</td>\n",
              "      <td>1.0</td>\n",
              "      <td>0.0</td>\n",
              "      <td>40.0</td>\n",
              "      <td>1</td>\n",
              "      <td>100.0</td>\n",
              "      <td>...</td>\n",
              "      <td>0</td>\n",
              "      <td>1</td>\n",
              "      <td>1</td>\n",
              "      <td>0</td>\n",
              "      <td>0</td>\n",
              "      <td>0</td>\n",
              "      <td>0</td>\n",
              "      <td>0</td>\n",
              "      <td>0</td>\n",
              "      <td>0</td>\n",
              "    </tr>\n",
              "    <tr>\n",
              "      <th>55281</th>\n",
              "      <td>4.0</td>\n",
              "      <td>51.57463</td>\n",
              "      <td>-0.14177</td>\n",
              "      <td>7</td>\n",
              "      <td>2.0</td>\n",
              "      <td>3.0</td>\n",
              "      <td>4.0</td>\n",
              "      <td>89.0</td>\n",
              "      <td>2</td>\n",
              "      <td>96.0</td>\n",
              "      <td>...</td>\n",
              "      <td>0</td>\n",
              "      <td>1</td>\n",
              "      <td>1</td>\n",
              "      <td>0</td>\n",
              "      <td>0</td>\n",
              "      <td>0</td>\n",
              "      <td>0</td>\n",
              "      <td>0</td>\n",
              "      <td>0</td>\n",
              "      <td>0</td>\n",
              "    </tr>\n",
              "    <tr>\n",
              "      <th>55282</th>\n",
              "      <td>1.0</td>\n",
              "      <td>51.56586</td>\n",
              "      <td>-0.10193</td>\n",
              "      <td>2</td>\n",
              "      <td>1.0</td>\n",
              "      <td>1.0</td>\n",
              "      <td>1.0</td>\n",
              "      <td>80.0</td>\n",
              "      <td>2</td>\n",
              "      <td>94.0</td>\n",
              "      <td>...</td>\n",
              "      <td>0</td>\n",
              "      <td>1</td>\n",
              "      <td>0</td>\n",
              "      <td>0</td>\n",
              "      <td>0</td>\n",
              "      <td>1</td>\n",
              "      <td>0</td>\n",
              "      <td>0</td>\n",
              "      <td>0</td>\n",
              "      <td>0</td>\n",
              "    </tr>\n",
              "    <tr>\n",
              "      <th>55283</th>\n",
              "      <td>2.0</td>\n",
              "      <td>51.48549</td>\n",
              "      <td>-0.26685</td>\n",
              "      <td>2</td>\n",
              "      <td>1.0</td>\n",
              "      <td>1.0</td>\n",
              "      <td>1.0</td>\n",
              "      <td>110.0</td>\n",
              "      <td>1</td>\n",
              "      <td>100.0</td>\n",
              "      <td>...</td>\n",
              "      <td>0</td>\n",
              "      <td>1</td>\n",
              "      <td>0</td>\n",
              "      <td>0</td>\n",
              "      <td>0</td>\n",
              "      <td>1</td>\n",
              "      <td>0</td>\n",
              "      <td>0</td>\n",
              "      <td>0</td>\n",
              "      <td>0</td>\n",
              "    </tr>\n",
              "  </tbody>\n",
              "</table>\n",
              "<p>55137 rows × 338 columns</p>\n",
              "</div>\n",
              "    <div class=\"colab-df-buttons\">\n",
              "\n",
              "  <div class=\"colab-df-container\">\n",
              "    <button class=\"colab-df-convert\" onclick=\"convertToInteractive('df-e7f557e8-032d-4741-946b-d51c590696e3')\"\n",
              "            title=\"Convert this dataframe to an interactive table.\"\n",
              "            style=\"display:none;\">\n",
              "\n",
              "  <svg xmlns=\"http://www.w3.org/2000/svg\" height=\"24px\" viewBox=\"0 -960 960 960\">\n",
              "    <path d=\"M120-120v-720h720v720H120Zm60-500h600v-160H180v160Zm220 220h160v-160H400v160Zm0 220h160v-160H400v160ZM180-400h160v-160H180v160Zm440 0h160v-160H620v160ZM180-180h160v-160H180v160Zm440 0h160v-160H620v160Z\"/>\n",
              "  </svg>\n",
              "    </button>\n",
              "\n",
              "  <style>\n",
              "    .colab-df-container {\n",
              "      display:flex;\n",
              "      gap: 12px;\n",
              "    }\n",
              "\n",
              "    .colab-df-convert {\n",
              "      background-color: #E8F0FE;\n",
              "      border: none;\n",
              "      border-radius: 50%;\n",
              "      cursor: pointer;\n",
              "      display: none;\n",
              "      fill: #1967D2;\n",
              "      height: 32px;\n",
              "      padding: 0 0 0 0;\n",
              "      width: 32px;\n",
              "    }\n",
              "\n",
              "    .colab-df-convert:hover {\n",
              "      background-color: #E2EBFA;\n",
              "      box-shadow: 0px 1px 2px rgba(60, 64, 67, 0.3), 0px 1px 3px 1px rgba(60, 64, 67, 0.15);\n",
              "      fill: #174EA6;\n",
              "    }\n",
              "\n",
              "    .colab-df-buttons div {\n",
              "      margin-bottom: 4px;\n",
              "    }\n",
              "\n",
              "    [theme=dark] .colab-df-convert {\n",
              "      background-color: #3B4455;\n",
              "      fill: #D2E3FC;\n",
              "    }\n",
              "\n",
              "    [theme=dark] .colab-df-convert:hover {\n",
              "      background-color: #434B5C;\n",
              "      box-shadow: 0px 1px 3px 1px rgba(0, 0, 0, 0.15);\n",
              "      filter: drop-shadow(0px 1px 2px rgba(0, 0, 0, 0.3));\n",
              "      fill: #FFFFFF;\n",
              "    }\n",
              "  </style>\n",
              "\n",
              "    <script>\n",
              "      const buttonEl =\n",
              "        document.querySelector('#df-e7f557e8-032d-4741-946b-d51c590696e3 button.colab-df-convert');\n",
              "      buttonEl.style.display =\n",
              "        google.colab.kernel.accessAllowed ? 'block' : 'none';\n",
              "\n",
              "      async function convertToInteractive(key) {\n",
              "        const element = document.querySelector('#df-e7f557e8-032d-4741-946b-d51c590696e3');\n",
              "        const dataTable =\n",
              "          await google.colab.kernel.invokeFunction('convertToInteractive',\n",
              "                                                    [key], {});\n",
              "        if (!dataTable) return;\n",
              "\n",
              "        const docLinkHtml = 'Like what you see? Visit the ' +\n",
              "          '<a target=\"_blank\" href=https://colab.research.google.com/notebooks/data_table.ipynb>data table notebook</a>'\n",
              "          + ' to learn more about interactive tables.';\n",
              "        element.innerHTML = '';\n",
              "        dataTable['output_type'] = 'display_data';\n",
              "        await google.colab.output.renderOutput(dataTable, element);\n",
              "        const docLink = document.createElement('div');\n",
              "        docLink.innerHTML = docLinkHtml;\n",
              "        element.appendChild(docLink);\n",
              "      }\n",
              "    </script>\n",
              "  </div>\n",
              "\n",
              "\n",
              "<div id=\"df-f145e075-adb4-434e-9c6f-a1393eebef8f\">\n",
              "  <button class=\"colab-df-quickchart\" onclick=\"quickchart('df-f145e075-adb4-434e-9c6f-a1393eebef8f')\"\n",
              "            title=\"Suggest charts\"\n",
              "            style=\"display:none;\">\n",
              "\n",
              "<svg xmlns=\"http://www.w3.org/2000/svg\" height=\"24px\"viewBox=\"0 0 24 24\"\n",
              "     width=\"24px\">\n",
              "    <g>\n",
              "        <path d=\"M19 3H5c-1.1 0-2 .9-2 2v14c0 1.1.9 2 2 2h14c1.1 0 2-.9 2-2V5c0-1.1-.9-2-2-2zM9 17H7v-7h2v7zm4 0h-2V7h2v10zm4 0h-2v-4h2v4z\"/>\n",
              "    </g>\n",
              "</svg>\n",
              "  </button>\n",
              "\n",
              "<style>\n",
              "  .colab-df-quickchart {\n",
              "      --bg-color: #E8F0FE;\n",
              "      --fill-color: #1967D2;\n",
              "      --hover-bg-color: #E2EBFA;\n",
              "      --hover-fill-color: #174EA6;\n",
              "      --disabled-fill-color: #AAA;\n",
              "      --disabled-bg-color: #DDD;\n",
              "  }\n",
              "\n",
              "  [theme=dark] .colab-df-quickchart {\n",
              "      --bg-color: #3B4455;\n",
              "      --fill-color: #D2E3FC;\n",
              "      --hover-bg-color: #434B5C;\n",
              "      --hover-fill-color: #FFFFFF;\n",
              "      --disabled-bg-color: #3B4455;\n",
              "      --disabled-fill-color: #666;\n",
              "  }\n",
              "\n",
              "  .colab-df-quickchart {\n",
              "    background-color: var(--bg-color);\n",
              "    border: none;\n",
              "    border-radius: 50%;\n",
              "    cursor: pointer;\n",
              "    display: none;\n",
              "    fill: var(--fill-color);\n",
              "    height: 32px;\n",
              "    padding: 0;\n",
              "    width: 32px;\n",
              "  }\n",
              "\n",
              "  .colab-df-quickchart:hover {\n",
              "    background-color: var(--hover-bg-color);\n",
              "    box-shadow: 0 1px 2px rgba(60, 64, 67, 0.3), 0 1px 3px 1px rgba(60, 64, 67, 0.15);\n",
              "    fill: var(--button-hover-fill-color);\n",
              "  }\n",
              "\n",
              "  .colab-df-quickchart-complete:disabled,\n",
              "  .colab-df-quickchart-complete:disabled:hover {\n",
              "    background-color: var(--disabled-bg-color);\n",
              "    fill: var(--disabled-fill-color);\n",
              "    box-shadow: none;\n",
              "  }\n",
              "\n",
              "  .colab-df-spinner {\n",
              "    border: 2px solid var(--fill-color);\n",
              "    border-color: transparent;\n",
              "    border-bottom-color: var(--fill-color);\n",
              "    animation:\n",
              "      spin 1s steps(1) infinite;\n",
              "  }\n",
              "\n",
              "  @keyframes spin {\n",
              "    0% {\n",
              "      border-color: transparent;\n",
              "      border-bottom-color: var(--fill-color);\n",
              "      border-left-color: var(--fill-color);\n",
              "    }\n",
              "    20% {\n",
              "      border-color: transparent;\n",
              "      border-left-color: var(--fill-color);\n",
              "      border-top-color: var(--fill-color);\n",
              "    }\n",
              "    30% {\n",
              "      border-color: transparent;\n",
              "      border-left-color: var(--fill-color);\n",
              "      border-top-color: var(--fill-color);\n",
              "      border-right-color: var(--fill-color);\n",
              "    }\n",
              "    40% {\n",
              "      border-color: transparent;\n",
              "      border-right-color: var(--fill-color);\n",
              "      border-top-color: var(--fill-color);\n",
              "    }\n",
              "    60% {\n",
              "      border-color: transparent;\n",
              "      border-right-color: var(--fill-color);\n",
              "    }\n",
              "    80% {\n",
              "      border-color: transparent;\n",
              "      border-right-color: var(--fill-color);\n",
              "      border-bottom-color: var(--fill-color);\n",
              "    }\n",
              "    90% {\n",
              "      border-color: transparent;\n",
              "      border-bottom-color: var(--fill-color);\n",
              "    }\n",
              "  }\n",
              "</style>\n",
              "\n",
              "  <script>\n",
              "    async function quickchart(key) {\n",
              "      const quickchartButtonEl =\n",
              "        document.querySelector('#' + key + ' button');\n",
              "      quickchartButtonEl.disabled = true;  // To prevent multiple clicks.\n",
              "      quickchartButtonEl.classList.add('colab-df-spinner');\n",
              "      try {\n",
              "        const charts = await google.colab.kernel.invokeFunction(\n",
              "            'suggestCharts', [key], {});\n",
              "      } catch (error) {\n",
              "        console.error('Error during call to suggestCharts:', error);\n",
              "      }\n",
              "      quickchartButtonEl.classList.remove('colab-df-spinner');\n",
              "      quickchartButtonEl.classList.add('colab-df-quickchart-complete');\n",
              "    }\n",
              "    (() => {\n",
              "      let quickchartButtonEl =\n",
              "        document.querySelector('#df-f145e075-adb4-434e-9c6f-a1393eebef8f button');\n",
              "      quickchartButtonEl.style.display =\n",
              "        google.colab.kernel.accessAllowed ? 'block' : 'none';\n",
              "    })();\n",
              "  </script>\n",
              "</div>\n",
              "    </div>\n",
              "  </div>\n"
            ]
          },
          "metadata": {},
          "execution_count": 112
        }
      ]
    },
    {
      "cell_type": "markdown",
      "source": [
        "# 3 Métodos supervisados"
      ],
      "metadata": {
        "id": "Jtp7v256ahzw"
      }
    },
    {
      "cell_type": "markdown",
      "source": [
        "## 3.1 Modelo Regresión lineal"
      ],
      "metadata": {
        "id": "IBoz2JyH8_Od"
      }
    },
    {
      "cell_type": "markdown",
      "source": [
        "### Tabla completa"
      ],
      "metadata": {
        "id": "mUPXgCtkhS1Z"
      }
    },
    {
      "cell_type": "code",
      "source": [
        "X_completa = tabla_completa.drop(['price'],axis = 1)\n",
        "y_completa = tabla_completa['price'].values"
      ],
      "metadata": {
        "id": "WBWAT56thiZo"
      },
      "execution_count": 113,
      "outputs": []
    },
    {
      "cell_type": "code",
      "source": [
        "#--------Partición de los datos------------\n",
        "\n",
        "from sklearn.model_selection import train_test_split\n",
        "\n",
        "x_train_1, x_test_1, y_train_1, y_test_1 = train_test_split(X_completa, y_completa, test_size=0.2, random_state=42)\n",
        "\n",
        "print(\"Tamaño del dataset de entrenamiento: \", x_train_1.shape)\n",
        "print(\"Tamaño del dataset de validación: \", x_test_1.shape)"
      ],
      "metadata": {
        "colab": {
          "base_uri": "https://localhost:8080/"
        },
        "id": "-tZBQzghj7uk",
        "outputId": "f0e5a124-a657-4e42-ca2c-b356e573e9a3"
      },
      "execution_count": 114,
      "outputs": [
        {
          "output_type": "stream",
          "name": "stdout",
          "text": [
            "Tamaño del dataset de entrenamiento:  (44109, 337)\n",
            "Tamaño del dataset de validación:  (11028, 337)\n"
          ]
        }
      ]
    },
    {
      "cell_type": "code",
      "source": [
        "# Se usa la función LinearRegresion() para\n",
        "# estimar el modelo de regresión lineal.\n",
        "\n",
        "# Crea el modelo\n",
        "modelo_rls_1 = LinearRegression()\n",
        "\n",
        "# Calibra el modelo\n",
        "modelo_rls_1.fit(x_train_1, y_train_1)\n",
        "\n",
        "# Imprime el intercepto\n",
        "print(\"\\nIntercepto: \", modelo_rls_1.intercept_)"
      ],
      "metadata": {
        "colab": {
          "base_uri": "https://localhost:8080/"
        },
        "id": "xIk_WwzkkUZE",
        "outputId": "5faac23c-74f9-425d-b7ab-18cdb3727e28"
      },
      "execution_count": 115,
      "outputs": [
        {
          "output_type": "stream",
          "name": "stdout",
          "text": [
            "\n",
            "Intercepto:  -67563294132.402565\n"
          ]
        }
      ]
    },
    {
      "cell_type": "code",
      "source": [
        "# Pronostico para los datos de entrenamiento\n",
        "y_pred_train_1 = modelo_rls_1.predict(x_train_1)\n",
        "y_pred_test_1 = modelo_rls_1.predict(x_test_1)"
      ],
      "metadata": {
        "id": "3tHGxLOgkabH"
      },
      "execution_count": 116,
      "outputs": []
    },
    {
      "cell_type": "code",
      "source": [
        "# RMSE\n",
        "print(\"RMSE train %.2f\" % math.sqrt(mean_squared_error(y_train_1, y_pred_train_1)))\n",
        "print(\"RMSE test %.2f\" % math.sqrt(mean_squared_error(y_test_1, y_pred_test_1)))\n",
        "\n",
        "print(' ')\n",
        "# R2\n",
        "print(\"Variance score train: %.2f\" % r2_score(y_train_1, y_pred_train_1))\n",
        "print(\"Variance score test: %.2f\" % r2_score(y_test_1, y_pred_test_1))\n",
        "\n",
        "print(' ')\n",
        "# R2-adjusted\n",
        "r2_train1 = r2_score(y_train_1, y_pred_train_1)\n",
        "adj_r2_train1 = 1 - (1-r2_train1)*(len(y_train_1)-1)/(len(y_train_1)-X_completa.shape[1]-1)\n",
        "print(\"R2-adjusted train: %.2f\" % adj_r2_train1)\n",
        "r2_test1 = r2_score(y_test_1, y_pred_test_1)\n",
        "adj_r2_test1 = 1 - (1-r2_test1)*(len(y_test_1)-1)/(len(y_test_1)-X_completa.shape[1]-1)\n",
        "print(\"R2-adjusted test: %.2f\" % adj_r2_test1)"
      ],
      "metadata": {
        "colab": {
          "base_uri": "https://localhost:8080/"
        },
        "id": "yORHC10Xk8Ln",
        "outputId": "0948e1cb-05e4-4d24-e144-3fa456e997d4"
      },
      "execution_count": 117,
      "outputs": [
        {
          "output_type": "stream",
          "name": "stdout",
          "text": [
            "RMSE train 54.26\n",
            "RMSE test 54.24\n",
            " \n",
            "Variance score train: 0.58\n",
            "Variance score test: 0.57\n",
            " \n",
            "R2-adjusted train: 0.58\n",
            "R2-adjusted test: 0.56\n"
          ]
        }
      ]
    },
    {
      "cell_type": "markdown",
      "source": [
        "### Tabla limpia"
      ],
      "metadata": {
        "id": "INrR6Zx0hef_"
      }
    },
    {
      "cell_type": "code",
      "source": [
        "X = tablabase1.drop(['price'],axis = 1)\n",
        "y = tablabase1['price'].values"
      ],
      "metadata": {
        "id": "tfvqd8RE8-6t"
      },
      "execution_count": 118,
      "outputs": []
    },
    {
      "cell_type": "code",
      "source": [
        "#--------Partición de los datos------------\n",
        "\n",
        "from sklearn.model_selection import train_test_split\n",
        "\n",
        "x_train, x_test, y_train, y_test = train_test_split(X, y, test_size=0.2, random_state=42)\n",
        "\n",
        "print(\"Tamaño del dataset de entrenamiento: \", x_train.shape)\n",
        "print(\"Tamaño del dataset de validación: \", x_test.shape)"
      ],
      "metadata": {
        "colab": {
          "base_uri": "https://localhost:8080/"
        },
        "id": "0KAMIxcr9ipL",
        "outputId": "daa41be7-0e4d-4a13-b173-20b371b8e718"
      },
      "execution_count": 119,
      "outputs": [
        {
          "output_type": "stream",
          "name": "stdout",
          "text": [
            "Tamaño del dataset de entrenamiento:  (44109, 326)\n",
            "Tamaño del dataset de validación:  (11028, 326)\n"
          ]
        }
      ]
    },
    {
      "cell_type": "code",
      "source": [
        "# Se usa la función LinearRegresion() para\n",
        "# estimar el modelo de regresión lineal.\n",
        "\n",
        "# Crea el modelo\n",
        "modelo_rls = LinearRegression()\n",
        "\n",
        "# Calibra el modelo\n",
        "modelo_rls.fit(x_train, y_train)\n",
        "\n",
        "# Imprime el intercepto\n",
        "print(\"\\nIntercepto: \", modelo_rls.intercept_)"
      ],
      "metadata": {
        "colab": {
          "base_uri": "https://localhost:8080/"
        },
        "id": "IQ-U7dtoNnLW",
        "outputId": "9b9258d6-670d-4820-afcc-36748655ab0f"
      },
      "execution_count": 120,
      "outputs": [
        {
          "output_type": "stream",
          "name": "stdout",
          "text": [
            "\n",
            "Intercepto:  79155890062.2856\n"
          ]
        }
      ]
    },
    {
      "cell_type": "code",
      "source": [
        "# Pronostico para los datos de entrenamiento\n",
        "y_pred_train = modelo_rls.predict(x_train)\n",
        "y_pred_test = modelo_rls.predict(x_test)"
      ],
      "metadata": {
        "id": "wwMKrwhjex6Y"
      },
      "execution_count": 121,
      "outputs": []
    },
    {
      "cell_type": "code",
      "source": [
        "# RMSE\n",
        "print(\"RMSE train %.2f\" % math.sqrt(mean_squared_error(y_train, y_pred_train)))\n",
        "print(\"RMSE test %.2f\" % math.sqrt(mean_squared_error(y_test, y_pred_test)))\n",
        "\n",
        "print(' ')\n",
        "# R2\n",
        "print(\"Variance score train: %.2f\" % r2_score(y_train, y_pred_train))\n",
        "print(\"Variance score test: %.2f\" % r2_score(y_test, y_pred_test))\n",
        "\n",
        "print(' ')\n",
        "# R2-adjusted\n",
        "r2 = r2_score(y_train, y_pred_train)\n",
        "adj_r2_1 = 1 - (1-r2)*(len(y_train)-1)/(len(y_train)-X.shape[1]-1)\n",
        "print(\"R2-adjusted train: %.2f\" % adj_r2_1)\n",
        "r2 = r2_score(y_test, y_pred_test)\n",
        "adj_r2 = 1 - (1-r2)*(len(y_test)-1)/(len(y_test)-X.shape[1]-1)\n",
        "print(\"R2-adjusted test: %.2f\" % adj_r2)"
      ],
      "metadata": {
        "colab": {
          "base_uri": "https://localhost:8080/"
        },
        "id": "VTTgzSsGfUsj",
        "outputId": "5bbff4f8-871d-4d0f-99a8-d18e93fe7910"
      },
      "execution_count": 122,
      "outputs": [
        {
          "output_type": "stream",
          "name": "stdout",
          "text": [
            "RMSE train 56.58\n",
            "RMSE test 56.59\n",
            " \n",
            "Variance score train: 0.55\n",
            "Variance score test: 0.53\n",
            " \n",
            "R2-adjusted train: 0.54\n",
            "R2-adjusted test: 0.52\n"
          ]
        }
      ]
    },
    {
      "cell_type": "markdown",
      "source": [
        "## 3.2 Prueba diferentes modelos"
      ],
      "metadata": {
        "id": "38qFkbV_rzPi"
      }
    },
    {
      "cell_type": "code",
      "source": [
        "#Función para reportar el error del modelo\n",
        "def report_cv_score(z):\n",
        "\n",
        "    #RMSE en prueba y entrenamiento\n",
        "    lr_ts_score = z['test_score']*(-1)\n",
        "    lr_tr_score = z['train_score']*(-1)\n",
        "    lin_rmse_ts = np.sqrt(lr_ts_score)\n",
        "    lin_rmse_tr = np.sqrt(lr_tr_score)\n",
        "    print(\"RMSLE Test: \", \"{:.5f}\".format(np.mean(lin_rmse_ts)), \"(±\", \"{:.8f}\".format(np.std(lin_rmse_ts)),\")\")\n",
        "    print(\"RMSLE Train: \", \"{:.5f}\".format(np.mean(lin_rmse_tr)), \"(±\", \"{:.8f}\".format(np.std(lin_rmse_tr)),\")\")\n",
        "\n",
        "#Función para calcular el RMSLE de los modelos implementados\n",
        "def RMSLE(y_actual, y_pred):\n",
        "\n",
        "    return np.sqrt(mean_squared_error(y_actual, y_pred))"
      ],
      "metadata": {
        "id": "9onPtqKAry3X"
      },
      "execution_count": 123,
      "outputs": []
    },
    {
      "cell_type": "code",
      "source": [
        "#--------Partición de los datos------------\n",
        "\n",
        "from sklearn.model_selection import train_test_split\n",
        "\n",
        "test_size = 0.3\n",
        "val_size  = test_size/(1-test_size) # Elementos de validación\n",
        "\n",
        "\n",
        "print (X.shape, y.shape)\n",
        "print (\"test size %.2f\"%test_size)\n",
        "print (\"val size is %.2f (relative to %.2f) \"%(val_size, 1-test_size))\n",
        "\n",
        "Xtv, Xts, ytv, yts = train_test_split(X, y, test_size=0.2, random_state=42)\n",
        "\n",
        "print(\"Tamaño del dataset de entrenamiento: \", Xtv.shape)\n",
        "print(\"Tamaño del dataset de validación: \", Xts.shape)"
      ],
      "metadata": {
        "colab": {
          "base_uri": "https://localhost:8080/"
        },
        "id": "8Xoz-y3RtV1s",
        "outputId": "05d89f01-0b4e-4cbe-bc77-2e40de655bbb"
      },
      "execution_count": 124,
      "outputs": [
        {
          "output_type": "stream",
          "name": "stdout",
          "text": [
            "(55137, 326) (55137,)\n",
            "test size 0.30\n",
            "val size is 0.43 (relative to 0.70) \n",
            "Tamaño del dataset de entrenamiento:  (44109, 326)\n",
            "Tamaño del dataset de validación:  (11028, 326)\n"
          ]
        }
      ]
    },
    {
      "cell_type": "code",
      "source": [
        "estimator1 = LinearRegression()\n",
        "estimator2 = DecisionTreeRegressor(max_depth=5)\n",
        "estimator3 = RandomForestRegressor(n_estimators = 2,max_depth = 5)"
      ],
      "metadata": {
        "id": "1RDsVsUfuOkv"
      },
      "execution_count": 125,
      "outputs": []
    },
    {
      "cell_type": "code",
      "source": [
        "#Selección de modelos\n",
        "\n",
        "zscores = []\n",
        "estimators = [estimator1, estimator2, estimator3]\n",
        "for estimator in estimators:\n",
        "    print(\"---------\")\n",
        "    z = cross_validate(estimator, Xtv, ytv, return_train_score=True, return_estimator=False,\n",
        "                       scoring=\"neg_mean_squared_error\", cv=ShuffleSplit(n_splits=10, test_size=val_size))\n",
        "    report_cv_score(z)\n",
        "    zscores.append(np.mean(np.sqrt(z['test_score']*(-1))))\n",
        "best = np.argmin(zscores)\n",
        "print (\"Seleccionado: \", best)\n",
        "best_estimator = estimators[best]\n",
        "print (\"\\n Mejor modelo: \")\n",
        "print (best_estimator)"
      ],
      "metadata": {
        "colab": {
          "base_uri": "https://localhost:8080/"
        },
        "id": "Ckxsfhc_uqZL",
        "outputId": "baf1e4c6-de3c-4490-f2ed-5c44c799bc45"
      },
      "execution_count": 126,
      "outputs": [
        {
          "output_type": "stream",
          "name": "stdout",
          "text": [
            "---------\n",
            "RMSLE Test:  1405029376.59233 (± 1892618424.61033893 )\n",
            "RMSLE Train:  56.45550 (± 0.35255269 )\n",
            "---------\n",
            "RMSLE Test:  59.62294 (± 0.45401127 )\n",
            "RMSLE Train:  58.48440 (± 0.46940475 )\n",
            "---------\n",
            "RMSLE Test:  59.09387 (± 0.37232426 )\n",
            "RMSLE Train:  57.88393 (± 0.70970958 )\n",
            "Seleccionado:  2\n",
            "\n",
            " Mejor modelo: \n",
            "RandomForestRegressor(max_depth=5, n_estimators=2)\n"
          ]
        }
      ]
    },
    {
      "cell_type": "code",
      "source": [
        "from sklearn.model_selection import GridSearchCV"
      ],
      "metadata": {
        "id": "C4hFTVl_v8mb"
      },
      "execution_count": 127,
      "outputs": []
    },
    {
      "cell_type": "markdown",
      "source": [
        "### 3.2.1 Desicion Tree"
      ],
      "metadata": {
        "id": "zfSIH6B-wCfV"
      }
    },
    {
      "cell_type": "code",
      "source": [
        "#Esta celda puede tomar un tiempo considerable en su ejecución\n",
        "parametros = {'max_depth': [2,5,8,12,15]}\n",
        "\n",
        "\n",
        "decission_tree = GridSearchCV(estimator = estimator2,\n",
        "                        param_grid = parametros,\n",
        "                        cv = ShuffleSplit(n_splits= 5, test_size=val_size),\n",
        "                        scoring = 'neg_mean_squared_error',\n",
        "                        verbose = 1,\n",
        "                        return_train_score = True,\n",
        "                        n_jobs = -1)\n",
        "\n",
        "decission_tree.fit(Xtv, ytv)"
      ],
      "metadata": {
        "colab": {
          "base_uri": "https://localhost:8080/",
          "height": 0
        },
        "id": "WqBhxHOOwaj8",
        "outputId": "455b76b4-27da-4fd1-cc91-a3261f96a493"
      },
      "execution_count": 128,
      "outputs": [
        {
          "output_type": "stream",
          "name": "stdout",
          "text": [
            "Fitting 5 folds for each of 5 candidates, totalling 25 fits\n"
          ]
        },
        {
          "output_type": "execute_result",
          "data": {
            "text/plain": [
              "GridSearchCV(cv=ShuffleSplit(n_splits=5, random_state=None, test_size=0.4285714285714286,\n",
              "       train_size=None),\n",
              "             estimator=DecisionTreeRegressor(max_depth=5), n_jobs=-1,\n",
              "             param_grid={'max_depth': [2, 5, 8, 12, 15]},\n",
              "             return_train_score=True, scoring='neg_mean_squared_error',\n",
              "             verbose=1)"
            ],
            "text/html": [
              "<style>#sk-container-id-10 {color: black;background-color: white;}#sk-container-id-10 pre{padding: 0;}#sk-container-id-10 div.sk-toggleable {background-color: white;}#sk-container-id-10 label.sk-toggleable__label {cursor: pointer;display: block;width: 100%;margin-bottom: 0;padding: 0.3em;box-sizing: border-box;text-align: center;}#sk-container-id-10 label.sk-toggleable__label-arrow:before {content: \"▸\";float: left;margin-right: 0.25em;color: #696969;}#sk-container-id-10 label.sk-toggleable__label-arrow:hover:before {color: black;}#sk-container-id-10 div.sk-estimator:hover label.sk-toggleable__label-arrow:before {color: black;}#sk-container-id-10 div.sk-toggleable__content {max-height: 0;max-width: 0;overflow: hidden;text-align: left;background-color: #f0f8ff;}#sk-container-id-10 div.sk-toggleable__content pre {margin: 0.2em;color: black;border-radius: 0.25em;background-color: #f0f8ff;}#sk-container-id-10 input.sk-toggleable__control:checked~div.sk-toggleable__content {max-height: 200px;max-width: 100%;overflow: auto;}#sk-container-id-10 input.sk-toggleable__control:checked~label.sk-toggleable__label-arrow:before {content: \"▾\";}#sk-container-id-10 div.sk-estimator input.sk-toggleable__control:checked~label.sk-toggleable__label {background-color: #d4ebff;}#sk-container-id-10 div.sk-label input.sk-toggleable__control:checked~label.sk-toggleable__label {background-color: #d4ebff;}#sk-container-id-10 input.sk-hidden--visually {border: 0;clip: rect(1px 1px 1px 1px);clip: rect(1px, 1px, 1px, 1px);height: 1px;margin: -1px;overflow: hidden;padding: 0;position: absolute;width: 1px;}#sk-container-id-10 div.sk-estimator {font-family: monospace;background-color: #f0f8ff;border: 1px dotted black;border-radius: 0.25em;box-sizing: border-box;margin-bottom: 0.5em;}#sk-container-id-10 div.sk-estimator:hover {background-color: #d4ebff;}#sk-container-id-10 div.sk-parallel-item::after {content: \"\";width: 100%;border-bottom: 1px solid gray;flex-grow: 1;}#sk-container-id-10 div.sk-label:hover label.sk-toggleable__label {background-color: #d4ebff;}#sk-container-id-10 div.sk-serial::before {content: \"\";position: absolute;border-left: 1px solid gray;box-sizing: border-box;top: 0;bottom: 0;left: 50%;z-index: 0;}#sk-container-id-10 div.sk-serial {display: flex;flex-direction: column;align-items: center;background-color: white;padding-right: 0.2em;padding-left: 0.2em;position: relative;}#sk-container-id-10 div.sk-item {position: relative;z-index: 1;}#sk-container-id-10 div.sk-parallel {display: flex;align-items: stretch;justify-content: center;background-color: white;position: relative;}#sk-container-id-10 div.sk-item::before, #sk-container-id-10 div.sk-parallel-item::before {content: \"\";position: absolute;border-left: 1px solid gray;box-sizing: border-box;top: 0;bottom: 0;left: 50%;z-index: -1;}#sk-container-id-10 div.sk-parallel-item {display: flex;flex-direction: column;z-index: 1;position: relative;background-color: white;}#sk-container-id-10 div.sk-parallel-item:first-child::after {align-self: flex-end;width: 50%;}#sk-container-id-10 div.sk-parallel-item:last-child::after {align-self: flex-start;width: 50%;}#sk-container-id-10 div.sk-parallel-item:only-child::after {width: 0;}#sk-container-id-10 div.sk-dashed-wrapped {border: 1px dashed gray;margin: 0 0.4em 0.5em 0.4em;box-sizing: border-box;padding-bottom: 0.4em;background-color: white;}#sk-container-id-10 div.sk-label label {font-family: monospace;font-weight: bold;display: inline-block;line-height: 1.2em;}#sk-container-id-10 div.sk-label-container {text-align: center;}#sk-container-id-10 div.sk-container {/* jupyter's `normalize.less` sets `[hidden] { display: none; }` but bootstrap.min.css set `[hidden] { display: none !important; }` so we also need the `!important` here to be able to override the default hidden behavior on the sphinx rendered scikit-learn.org. See: https://github.com/scikit-learn/scikit-learn/issues/21755 */display: inline-block !important;position: relative;}#sk-container-id-10 div.sk-text-repr-fallback {display: none;}</style><div id=\"sk-container-id-10\" class=\"sk-top-container\"><div class=\"sk-text-repr-fallback\"><pre>GridSearchCV(cv=ShuffleSplit(n_splits=5, random_state=None, test_size=0.4285714285714286,\n",
              "       train_size=None),\n",
              "             estimator=DecisionTreeRegressor(max_depth=5), n_jobs=-1,\n",
              "             param_grid={&#x27;max_depth&#x27;: [2, 5, 8, 12, 15]},\n",
              "             return_train_score=True, scoring=&#x27;neg_mean_squared_error&#x27;,\n",
              "             verbose=1)</pre><b>In a Jupyter environment, please rerun this cell to show the HTML representation or trust the notebook. <br />On GitHub, the HTML representation is unable to render, please try loading this page with nbviewer.org.</b></div><div class=\"sk-container\" hidden><div class=\"sk-item sk-dashed-wrapped\"><div class=\"sk-label-container\"><div class=\"sk-label sk-toggleable\"><input class=\"sk-toggleable__control sk-hidden--visually\" id=\"sk-estimator-id-18\" type=\"checkbox\" ><label for=\"sk-estimator-id-18\" class=\"sk-toggleable__label sk-toggleable__label-arrow\">GridSearchCV</label><div class=\"sk-toggleable__content\"><pre>GridSearchCV(cv=ShuffleSplit(n_splits=5, random_state=None, test_size=0.4285714285714286,\n",
              "       train_size=None),\n",
              "             estimator=DecisionTreeRegressor(max_depth=5), n_jobs=-1,\n",
              "             param_grid={&#x27;max_depth&#x27;: [2, 5, 8, 12, 15]},\n",
              "             return_train_score=True, scoring=&#x27;neg_mean_squared_error&#x27;,\n",
              "             verbose=1)</pre></div></div></div><div class=\"sk-parallel\"><div class=\"sk-parallel-item\"><div class=\"sk-item\"><div class=\"sk-label-container\"><div class=\"sk-label sk-toggleable\"><input class=\"sk-toggleable__control sk-hidden--visually\" id=\"sk-estimator-id-19\" type=\"checkbox\" ><label for=\"sk-estimator-id-19\" class=\"sk-toggleable__label sk-toggleable__label-arrow\">estimator: DecisionTreeRegressor</label><div class=\"sk-toggleable__content\"><pre>DecisionTreeRegressor(max_depth=5)</pre></div></div></div><div class=\"sk-serial\"><div class=\"sk-item\"><div class=\"sk-estimator sk-toggleable\"><input class=\"sk-toggleable__control sk-hidden--visually\" id=\"sk-estimator-id-20\" type=\"checkbox\" ><label for=\"sk-estimator-id-20\" class=\"sk-toggleable__label sk-toggleable__label-arrow\">DecisionTreeRegressor</label><div class=\"sk-toggleable__content\"><pre>DecisionTreeRegressor(max_depth=5)</pre></div></div></div></div></div></div></div></div></div></div>"
            ]
          },
          "metadata": {},
          "execution_count": 128
        }
      ]
    },
    {
      "cell_type": "code",
      "source": [
        "print(\"Mejor estimador Decision Tree: \",decission_tree.best_estimator_)\n",
        "print(\"Mejores parámetros para el estimador Decision Tree: \", decission_tree.best_params_)"
      ],
      "metadata": {
        "colab": {
          "base_uri": "https://localhost:8080/"
        },
        "id": "U_1rNMgAwyaY",
        "outputId": "d5d9af26-77f2-4030-9b90-29fe392a8ffe"
      },
      "execution_count": 129,
      "outputs": [
        {
          "output_type": "stream",
          "name": "stdout",
          "text": [
            "Mejor estimador Decision Tree:  DecisionTreeRegressor(max_depth=8)\n",
            "Mejores parámetros para el estimador Decision Tree:  {'max_depth': 8}\n"
          ]
        }
      ]
    },
    {
      "cell_type": "markdown",
      "source": [
        "Implementanción del mejor Desicion tree"
      ],
      "metadata": {
        "id": "SELbDG01w3Ja"
      }
    },
    {
      "cell_type": "code",
      "source": [
        "Des_tree = DecisionTreeRegressor(max_depth=8)\n",
        "Des_tree.fit(Xtv, ytv)"
      ],
      "metadata": {
        "colab": {
          "base_uri": "https://localhost:8080/",
          "height": 0
        },
        "id": "gIGE9n7awzvC",
        "outputId": "cba02e76-9a4b-45d7-e0c4-e6cbd9c9f4b8"
      },
      "execution_count": 130,
      "outputs": [
        {
          "output_type": "execute_result",
          "data": {
            "text/plain": [
              "DecisionTreeRegressor(max_depth=8)"
            ],
            "text/html": [
              "<style>#sk-container-id-11 {color: black;background-color: white;}#sk-container-id-11 pre{padding: 0;}#sk-container-id-11 div.sk-toggleable {background-color: white;}#sk-container-id-11 label.sk-toggleable__label {cursor: pointer;display: block;width: 100%;margin-bottom: 0;padding: 0.3em;box-sizing: border-box;text-align: center;}#sk-container-id-11 label.sk-toggleable__label-arrow:before {content: \"▸\";float: left;margin-right: 0.25em;color: #696969;}#sk-container-id-11 label.sk-toggleable__label-arrow:hover:before {color: black;}#sk-container-id-11 div.sk-estimator:hover label.sk-toggleable__label-arrow:before {color: black;}#sk-container-id-11 div.sk-toggleable__content {max-height: 0;max-width: 0;overflow: hidden;text-align: left;background-color: #f0f8ff;}#sk-container-id-11 div.sk-toggleable__content pre {margin: 0.2em;color: black;border-radius: 0.25em;background-color: #f0f8ff;}#sk-container-id-11 input.sk-toggleable__control:checked~div.sk-toggleable__content {max-height: 200px;max-width: 100%;overflow: auto;}#sk-container-id-11 input.sk-toggleable__control:checked~label.sk-toggleable__label-arrow:before {content: \"▾\";}#sk-container-id-11 div.sk-estimator input.sk-toggleable__control:checked~label.sk-toggleable__label {background-color: #d4ebff;}#sk-container-id-11 div.sk-label input.sk-toggleable__control:checked~label.sk-toggleable__label {background-color: #d4ebff;}#sk-container-id-11 input.sk-hidden--visually {border: 0;clip: rect(1px 1px 1px 1px);clip: rect(1px, 1px, 1px, 1px);height: 1px;margin: -1px;overflow: hidden;padding: 0;position: absolute;width: 1px;}#sk-container-id-11 div.sk-estimator {font-family: monospace;background-color: #f0f8ff;border: 1px dotted black;border-radius: 0.25em;box-sizing: border-box;margin-bottom: 0.5em;}#sk-container-id-11 div.sk-estimator:hover {background-color: #d4ebff;}#sk-container-id-11 div.sk-parallel-item::after {content: \"\";width: 100%;border-bottom: 1px solid gray;flex-grow: 1;}#sk-container-id-11 div.sk-label:hover label.sk-toggleable__label {background-color: #d4ebff;}#sk-container-id-11 div.sk-serial::before {content: \"\";position: absolute;border-left: 1px solid gray;box-sizing: border-box;top: 0;bottom: 0;left: 50%;z-index: 0;}#sk-container-id-11 div.sk-serial {display: flex;flex-direction: column;align-items: center;background-color: white;padding-right: 0.2em;padding-left: 0.2em;position: relative;}#sk-container-id-11 div.sk-item {position: relative;z-index: 1;}#sk-container-id-11 div.sk-parallel {display: flex;align-items: stretch;justify-content: center;background-color: white;position: relative;}#sk-container-id-11 div.sk-item::before, #sk-container-id-11 div.sk-parallel-item::before {content: \"\";position: absolute;border-left: 1px solid gray;box-sizing: border-box;top: 0;bottom: 0;left: 50%;z-index: -1;}#sk-container-id-11 div.sk-parallel-item {display: flex;flex-direction: column;z-index: 1;position: relative;background-color: white;}#sk-container-id-11 div.sk-parallel-item:first-child::after {align-self: flex-end;width: 50%;}#sk-container-id-11 div.sk-parallel-item:last-child::after {align-self: flex-start;width: 50%;}#sk-container-id-11 div.sk-parallel-item:only-child::after {width: 0;}#sk-container-id-11 div.sk-dashed-wrapped {border: 1px dashed gray;margin: 0 0.4em 0.5em 0.4em;box-sizing: border-box;padding-bottom: 0.4em;background-color: white;}#sk-container-id-11 div.sk-label label {font-family: monospace;font-weight: bold;display: inline-block;line-height: 1.2em;}#sk-container-id-11 div.sk-label-container {text-align: center;}#sk-container-id-11 div.sk-container {/* jupyter's `normalize.less` sets `[hidden] { display: none; }` but bootstrap.min.css set `[hidden] { display: none !important; }` so we also need the `!important` here to be able to override the default hidden behavior on the sphinx rendered scikit-learn.org. See: https://github.com/scikit-learn/scikit-learn/issues/21755 */display: inline-block !important;position: relative;}#sk-container-id-11 div.sk-text-repr-fallback {display: none;}</style><div id=\"sk-container-id-11\" class=\"sk-top-container\"><div class=\"sk-text-repr-fallback\"><pre>DecisionTreeRegressor(max_depth=8)</pre><b>In a Jupyter environment, please rerun this cell to show the HTML representation or trust the notebook. <br />On GitHub, the HTML representation is unable to render, please try loading this page with nbviewer.org.</b></div><div class=\"sk-container\" hidden><div class=\"sk-item\"><div class=\"sk-estimator sk-toggleable\"><input class=\"sk-toggleable__control sk-hidden--visually\" id=\"sk-estimator-id-21\" type=\"checkbox\" checked><label for=\"sk-estimator-id-21\" class=\"sk-toggleable__label sk-toggleable__label-arrow\">DecisionTreeRegressor</label><div class=\"sk-toggleable__content\"><pre>DecisionTreeRegressor(max_depth=8)</pre></div></div></div></div></div>"
            ]
          },
          "metadata": {},
          "execution_count": 130
        }
      ]
    },
    {
      "cell_type": "code",
      "source": [
        "# Pronostico para los datos de entrenamiento\n",
        "ytv_2 = Des_tree.predict(Xtv)\n",
        "yts_2 = Des_tree.predict(Xts)"
      ],
      "metadata": {
        "id": "cVpaT0EI14p2"
      },
      "execution_count": 131,
      "outputs": []
    },
    {
      "cell_type": "code",
      "source": [
        "#Desempeño del modelo Desicion Tree seleccionado\n",
        "\n",
        "print('RMSLE del Decision Tree en entrenamiento: ',\"{:.5f}\".format(RMSLE((ytv) , (Des_tree.predict(Xtv)))))\n",
        "print('RMSLE del Decision Tree seleccionado: ',\"{:.5f}\".format(RMSLE(yts , Des_tree.predict(Xts))))\n",
        "\n",
        "print(' ')\n",
        "# RMSE\n",
        "print(\"RMSE train %.2f\" % math.sqrt(mean_squared_error(ytv, ytv_2)))\n",
        "print(\"RMSE test %.2f\" % math.sqrt(mean_squared_error(yts, yts_2)))\n",
        "\n",
        "print(' ')\n",
        "# R2\n",
        "print(\"Variance score train: %.2f\" % r2_score(ytv, ytv_2))\n",
        "print(\"Variance score test: %.2f\" % r2_score(yts, yts_2))\n",
        "\n",
        "print(' ')\n",
        "# R2-adjusted\n",
        "r2 = r2_score(ytv, ytv_2)\n",
        "adj_r2_1 = 1 - (1-r2)*(len(ytv)-1)/(len(ytv)-X.shape[1]-1)\n",
        "print(\"R2-adjusted train: %.2f\" % adj_r2_1)\n",
        "r2 = r2_score(yts, yts_2)\n",
        "adj_r2 = 1 - (1-r2)*(len(yts)-1)/(len(yts)-X.shape[1]-1)\n",
        "print(\"R2-adjusted test: %.2f\" % adj_r2)"
      ],
      "metadata": {
        "colab": {
          "base_uri": "https://localhost:8080/"
        },
        "id": "HIV3spxUxXBX",
        "outputId": "e057b3e9-eced-43e5-d5de-7f2fc15a67fb"
      },
      "execution_count": 132,
      "outputs": [
        {
          "output_type": "stream",
          "name": "stdout",
          "text": [
            "RMSLE del Decision Tree en entrenamiento:  53.58730\n",
            "RMSLE del Decision Tree seleccionado:  56.13341\n",
            " \n",
            "RMSE train 53.59\n",
            "RMSE test 56.13\n",
            " \n",
            "Variance score train: 0.59\n",
            "Variance score test: 0.54\n",
            " \n",
            "R2-adjusted train: 0.59\n",
            "R2-adjusted test: 0.53\n"
          ]
        }
      ]
    },
    {
      "cell_type": "markdown",
      "source": [
        "### 3.2.2 Random Forest"
      ],
      "metadata": {
        "id": "G_qOHxRJyF11"
      }
    },
    {
      "cell_type": "code",
      "source": [
        "#Esta celda toma un tiempo considerable en completarse\n",
        "parametros = { 'n_estimators': [5,10,15],\n",
        "              'max_depth':[5,7,9]}\n",
        "\n",
        "forest_reg = GridSearchCV(estimator = estimator3,\n",
        "                        param_grid = parametros,\n",
        "                        cv = ShuffleSplit(n_splits= 5, test_size=val_size),\n",
        "                        scoring = 'neg_mean_squared_error',\n",
        "                        verbose = 1,\n",
        "                        return_train_score = True,\n",
        "                        n_jobs = -1)\n",
        "forest_reg.fit(Xtv, ytv)"
      ],
      "metadata": {
        "colab": {
          "base_uri": "https://localhost:8080/",
          "height": 0
        },
        "id": "Jj4wSquMyH9O",
        "outputId": "07d015b8-6d2a-472d-d779-596d00b200d8"
      },
      "execution_count": 133,
      "outputs": [
        {
          "output_type": "stream",
          "name": "stdout",
          "text": [
            "Fitting 5 folds for each of 9 candidates, totalling 45 fits\n"
          ]
        },
        {
          "output_type": "execute_result",
          "data": {
            "text/plain": [
              "GridSearchCV(cv=ShuffleSplit(n_splits=5, random_state=None, test_size=0.4285714285714286,\n",
              "       train_size=None),\n",
              "             estimator=RandomForestRegressor(max_depth=5, n_estimators=2),\n",
              "             n_jobs=-1,\n",
              "             param_grid={'max_depth': [5, 7, 9], 'n_estimators': [5, 10, 15]},\n",
              "             return_train_score=True, scoring='neg_mean_squared_error',\n",
              "             verbose=1)"
            ],
            "text/html": [
              "<style>#sk-container-id-12 {color: black;background-color: white;}#sk-container-id-12 pre{padding: 0;}#sk-container-id-12 div.sk-toggleable {background-color: white;}#sk-container-id-12 label.sk-toggleable__label {cursor: pointer;display: block;width: 100%;margin-bottom: 0;padding: 0.3em;box-sizing: border-box;text-align: center;}#sk-container-id-12 label.sk-toggleable__label-arrow:before {content: \"▸\";float: left;margin-right: 0.25em;color: #696969;}#sk-container-id-12 label.sk-toggleable__label-arrow:hover:before {color: black;}#sk-container-id-12 div.sk-estimator:hover label.sk-toggleable__label-arrow:before {color: black;}#sk-container-id-12 div.sk-toggleable__content {max-height: 0;max-width: 0;overflow: hidden;text-align: left;background-color: #f0f8ff;}#sk-container-id-12 div.sk-toggleable__content pre {margin: 0.2em;color: black;border-radius: 0.25em;background-color: #f0f8ff;}#sk-container-id-12 input.sk-toggleable__control:checked~div.sk-toggleable__content {max-height: 200px;max-width: 100%;overflow: auto;}#sk-container-id-12 input.sk-toggleable__control:checked~label.sk-toggleable__label-arrow:before {content: \"▾\";}#sk-container-id-12 div.sk-estimator input.sk-toggleable__control:checked~label.sk-toggleable__label {background-color: #d4ebff;}#sk-container-id-12 div.sk-label input.sk-toggleable__control:checked~label.sk-toggleable__label {background-color: #d4ebff;}#sk-container-id-12 input.sk-hidden--visually {border: 0;clip: rect(1px 1px 1px 1px);clip: rect(1px, 1px, 1px, 1px);height: 1px;margin: -1px;overflow: hidden;padding: 0;position: absolute;width: 1px;}#sk-container-id-12 div.sk-estimator {font-family: monospace;background-color: #f0f8ff;border: 1px dotted black;border-radius: 0.25em;box-sizing: border-box;margin-bottom: 0.5em;}#sk-container-id-12 div.sk-estimator:hover {background-color: #d4ebff;}#sk-container-id-12 div.sk-parallel-item::after {content: \"\";width: 100%;border-bottom: 1px solid gray;flex-grow: 1;}#sk-container-id-12 div.sk-label:hover label.sk-toggleable__label {background-color: #d4ebff;}#sk-container-id-12 div.sk-serial::before {content: \"\";position: absolute;border-left: 1px solid gray;box-sizing: border-box;top: 0;bottom: 0;left: 50%;z-index: 0;}#sk-container-id-12 div.sk-serial {display: flex;flex-direction: column;align-items: center;background-color: white;padding-right: 0.2em;padding-left: 0.2em;position: relative;}#sk-container-id-12 div.sk-item {position: relative;z-index: 1;}#sk-container-id-12 div.sk-parallel {display: flex;align-items: stretch;justify-content: center;background-color: white;position: relative;}#sk-container-id-12 div.sk-item::before, #sk-container-id-12 div.sk-parallel-item::before {content: \"\";position: absolute;border-left: 1px solid gray;box-sizing: border-box;top: 0;bottom: 0;left: 50%;z-index: -1;}#sk-container-id-12 div.sk-parallel-item {display: flex;flex-direction: column;z-index: 1;position: relative;background-color: white;}#sk-container-id-12 div.sk-parallel-item:first-child::after {align-self: flex-end;width: 50%;}#sk-container-id-12 div.sk-parallel-item:last-child::after {align-self: flex-start;width: 50%;}#sk-container-id-12 div.sk-parallel-item:only-child::after {width: 0;}#sk-container-id-12 div.sk-dashed-wrapped {border: 1px dashed gray;margin: 0 0.4em 0.5em 0.4em;box-sizing: border-box;padding-bottom: 0.4em;background-color: white;}#sk-container-id-12 div.sk-label label {font-family: monospace;font-weight: bold;display: inline-block;line-height: 1.2em;}#sk-container-id-12 div.sk-label-container {text-align: center;}#sk-container-id-12 div.sk-container {/* jupyter's `normalize.less` sets `[hidden] { display: none; }` but bootstrap.min.css set `[hidden] { display: none !important; }` so we also need the `!important` here to be able to override the default hidden behavior on the sphinx rendered scikit-learn.org. See: https://github.com/scikit-learn/scikit-learn/issues/21755 */display: inline-block !important;position: relative;}#sk-container-id-12 div.sk-text-repr-fallback {display: none;}</style><div id=\"sk-container-id-12\" class=\"sk-top-container\"><div class=\"sk-text-repr-fallback\"><pre>GridSearchCV(cv=ShuffleSplit(n_splits=5, random_state=None, test_size=0.4285714285714286,\n",
              "       train_size=None),\n",
              "             estimator=RandomForestRegressor(max_depth=5, n_estimators=2),\n",
              "             n_jobs=-1,\n",
              "             param_grid={&#x27;max_depth&#x27;: [5, 7, 9], &#x27;n_estimators&#x27;: [5, 10, 15]},\n",
              "             return_train_score=True, scoring=&#x27;neg_mean_squared_error&#x27;,\n",
              "             verbose=1)</pre><b>In a Jupyter environment, please rerun this cell to show the HTML representation or trust the notebook. <br />On GitHub, the HTML representation is unable to render, please try loading this page with nbviewer.org.</b></div><div class=\"sk-container\" hidden><div class=\"sk-item sk-dashed-wrapped\"><div class=\"sk-label-container\"><div class=\"sk-label sk-toggleable\"><input class=\"sk-toggleable__control sk-hidden--visually\" id=\"sk-estimator-id-22\" type=\"checkbox\" ><label for=\"sk-estimator-id-22\" class=\"sk-toggleable__label sk-toggleable__label-arrow\">GridSearchCV</label><div class=\"sk-toggleable__content\"><pre>GridSearchCV(cv=ShuffleSplit(n_splits=5, random_state=None, test_size=0.4285714285714286,\n",
              "       train_size=None),\n",
              "             estimator=RandomForestRegressor(max_depth=5, n_estimators=2),\n",
              "             n_jobs=-1,\n",
              "             param_grid={&#x27;max_depth&#x27;: [5, 7, 9], &#x27;n_estimators&#x27;: [5, 10, 15]},\n",
              "             return_train_score=True, scoring=&#x27;neg_mean_squared_error&#x27;,\n",
              "             verbose=1)</pre></div></div></div><div class=\"sk-parallel\"><div class=\"sk-parallel-item\"><div class=\"sk-item\"><div class=\"sk-label-container\"><div class=\"sk-label sk-toggleable\"><input class=\"sk-toggleable__control sk-hidden--visually\" id=\"sk-estimator-id-23\" type=\"checkbox\" ><label for=\"sk-estimator-id-23\" class=\"sk-toggleable__label sk-toggleable__label-arrow\">estimator: RandomForestRegressor</label><div class=\"sk-toggleable__content\"><pre>RandomForestRegressor(max_depth=5, n_estimators=2)</pre></div></div></div><div class=\"sk-serial\"><div class=\"sk-item\"><div class=\"sk-estimator sk-toggleable\"><input class=\"sk-toggleable__control sk-hidden--visually\" id=\"sk-estimator-id-24\" type=\"checkbox\" ><label for=\"sk-estimator-id-24\" class=\"sk-toggleable__label sk-toggleable__label-arrow\">RandomForestRegressor</label><div class=\"sk-toggleable__content\"><pre>RandomForestRegressor(max_depth=5, n_estimators=2)</pre></div></div></div></div></div></div></div></div></div></div>"
            ]
          },
          "metadata": {},
          "execution_count": 133
        }
      ]
    },
    {
      "cell_type": "code",
      "source": [
        "print(\"Mejor estimador Random Forest: \",forest_reg.best_estimator_)\n",
        "print(\"Mejores parámetros para el estimador Random Forest: \", forest_reg.best_params_)"
      ],
      "metadata": {
        "colab": {
          "base_uri": "https://localhost:8080/"
        },
        "id": "PRaDxkzeyS8b",
        "outputId": "8ec88b00-5d77-4a1d-c057-ad7ddc8ff21c"
      },
      "execution_count": 134,
      "outputs": [
        {
          "output_type": "stream",
          "name": "stdout",
          "text": [
            "Mejor estimador Random Forest:  RandomForestRegressor(max_depth=9, n_estimators=15)\n",
            "Mejores parámetros para el estimador Random Forest:  {'max_depth': 9, 'n_estimators': 15}\n"
          ]
        }
      ]
    },
    {
      "cell_type": "markdown",
      "source": [
        "Implementación del mejor Random Forest"
      ],
      "metadata": {
        "id": "783_QrKPyqlF"
      }
    },
    {
      "cell_type": "code",
      "source": [
        "Rdm_forest = RandomForestRegressor(n_estimators = 15,max_depth = 9)\n",
        "Rdm_forest.fit(Xtv, ytv)"
      ],
      "metadata": {
        "colab": {
          "base_uri": "https://localhost:8080/",
          "height": 0
        },
        "id": "LKrfqABdyrz9",
        "outputId": "ec1f2d8b-6fa6-42d6-c003-6e4f2b2cd884"
      },
      "execution_count": 135,
      "outputs": [
        {
          "output_type": "execute_result",
          "data": {
            "text/plain": [
              "RandomForestRegressor(max_depth=9, n_estimators=15)"
            ],
            "text/html": [
              "<style>#sk-container-id-13 {color: black;background-color: white;}#sk-container-id-13 pre{padding: 0;}#sk-container-id-13 div.sk-toggleable {background-color: white;}#sk-container-id-13 label.sk-toggleable__label {cursor: pointer;display: block;width: 100%;margin-bottom: 0;padding: 0.3em;box-sizing: border-box;text-align: center;}#sk-container-id-13 label.sk-toggleable__label-arrow:before {content: \"▸\";float: left;margin-right: 0.25em;color: #696969;}#sk-container-id-13 label.sk-toggleable__label-arrow:hover:before {color: black;}#sk-container-id-13 div.sk-estimator:hover label.sk-toggleable__label-arrow:before {color: black;}#sk-container-id-13 div.sk-toggleable__content {max-height: 0;max-width: 0;overflow: hidden;text-align: left;background-color: #f0f8ff;}#sk-container-id-13 div.sk-toggleable__content pre {margin: 0.2em;color: black;border-radius: 0.25em;background-color: #f0f8ff;}#sk-container-id-13 input.sk-toggleable__control:checked~div.sk-toggleable__content {max-height: 200px;max-width: 100%;overflow: auto;}#sk-container-id-13 input.sk-toggleable__control:checked~label.sk-toggleable__label-arrow:before {content: \"▾\";}#sk-container-id-13 div.sk-estimator input.sk-toggleable__control:checked~label.sk-toggleable__label {background-color: #d4ebff;}#sk-container-id-13 div.sk-label input.sk-toggleable__control:checked~label.sk-toggleable__label {background-color: #d4ebff;}#sk-container-id-13 input.sk-hidden--visually {border: 0;clip: rect(1px 1px 1px 1px);clip: rect(1px, 1px, 1px, 1px);height: 1px;margin: -1px;overflow: hidden;padding: 0;position: absolute;width: 1px;}#sk-container-id-13 div.sk-estimator {font-family: monospace;background-color: #f0f8ff;border: 1px dotted black;border-radius: 0.25em;box-sizing: border-box;margin-bottom: 0.5em;}#sk-container-id-13 div.sk-estimator:hover {background-color: #d4ebff;}#sk-container-id-13 div.sk-parallel-item::after {content: \"\";width: 100%;border-bottom: 1px solid gray;flex-grow: 1;}#sk-container-id-13 div.sk-label:hover label.sk-toggleable__label {background-color: #d4ebff;}#sk-container-id-13 div.sk-serial::before {content: \"\";position: absolute;border-left: 1px solid gray;box-sizing: border-box;top: 0;bottom: 0;left: 50%;z-index: 0;}#sk-container-id-13 div.sk-serial {display: flex;flex-direction: column;align-items: center;background-color: white;padding-right: 0.2em;padding-left: 0.2em;position: relative;}#sk-container-id-13 div.sk-item {position: relative;z-index: 1;}#sk-container-id-13 div.sk-parallel {display: flex;align-items: stretch;justify-content: center;background-color: white;position: relative;}#sk-container-id-13 div.sk-item::before, #sk-container-id-13 div.sk-parallel-item::before {content: \"\";position: absolute;border-left: 1px solid gray;box-sizing: border-box;top: 0;bottom: 0;left: 50%;z-index: -1;}#sk-container-id-13 div.sk-parallel-item {display: flex;flex-direction: column;z-index: 1;position: relative;background-color: white;}#sk-container-id-13 div.sk-parallel-item:first-child::after {align-self: flex-end;width: 50%;}#sk-container-id-13 div.sk-parallel-item:last-child::after {align-self: flex-start;width: 50%;}#sk-container-id-13 div.sk-parallel-item:only-child::after {width: 0;}#sk-container-id-13 div.sk-dashed-wrapped {border: 1px dashed gray;margin: 0 0.4em 0.5em 0.4em;box-sizing: border-box;padding-bottom: 0.4em;background-color: white;}#sk-container-id-13 div.sk-label label {font-family: monospace;font-weight: bold;display: inline-block;line-height: 1.2em;}#sk-container-id-13 div.sk-label-container {text-align: center;}#sk-container-id-13 div.sk-container {/* jupyter's `normalize.less` sets `[hidden] { display: none; }` but bootstrap.min.css set `[hidden] { display: none !important; }` so we also need the `!important` here to be able to override the default hidden behavior on the sphinx rendered scikit-learn.org. See: https://github.com/scikit-learn/scikit-learn/issues/21755 */display: inline-block !important;position: relative;}#sk-container-id-13 div.sk-text-repr-fallback {display: none;}</style><div id=\"sk-container-id-13\" class=\"sk-top-container\"><div class=\"sk-text-repr-fallback\"><pre>RandomForestRegressor(max_depth=9, n_estimators=15)</pre><b>In a Jupyter environment, please rerun this cell to show the HTML representation or trust the notebook. <br />On GitHub, the HTML representation is unable to render, please try loading this page with nbviewer.org.</b></div><div class=\"sk-container\" hidden><div class=\"sk-item\"><div class=\"sk-estimator sk-toggleable\"><input class=\"sk-toggleable__control sk-hidden--visually\" id=\"sk-estimator-id-25\" type=\"checkbox\" checked><label for=\"sk-estimator-id-25\" class=\"sk-toggleable__label sk-toggleable__label-arrow\">RandomForestRegressor</label><div class=\"sk-toggleable__content\"><pre>RandomForestRegressor(max_depth=9, n_estimators=15)</pre></div></div></div></div></div>"
            ]
          },
          "metadata": {},
          "execution_count": 135
        }
      ]
    },
    {
      "cell_type": "code",
      "source": [
        "# Pronostico para los datos de entrenamiento\n",
        "ytv_2 = Rdm_forest.predict(Xtv)\n",
        "yts_2 = Rdm_forest.predict(Xts)"
      ],
      "metadata": {
        "id": "skFi-bLn3MxQ"
      },
      "execution_count": 136,
      "outputs": []
    },
    {
      "cell_type": "code",
      "source": [
        "#Desempeño del modelo Random Forest seleccionado\n",
        "\n",
        "print('RMSLE del Random Forest en entrenamiento: ',\"{:.5f}\".format(RMSLE((ytv) , (Rdm_forest.predict(Xtv)))))\n",
        "print('RMSLE del Random Forest seleccionado: ',\"{:.5f}\".format(RMSLE(yts , Rdm_forest.predict(Xts))))\n",
        "\n",
        "print(' ')\n",
        "# RMSE\n",
        "print(\"RMSE train %.2f\" % math.sqrt(mean_squared_error(ytv, ytv_2)))\n",
        "print(\"RMSE test %.2f\" % math.sqrt(mean_squared_error(yts, yts_2)))\n",
        "\n",
        "print(' ')\n",
        "# R2\n",
        "print(\"Variance score train: %.2f\" % r2_score(ytv, ytv_2))\n",
        "print(\"Variance score test: %.2f\" % r2_score(yts, yts_2))\n",
        "\n",
        "print(' ')\n",
        "# R2-adjusted\n",
        "r2 = r2_score(ytv, ytv_2)\n",
        "adj_r2_1 = 1 - (1-r2)*(len(ytv)-1)/(len(ytv)-X.shape[1]-1)\n",
        "print(\"R2-adjusted train: %.2f\" % adj_r2_1)\n",
        "r2 = r2_score(yts, yts_2)\n",
        "adj_r2 = 1 - (1-r2)*(len(yts)-1)/(len(yts)-X.shape[1]-1)\n",
        "print(\"R2-adjusted test: %.2f\" % adj_r2)"
      ],
      "metadata": {
        "colab": {
          "base_uri": "https://localhost:8080/"
        },
        "id": "wlQOK2hIy3MN",
        "outputId": "72988ba2-aa76-4c9d-978d-bf74069e9b2c"
      },
      "execution_count": 137,
      "outputs": [
        {
          "output_type": "stream",
          "name": "stdout",
          "text": [
            "RMSLE del Random Forest en entrenamiento:  50.05996\n",
            "RMSLE del Random Forest seleccionado:  53.47543\n",
            " \n",
            "RMSE train 50.06\n",
            "RMSE test 53.48\n",
            " \n",
            "Variance score train: 0.65\n",
            "Variance score test: 0.58\n",
            " \n",
            "R2-adjusted train: 0.64\n",
            "R2-adjusted test: 0.57\n"
          ]
        }
      ]
    },
    {
      "cell_type": "markdown",
      "source": [
        "# 4 Métodos no supervisados"
      ],
      "metadata": {
        "id": "-adrnCLLa8wN"
      }
    },
    {
      "cell_type": "markdown",
      "source": [
        "## 4.1 PCA"
      ],
      "metadata": {
        "id": "Ai_EJhfpc6gs"
      }
    },
    {
      "cell_type": "code",
      "source": [
        "tabla_completa.head(5)"
      ],
      "metadata": {
        "colab": {
          "base_uri": "https://localhost:8080/",
          "height": 0
        },
        "id": "XRMjNg2ha_p_",
        "outputId": "a2d4da0a-62d6-4fb8-e24c-113108df11fa"
      },
      "execution_count": 138,
      "outputs": [
        {
          "output_type": "execute_result",
          "data": {
            "text/plain": [
              "   host_total_listings_count  latitude  longitude  accommodates  bathrooms  \\\n",
              "0                        1.0  51.47457   -0.01062             2        1.0   \n",
              "1                        1.0  51.58329   -0.12416             2        1.0   \n",
              "2                        2.0  51.41634   -0.18567             5        1.0   \n",
              "3                        1.0  51.45622   -0.14137             1        1.0   \n",
              "4                        2.0  51.48114   -0.11219             3        1.0   \n",
              "\n",
              "   bedrooms  beds  price  guests_included  review_scores_rating  ...  \\\n",
              "0       1.0   1.0   35.0                1                  95.0  ...   \n",
              "1       1.0   1.0   75.0                2                  99.0  ...   \n",
              "2       1.0   2.0  120.0                2                  84.0  ...   \n",
              "3       1.0   1.0   50.0                1                 100.0  ...   \n",
              "4       2.0   2.0  104.0                1                 100.0  ...   \n",
              "\n",
              "   bed_type_Pull-out Sofa  bed_type_Real Bed  cancellation_policy_flexible  \\\n",
              "0                       1                  0                             0   \n",
              "1                       0                  1                             0   \n",
              "2                       0                  1                             0   \n",
              "3                       0                  1                             1   \n",
              "4                       0                  1                             0   \n",
              "\n",
              "   cancellation_policy_luxury_moderate  \\\n",
              "0                                    0   \n",
              "1                                    0   \n",
              "2                                    0   \n",
              "3                                    0   \n",
              "4                                    0   \n",
              "\n",
              "   cancellation_policy_luxury_super_strict_95  cancellation_policy_moderate  \\\n",
              "0                                           0                             0   \n",
              "1                                           0                             1   \n",
              "2                                           0                             0   \n",
              "3                                           0                             0   \n",
              "4                                           0                             0   \n",
              "\n",
              "   cancellation_policy_strict  \\\n",
              "0                           0   \n",
              "1                           0   \n",
              "2                           0   \n",
              "3                           0   \n",
              "4                           0   \n",
              "\n",
              "   cancellation_policy_strict_14_with_grace_period  \\\n",
              "0                                                1   \n",
              "1                                                0   \n",
              "2                                                1   \n",
              "3                                                0   \n",
              "4                                                1   \n",
              "\n",
              "   cancellation_policy_super_strict_30  cancellation_policy_super_strict_60  \n",
              "0                                    0                                    0  \n",
              "1                                    0                                    0  \n",
              "2                                    0                                    0  \n",
              "3                                    0                                    0  \n",
              "4                                    0                                    0  \n",
              "\n",
              "[5 rows x 338 columns]"
            ],
            "text/html": [
              "\n",
              "  <div id=\"df-2fd43a66-f47c-4537-8b13-5a2e979606cf\" class=\"colab-df-container\">\n",
              "    <div>\n",
              "<style scoped>\n",
              "    .dataframe tbody tr th:only-of-type {\n",
              "        vertical-align: middle;\n",
              "    }\n",
              "\n",
              "    .dataframe tbody tr th {\n",
              "        vertical-align: top;\n",
              "    }\n",
              "\n",
              "    .dataframe thead th {\n",
              "        text-align: right;\n",
              "    }\n",
              "</style>\n",
              "<table border=\"1\" class=\"dataframe\">\n",
              "  <thead>\n",
              "    <tr style=\"text-align: right;\">\n",
              "      <th></th>\n",
              "      <th>host_total_listings_count</th>\n",
              "      <th>latitude</th>\n",
              "      <th>longitude</th>\n",
              "      <th>accommodates</th>\n",
              "      <th>bathrooms</th>\n",
              "      <th>bedrooms</th>\n",
              "      <th>beds</th>\n",
              "      <th>price</th>\n",
              "      <th>guests_included</th>\n",
              "      <th>review_scores_rating</th>\n",
              "      <th>...</th>\n",
              "      <th>bed_type_Pull-out Sofa</th>\n",
              "      <th>bed_type_Real Bed</th>\n",
              "      <th>cancellation_policy_flexible</th>\n",
              "      <th>cancellation_policy_luxury_moderate</th>\n",
              "      <th>cancellation_policy_luxury_super_strict_95</th>\n",
              "      <th>cancellation_policy_moderate</th>\n",
              "      <th>cancellation_policy_strict</th>\n",
              "      <th>cancellation_policy_strict_14_with_grace_period</th>\n",
              "      <th>cancellation_policy_super_strict_30</th>\n",
              "      <th>cancellation_policy_super_strict_60</th>\n",
              "    </tr>\n",
              "  </thead>\n",
              "  <tbody>\n",
              "    <tr>\n",
              "      <th>0</th>\n",
              "      <td>1.0</td>\n",
              "      <td>51.47457</td>\n",
              "      <td>-0.01062</td>\n",
              "      <td>2</td>\n",
              "      <td>1.0</td>\n",
              "      <td>1.0</td>\n",
              "      <td>1.0</td>\n",
              "      <td>35.0</td>\n",
              "      <td>1</td>\n",
              "      <td>95.0</td>\n",
              "      <td>...</td>\n",
              "      <td>1</td>\n",
              "      <td>0</td>\n",
              "      <td>0</td>\n",
              "      <td>0</td>\n",
              "      <td>0</td>\n",
              "      <td>0</td>\n",
              "      <td>0</td>\n",
              "      <td>1</td>\n",
              "      <td>0</td>\n",
              "      <td>0</td>\n",
              "    </tr>\n",
              "    <tr>\n",
              "      <th>1</th>\n",
              "      <td>1.0</td>\n",
              "      <td>51.58329</td>\n",
              "      <td>-0.12416</td>\n",
              "      <td>2</td>\n",
              "      <td>1.0</td>\n",
              "      <td>1.0</td>\n",
              "      <td>1.0</td>\n",
              "      <td>75.0</td>\n",
              "      <td>2</td>\n",
              "      <td>99.0</td>\n",
              "      <td>...</td>\n",
              "      <td>0</td>\n",
              "      <td>1</td>\n",
              "      <td>0</td>\n",
              "      <td>0</td>\n",
              "      <td>0</td>\n",
              "      <td>1</td>\n",
              "      <td>0</td>\n",
              "      <td>0</td>\n",
              "      <td>0</td>\n",
              "      <td>0</td>\n",
              "    </tr>\n",
              "    <tr>\n",
              "      <th>2</th>\n",
              "      <td>2.0</td>\n",
              "      <td>51.41634</td>\n",
              "      <td>-0.18567</td>\n",
              "      <td>5</td>\n",
              "      <td>1.0</td>\n",
              "      <td>1.0</td>\n",
              "      <td>2.0</td>\n",
              "      <td>120.0</td>\n",
              "      <td>2</td>\n",
              "      <td>84.0</td>\n",
              "      <td>...</td>\n",
              "      <td>0</td>\n",
              "      <td>1</td>\n",
              "      <td>0</td>\n",
              "      <td>0</td>\n",
              "      <td>0</td>\n",
              "      <td>0</td>\n",
              "      <td>0</td>\n",
              "      <td>1</td>\n",
              "      <td>0</td>\n",
              "      <td>0</td>\n",
              "    </tr>\n",
              "    <tr>\n",
              "      <th>3</th>\n",
              "      <td>1.0</td>\n",
              "      <td>51.45622</td>\n",
              "      <td>-0.14137</td>\n",
              "      <td>1</td>\n",
              "      <td>1.0</td>\n",
              "      <td>1.0</td>\n",
              "      <td>1.0</td>\n",
              "      <td>50.0</td>\n",
              "      <td>1</td>\n",
              "      <td>100.0</td>\n",
              "      <td>...</td>\n",
              "      <td>0</td>\n",
              "      <td>1</td>\n",
              "      <td>1</td>\n",
              "      <td>0</td>\n",
              "      <td>0</td>\n",
              "      <td>0</td>\n",
              "      <td>0</td>\n",
              "      <td>0</td>\n",
              "      <td>0</td>\n",
              "      <td>0</td>\n",
              "    </tr>\n",
              "    <tr>\n",
              "      <th>4</th>\n",
              "      <td>2.0</td>\n",
              "      <td>51.48114</td>\n",
              "      <td>-0.11219</td>\n",
              "      <td>3</td>\n",
              "      <td>1.0</td>\n",
              "      <td>2.0</td>\n",
              "      <td>2.0</td>\n",
              "      <td>104.0</td>\n",
              "      <td>1</td>\n",
              "      <td>100.0</td>\n",
              "      <td>...</td>\n",
              "      <td>0</td>\n",
              "      <td>1</td>\n",
              "      <td>0</td>\n",
              "      <td>0</td>\n",
              "      <td>0</td>\n",
              "      <td>0</td>\n",
              "      <td>0</td>\n",
              "      <td>1</td>\n",
              "      <td>0</td>\n",
              "      <td>0</td>\n",
              "    </tr>\n",
              "  </tbody>\n",
              "</table>\n",
              "<p>5 rows × 338 columns</p>\n",
              "</div>\n",
              "    <div class=\"colab-df-buttons\">\n",
              "\n",
              "  <div class=\"colab-df-container\">\n",
              "    <button class=\"colab-df-convert\" onclick=\"convertToInteractive('df-2fd43a66-f47c-4537-8b13-5a2e979606cf')\"\n",
              "            title=\"Convert this dataframe to an interactive table.\"\n",
              "            style=\"display:none;\">\n",
              "\n",
              "  <svg xmlns=\"http://www.w3.org/2000/svg\" height=\"24px\" viewBox=\"0 -960 960 960\">\n",
              "    <path d=\"M120-120v-720h720v720H120Zm60-500h600v-160H180v160Zm220 220h160v-160H400v160Zm0 220h160v-160H400v160ZM180-400h160v-160H180v160Zm440 0h160v-160H620v160ZM180-180h160v-160H180v160Zm440 0h160v-160H620v160Z\"/>\n",
              "  </svg>\n",
              "    </button>\n",
              "\n",
              "  <style>\n",
              "    .colab-df-container {\n",
              "      display:flex;\n",
              "      gap: 12px;\n",
              "    }\n",
              "\n",
              "    .colab-df-convert {\n",
              "      background-color: #E8F0FE;\n",
              "      border: none;\n",
              "      border-radius: 50%;\n",
              "      cursor: pointer;\n",
              "      display: none;\n",
              "      fill: #1967D2;\n",
              "      height: 32px;\n",
              "      padding: 0 0 0 0;\n",
              "      width: 32px;\n",
              "    }\n",
              "\n",
              "    .colab-df-convert:hover {\n",
              "      background-color: #E2EBFA;\n",
              "      box-shadow: 0px 1px 2px rgba(60, 64, 67, 0.3), 0px 1px 3px 1px rgba(60, 64, 67, 0.15);\n",
              "      fill: #174EA6;\n",
              "    }\n",
              "\n",
              "    .colab-df-buttons div {\n",
              "      margin-bottom: 4px;\n",
              "    }\n",
              "\n",
              "    [theme=dark] .colab-df-convert {\n",
              "      background-color: #3B4455;\n",
              "      fill: #D2E3FC;\n",
              "    }\n",
              "\n",
              "    [theme=dark] .colab-df-convert:hover {\n",
              "      background-color: #434B5C;\n",
              "      box-shadow: 0px 1px 3px 1px rgba(0, 0, 0, 0.15);\n",
              "      filter: drop-shadow(0px 1px 2px rgba(0, 0, 0, 0.3));\n",
              "      fill: #FFFFFF;\n",
              "    }\n",
              "  </style>\n",
              "\n",
              "    <script>\n",
              "      const buttonEl =\n",
              "        document.querySelector('#df-2fd43a66-f47c-4537-8b13-5a2e979606cf button.colab-df-convert');\n",
              "      buttonEl.style.display =\n",
              "        google.colab.kernel.accessAllowed ? 'block' : 'none';\n",
              "\n",
              "      async function convertToInteractive(key) {\n",
              "        const element = document.querySelector('#df-2fd43a66-f47c-4537-8b13-5a2e979606cf');\n",
              "        const dataTable =\n",
              "          await google.colab.kernel.invokeFunction('convertToInteractive',\n",
              "                                                    [key], {});\n",
              "        if (!dataTable) return;\n",
              "\n",
              "        const docLinkHtml = 'Like what you see? Visit the ' +\n",
              "          '<a target=\"_blank\" href=https://colab.research.google.com/notebooks/data_table.ipynb>data table notebook</a>'\n",
              "          + ' to learn more about interactive tables.';\n",
              "        element.innerHTML = '';\n",
              "        dataTable['output_type'] = 'display_data';\n",
              "        await google.colab.output.renderOutput(dataTable, element);\n",
              "        const docLink = document.createElement('div');\n",
              "        docLink.innerHTML = docLinkHtml;\n",
              "        element.appendChild(docLink);\n",
              "      }\n",
              "    </script>\n",
              "  </div>\n",
              "\n",
              "\n",
              "<div id=\"df-19c59ec4-7667-437e-bba8-e0abd3dffad1\">\n",
              "  <button class=\"colab-df-quickchart\" onclick=\"quickchart('df-19c59ec4-7667-437e-bba8-e0abd3dffad1')\"\n",
              "            title=\"Suggest charts\"\n",
              "            style=\"display:none;\">\n",
              "\n",
              "<svg xmlns=\"http://www.w3.org/2000/svg\" height=\"24px\"viewBox=\"0 0 24 24\"\n",
              "     width=\"24px\">\n",
              "    <g>\n",
              "        <path d=\"M19 3H5c-1.1 0-2 .9-2 2v14c0 1.1.9 2 2 2h14c1.1 0 2-.9 2-2V5c0-1.1-.9-2-2-2zM9 17H7v-7h2v7zm4 0h-2V7h2v10zm4 0h-2v-4h2v4z\"/>\n",
              "    </g>\n",
              "</svg>\n",
              "  </button>\n",
              "\n",
              "<style>\n",
              "  .colab-df-quickchart {\n",
              "      --bg-color: #E8F0FE;\n",
              "      --fill-color: #1967D2;\n",
              "      --hover-bg-color: #E2EBFA;\n",
              "      --hover-fill-color: #174EA6;\n",
              "      --disabled-fill-color: #AAA;\n",
              "      --disabled-bg-color: #DDD;\n",
              "  }\n",
              "\n",
              "  [theme=dark] .colab-df-quickchart {\n",
              "      --bg-color: #3B4455;\n",
              "      --fill-color: #D2E3FC;\n",
              "      --hover-bg-color: #434B5C;\n",
              "      --hover-fill-color: #FFFFFF;\n",
              "      --disabled-bg-color: #3B4455;\n",
              "      --disabled-fill-color: #666;\n",
              "  }\n",
              "\n",
              "  .colab-df-quickchart {\n",
              "    background-color: var(--bg-color);\n",
              "    border: none;\n",
              "    border-radius: 50%;\n",
              "    cursor: pointer;\n",
              "    display: none;\n",
              "    fill: var(--fill-color);\n",
              "    height: 32px;\n",
              "    padding: 0;\n",
              "    width: 32px;\n",
              "  }\n",
              "\n",
              "  .colab-df-quickchart:hover {\n",
              "    background-color: var(--hover-bg-color);\n",
              "    box-shadow: 0 1px 2px rgba(60, 64, 67, 0.3), 0 1px 3px 1px rgba(60, 64, 67, 0.15);\n",
              "    fill: var(--button-hover-fill-color);\n",
              "  }\n",
              "\n",
              "  .colab-df-quickchart-complete:disabled,\n",
              "  .colab-df-quickchart-complete:disabled:hover {\n",
              "    background-color: var(--disabled-bg-color);\n",
              "    fill: var(--disabled-fill-color);\n",
              "    box-shadow: none;\n",
              "  }\n",
              "\n",
              "  .colab-df-spinner {\n",
              "    border: 2px solid var(--fill-color);\n",
              "    border-color: transparent;\n",
              "    border-bottom-color: var(--fill-color);\n",
              "    animation:\n",
              "      spin 1s steps(1) infinite;\n",
              "  }\n",
              "\n",
              "  @keyframes spin {\n",
              "    0% {\n",
              "      border-color: transparent;\n",
              "      border-bottom-color: var(--fill-color);\n",
              "      border-left-color: var(--fill-color);\n",
              "    }\n",
              "    20% {\n",
              "      border-color: transparent;\n",
              "      border-left-color: var(--fill-color);\n",
              "      border-top-color: var(--fill-color);\n",
              "    }\n",
              "    30% {\n",
              "      border-color: transparent;\n",
              "      border-left-color: var(--fill-color);\n",
              "      border-top-color: var(--fill-color);\n",
              "      border-right-color: var(--fill-color);\n",
              "    }\n",
              "    40% {\n",
              "      border-color: transparent;\n",
              "      border-right-color: var(--fill-color);\n",
              "      border-top-color: var(--fill-color);\n",
              "    }\n",
              "    60% {\n",
              "      border-color: transparent;\n",
              "      border-right-color: var(--fill-color);\n",
              "    }\n",
              "    80% {\n",
              "      border-color: transparent;\n",
              "      border-right-color: var(--fill-color);\n",
              "      border-bottom-color: var(--fill-color);\n",
              "    }\n",
              "    90% {\n",
              "      border-color: transparent;\n",
              "      border-bottom-color: var(--fill-color);\n",
              "    }\n",
              "  }\n",
              "</style>\n",
              "\n",
              "  <script>\n",
              "    async function quickchart(key) {\n",
              "      const quickchartButtonEl =\n",
              "        document.querySelector('#' + key + ' button');\n",
              "      quickchartButtonEl.disabled = true;  // To prevent multiple clicks.\n",
              "      quickchartButtonEl.classList.add('colab-df-spinner');\n",
              "      try {\n",
              "        const charts = await google.colab.kernel.invokeFunction(\n",
              "            'suggestCharts', [key], {});\n",
              "      } catch (error) {\n",
              "        console.error('Error during call to suggestCharts:', error);\n",
              "      }\n",
              "      quickchartButtonEl.classList.remove('colab-df-spinner');\n",
              "      quickchartButtonEl.classList.add('colab-df-quickchart-complete');\n",
              "    }\n",
              "    (() => {\n",
              "      let quickchartButtonEl =\n",
              "        document.querySelector('#df-19c59ec4-7667-437e-bba8-e0abd3dffad1 button');\n",
              "      quickchartButtonEl.style.display =\n",
              "        google.colab.kernel.accessAllowed ? 'block' : 'none';\n",
              "    })();\n",
              "  </script>\n",
              "</div>\n",
              "    </div>\n",
              "  </div>\n"
            ]
          },
          "metadata": {},
          "execution_count": 138
        }
      ]
    },
    {
      "cell_type": "code",
      "source": [
        "X_ns = tabla_completa.drop(['price'],axis = 1)\n",
        "y_ns = tabla_completa['price'].values"
      ],
      "metadata": {
        "id": "IAywRLZcdPV6"
      },
      "execution_count": 139,
      "outputs": []
    },
    {
      "cell_type": "code",
      "source": [
        "X_ns.head()"
      ],
      "metadata": {
        "colab": {
          "base_uri": "https://localhost:8080/",
          "height": 0
        },
        "id": "FH_f9eMidgxb",
        "outputId": "98fa5f93-08f2-4db9-82bb-8562ba60c96f"
      },
      "execution_count": 140,
      "outputs": [
        {
          "output_type": "execute_result",
          "data": {
            "text/plain": [
              "   host_total_listings_count  latitude  longitude  accommodates  bathrooms  \\\n",
              "0                        1.0  51.47457   -0.01062             2        1.0   \n",
              "1                        1.0  51.58329   -0.12416             2        1.0   \n",
              "2                        2.0  51.41634   -0.18567             5        1.0   \n",
              "3                        1.0  51.45622   -0.14137             1        1.0   \n",
              "4                        2.0  51.48114   -0.11219             3        1.0   \n",
              "\n",
              "   bedrooms  beds  guests_included  review_scores_rating  \\\n",
              "0       1.0   1.0                1                  95.0   \n",
              "1       1.0   1.0                2                  99.0   \n",
              "2       1.0   2.0                2                  84.0   \n",
              "3       1.0   1.0                1                 100.0   \n",
              "4       2.0   2.0                1                 100.0   \n",
              "\n",
              "   review_scores_accuracy  ...  bed_type_Pull-out Sofa  bed_type_Real Bed  \\\n",
              "0                    10.0  ...                       1                  0   \n",
              "1                    10.0  ...                       0                  1   \n",
              "2                     9.0  ...                       0                  1   \n",
              "3                    10.0  ...                       0                  1   \n",
              "4                    10.0  ...                       0                  1   \n",
              "\n",
              "   cancellation_policy_flexible  cancellation_policy_luxury_moderate  \\\n",
              "0                             0                                    0   \n",
              "1                             0                                    0   \n",
              "2                             0                                    0   \n",
              "3                             1                                    0   \n",
              "4                             0                                    0   \n",
              "\n",
              "   cancellation_policy_luxury_super_strict_95  cancellation_policy_moderate  \\\n",
              "0                                           0                             0   \n",
              "1                                           0                             1   \n",
              "2                                           0                             0   \n",
              "3                                           0                             0   \n",
              "4                                           0                             0   \n",
              "\n",
              "   cancellation_policy_strict  \\\n",
              "0                           0   \n",
              "1                           0   \n",
              "2                           0   \n",
              "3                           0   \n",
              "4                           0   \n",
              "\n",
              "   cancellation_policy_strict_14_with_grace_period  \\\n",
              "0                                                1   \n",
              "1                                                0   \n",
              "2                                                1   \n",
              "3                                                0   \n",
              "4                                                1   \n",
              "\n",
              "   cancellation_policy_super_strict_30  cancellation_policy_super_strict_60  \n",
              "0                                    0                                    0  \n",
              "1                                    0                                    0  \n",
              "2                                    0                                    0  \n",
              "3                                    0                                    0  \n",
              "4                                    0                                    0  \n",
              "\n",
              "[5 rows x 337 columns]"
            ],
            "text/html": [
              "\n",
              "  <div id=\"df-c7067be3-b57f-471c-a26f-48adf96a8d79\" class=\"colab-df-container\">\n",
              "    <div>\n",
              "<style scoped>\n",
              "    .dataframe tbody tr th:only-of-type {\n",
              "        vertical-align: middle;\n",
              "    }\n",
              "\n",
              "    .dataframe tbody tr th {\n",
              "        vertical-align: top;\n",
              "    }\n",
              "\n",
              "    .dataframe thead th {\n",
              "        text-align: right;\n",
              "    }\n",
              "</style>\n",
              "<table border=\"1\" class=\"dataframe\">\n",
              "  <thead>\n",
              "    <tr style=\"text-align: right;\">\n",
              "      <th></th>\n",
              "      <th>host_total_listings_count</th>\n",
              "      <th>latitude</th>\n",
              "      <th>longitude</th>\n",
              "      <th>accommodates</th>\n",
              "      <th>bathrooms</th>\n",
              "      <th>bedrooms</th>\n",
              "      <th>beds</th>\n",
              "      <th>guests_included</th>\n",
              "      <th>review_scores_rating</th>\n",
              "      <th>review_scores_accuracy</th>\n",
              "      <th>...</th>\n",
              "      <th>bed_type_Pull-out Sofa</th>\n",
              "      <th>bed_type_Real Bed</th>\n",
              "      <th>cancellation_policy_flexible</th>\n",
              "      <th>cancellation_policy_luxury_moderate</th>\n",
              "      <th>cancellation_policy_luxury_super_strict_95</th>\n",
              "      <th>cancellation_policy_moderate</th>\n",
              "      <th>cancellation_policy_strict</th>\n",
              "      <th>cancellation_policy_strict_14_with_grace_period</th>\n",
              "      <th>cancellation_policy_super_strict_30</th>\n",
              "      <th>cancellation_policy_super_strict_60</th>\n",
              "    </tr>\n",
              "  </thead>\n",
              "  <tbody>\n",
              "    <tr>\n",
              "      <th>0</th>\n",
              "      <td>1.0</td>\n",
              "      <td>51.47457</td>\n",
              "      <td>-0.01062</td>\n",
              "      <td>2</td>\n",
              "      <td>1.0</td>\n",
              "      <td>1.0</td>\n",
              "      <td>1.0</td>\n",
              "      <td>1</td>\n",
              "      <td>95.0</td>\n",
              "      <td>10.0</td>\n",
              "      <td>...</td>\n",
              "      <td>1</td>\n",
              "      <td>0</td>\n",
              "      <td>0</td>\n",
              "      <td>0</td>\n",
              "      <td>0</td>\n",
              "      <td>0</td>\n",
              "      <td>0</td>\n",
              "      <td>1</td>\n",
              "      <td>0</td>\n",
              "      <td>0</td>\n",
              "    </tr>\n",
              "    <tr>\n",
              "      <th>1</th>\n",
              "      <td>1.0</td>\n",
              "      <td>51.58329</td>\n",
              "      <td>-0.12416</td>\n",
              "      <td>2</td>\n",
              "      <td>1.0</td>\n",
              "      <td>1.0</td>\n",
              "      <td>1.0</td>\n",
              "      <td>2</td>\n",
              "      <td>99.0</td>\n",
              "      <td>10.0</td>\n",
              "      <td>...</td>\n",
              "      <td>0</td>\n",
              "      <td>1</td>\n",
              "      <td>0</td>\n",
              "      <td>0</td>\n",
              "      <td>0</td>\n",
              "      <td>1</td>\n",
              "      <td>0</td>\n",
              "      <td>0</td>\n",
              "      <td>0</td>\n",
              "      <td>0</td>\n",
              "    </tr>\n",
              "    <tr>\n",
              "      <th>2</th>\n",
              "      <td>2.0</td>\n",
              "      <td>51.41634</td>\n",
              "      <td>-0.18567</td>\n",
              "      <td>5</td>\n",
              "      <td>1.0</td>\n",
              "      <td>1.0</td>\n",
              "      <td>2.0</td>\n",
              "      <td>2</td>\n",
              "      <td>84.0</td>\n",
              "      <td>9.0</td>\n",
              "      <td>...</td>\n",
              "      <td>0</td>\n",
              "      <td>1</td>\n",
              "      <td>0</td>\n",
              "      <td>0</td>\n",
              "      <td>0</td>\n",
              "      <td>0</td>\n",
              "      <td>0</td>\n",
              "      <td>1</td>\n",
              "      <td>0</td>\n",
              "      <td>0</td>\n",
              "    </tr>\n",
              "    <tr>\n",
              "      <th>3</th>\n",
              "      <td>1.0</td>\n",
              "      <td>51.45622</td>\n",
              "      <td>-0.14137</td>\n",
              "      <td>1</td>\n",
              "      <td>1.0</td>\n",
              "      <td>1.0</td>\n",
              "      <td>1.0</td>\n",
              "      <td>1</td>\n",
              "      <td>100.0</td>\n",
              "      <td>10.0</td>\n",
              "      <td>...</td>\n",
              "      <td>0</td>\n",
              "      <td>1</td>\n",
              "      <td>1</td>\n",
              "      <td>0</td>\n",
              "      <td>0</td>\n",
              "      <td>0</td>\n",
              "      <td>0</td>\n",
              "      <td>0</td>\n",
              "      <td>0</td>\n",
              "      <td>0</td>\n",
              "    </tr>\n",
              "    <tr>\n",
              "      <th>4</th>\n",
              "      <td>2.0</td>\n",
              "      <td>51.48114</td>\n",
              "      <td>-0.11219</td>\n",
              "      <td>3</td>\n",
              "      <td>1.0</td>\n",
              "      <td>2.0</td>\n",
              "      <td>2.0</td>\n",
              "      <td>1</td>\n",
              "      <td>100.0</td>\n",
              "      <td>10.0</td>\n",
              "      <td>...</td>\n",
              "      <td>0</td>\n",
              "      <td>1</td>\n",
              "      <td>0</td>\n",
              "      <td>0</td>\n",
              "      <td>0</td>\n",
              "      <td>0</td>\n",
              "      <td>0</td>\n",
              "      <td>1</td>\n",
              "      <td>0</td>\n",
              "      <td>0</td>\n",
              "    </tr>\n",
              "  </tbody>\n",
              "</table>\n",
              "<p>5 rows × 337 columns</p>\n",
              "</div>\n",
              "    <div class=\"colab-df-buttons\">\n",
              "\n",
              "  <div class=\"colab-df-container\">\n",
              "    <button class=\"colab-df-convert\" onclick=\"convertToInteractive('df-c7067be3-b57f-471c-a26f-48adf96a8d79')\"\n",
              "            title=\"Convert this dataframe to an interactive table.\"\n",
              "            style=\"display:none;\">\n",
              "\n",
              "  <svg xmlns=\"http://www.w3.org/2000/svg\" height=\"24px\" viewBox=\"0 -960 960 960\">\n",
              "    <path d=\"M120-120v-720h720v720H120Zm60-500h600v-160H180v160Zm220 220h160v-160H400v160Zm0 220h160v-160H400v160ZM180-400h160v-160H180v160Zm440 0h160v-160H620v160ZM180-180h160v-160H180v160Zm440 0h160v-160H620v160Z\"/>\n",
              "  </svg>\n",
              "    </button>\n",
              "\n",
              "  <style>\n",
              "    .colab-df-container {\n",
              "      display:flex;\n",
              "      gap: 12px;\n",
              "    }\n",
              "\n",
              "    .colab-df-convert {\n",
              "      background-color: #E8F0FE;\n",
              "      border: none;\n",
              "      border-radius: 50%;\n",
              "      cursor: pointer;\n",
              "      display: none;\n",
              "      fill: #1967D2;\n",
              "      height: 32px;\n",
              "      padding: 0 0 0 0;\n",
              "      width: 32px;\n",
              "    }\n",
              "\n",
              "    .colab-df-convert:hover {\n",
              "      background-color: #E2EBFA;\n",
              "      box-shadow: 0px 1px 2px rgba(60, 64, 67, 0.3), 0px 1px 3px 1px rgba(60, 64, 67, 0.15);\n",
              "      fill: #174EA6;\n",
              "    }\n",
              "\n",
              "    .colab-df-buttons div {\n",
              "      margin-bottom: 4px;\n",
              "    }\n",
              "\n",
              "    [theme=dark] .colab-df-convert {\n",
              "      background-color: #3B4455;\n",
              "      fill: #D2E3FC;\n",
              "    }\n",
              "\n",
              "    [theme=dark] .colab-df-convert:hover {\n",
              "      background-color: #434B5C;\n",
              "      box-shadow: 0px 1px 3px 1px rgba(0, 0, 0, 0.15);\n",
              "      filter: drop-shadow(0px 1px 2px rgba(0, 0, 0, 0.3));\n",
              "      fill: #FFFFFF;\n",
              "    }\n",
              "  </style>\n",
              "\n",
              "    <script>\n",
              "      const buttonEl =\n",
              "        document.querySelector('#df-c7067be3-b57f-471c-a26f-48adf96a8d79 button.colab-df-convert');\n",
              "      buttonEl.style.display =\n",
              "        google.colab.kernel.accessAllowed ? 'block' : 'none';\n",
              "\n",
              "      async function convertToInteractive(key) {\n",
              "        const element = document.querySelector('#df-c7067be3-b57f-471c-a26f-48adf96a8d79');\n",
              "        const dataTable =\n",
              "          await google.colab.kernel.invokeFunction('convertToInteractive',\n",
              "                                                    [key], {});\n",
              "        if (!dataTable) return;\n",
              "\n",
              "        const docLinkHtml = 'Like what you see? Visit the ' +\n",
              "          '<a target=\"_blank\" href=https://colab.research.google.com/notebooks/data_table.ipynb>data table notebook</a>'\n",
              "          + ' to learn more about interactive tables.';\n",
              "        element.innerHTML = '';\n",
              "        dataTable['output_type'] = 'display_data';\n",
              "        await google.colab.output.renderOutput(dataTable, element);\n",
              "        const docLink = document.createElement('div');\n",
              "        docLink.innerHTML = docLinkHtml;\n",
              "        element.appendChild(docLink);\n",
              "      }\n",
              "    </script>\n",
              "  </div>\n",
              "\n",
              "\n",
              "<div id=\"df-daf20e49-f8e3-4656-8f34-0ec9160f6036\">\n",
              "  <button class=\"colab-df-quickchart\" onclick=\"quickchart('df-daf20e49-f8e3-4656-8f34-0ec9160f6036')\"\n",
              "            title=\"Suggest charts\"\n",
              "            style=\"display:none;\">\n",
              "\n",
              "<svg xmlns=\"http://www.w3.org/2000/svg\" height=\"24px\"viewBox=\"0 0 24 24\"\n",
              "     width=\"24px\">\n",
              "    <g>\n",
              "        <path d=\"M19 3H5c-1.1 0-2 .9-2 2v14c0 1.1.9 2 2 2h14c1.1 0 2-.9 2-2V5c0-1.1-.9-2-2-2zM9 17H7v-7h2v7zm4 0h-2V7h2v10zm4 0h-2v-4h2v4z\"/>\n",
              "    </g>\n",
              "</svg>\n",
              "  </button>\n",
              "\n",
              "<style>\n",
              "  .colab-df-quickchart {\n",
              "      --bg-color: #E8F0FE;\n",
              "      --fill-color: #1967D2;\n",
              "      --hover-bg-color: #E2EBFA;\n",
              "      --hover-fill-color: #174EA6;\n",
              "      --disabled-fill-color: #AAA;\n",
              "      --disabled-bg-color: #DDD;\n",
              "  }\n",
              "\n",
              "  [theme=dark] .colab-df-quickchart {\n",
              "      --bg-color: #3B4455;\n",
              "      --fill-color: #D2E3FC;\n",
              "      --hover-bg-color: #434B5C;\n",
              "      --hover-fill-color: #FFFFFF;\n",
              "      --disabled-bg-color: #3B4455;\n",
              "      --disabled-fill-color: #666;\n",
              "  }\n",
              "\n",
              "  .colab-df-quickchart {\n",
              "    background-color: var(--bg-color);\n",
              "    border: none;\n",
              "    border-radius: 50%;\n",
              "    cursor: pointer;\n",
              "    display: none;\n",
              "    fill: var(--fill-color);\n",
              "    height: 32px;\n",
              "    padding: 0;\n",
              "    width: 32px;\n",
              "  }\n",
              "\n",
              "  .colab-df-quickchart:hover {\n",
              "    background-color: var(--hover-bg-color);\n",
              "    box-shadow: 0 1px 2px rgba(60, 64, 67, 0.3), 0 1px 3px 1px rgba(60, 64, 67, 0.15);\n",
              "    fill: var(--button-hover-fill-color);\n",
              "  }\n",
              "\n",
              "  .colab-df-quickchart-complete:disabled,\n",
              "  .colab-df-quickchart-complete:disabled:hover {\n",
              "    background-color: var(--disabled-bg-color);\n",
              "    fill: var(--disabled-fill-color);\n",
              "    box-shadow: none;\n",
              "  }\n",
              "\n",
              "  .colab-df-spinner {\n",
              "    border: 2px solid var(--fill-color);\n",
              "    border-color: transparent;\n",
              "    border-bottom-color: var(--fill-color);\n",
              "    animation:\n",
              "      spin 1s steps(1) infinite;\n",
              "  }\n",
              "\n",
              "  @keyframes spin {\n",
              "    0% {\n",
              "      border-color: transparent;\n",
              "      border-bottom-color: var(--fill-color);\n",
              "      border-left-color: var(--fill-color);\n",
              "    }\n",
              "    20% {\n",
              "      border-color: transparent;\n",
              "      border-left-color: var(--fill-color);\n",
              "      border-top-color: var(--fill-color);\n",
              "    }\n",
              "    30% {\n",
              "      border-color: transparent;\n",
              "      border-left-color: var(--fill-color);\n",
              "      border-top-color: var(--fill-color);\n",
              "      border-right-color: var(--fill-color);\n",
              "    }\n",
              "    40% {\n",
              "      border-color: transparent;\n",
              "      border-right-color: var(--fill-color);\n",
              "      border-top-color: var(--fill-color);\n",
              "    }\n",
              "    60% {\n",
              "      border-color: transparent;\n",
              "      border-right-color: var(--fill-color);\n",
              "    }\n",
              "    80% {\n",
              "      border-color: transparent;\n",
              "      border-right-color: var(--fill-color);\n",
              "      border-bottom-color: var(--fill-color);\n",
              "    }\n",
              "    90% {\n",
              "      border-color: transparent;\n",
              "      border-bottom-color: var(--fill-color);\n",
              "    }\n",
              "  }\n",
              "</style>\n",
              "\n",
              "  <script>\n",
              "    async function quickchart(key) {\n",
              "      const quickchartButtonEl =\n",
              "        document.querySelector('#' + key + ' button');\n",
              "      quickchartButtonEl.disabled = true;  // To prevent multiple clicks.\n",
              "      quickchartButtonEl.classList.add('colab-df-spinner');\n",
              "      try {\n",
              "        const charts = await google.colab.kernel.invokeFunction(\n",
              "            'suggestCharts', [key], {});\n",
              "      } catch (error) {\n",
              "        console.error('Error during call to suggestCharts:', error);\n",
              "      }\n",
              "      quickchartButtonEl.classList.remove('colab-df-spinner');\n",
              "      quickchartButtonEl.classList.add('colab-df-quickchart-complete');\n",
              "    }\n",
              "    (() => {\n",
              "      let quickchartButtonEl =\n",
              "        document.querySelector('#df-daf20e49-f8e3-4656-8f34-0ec9160f6036 button');\n",
              "      quickchartButtonEl.style.display =\n",
              "        google.colab.kernel.accessAllowed ? 'block' : 'none';\n",
              "    })();\n",
              "  </script>\n",
              "</div>\n",
              "    </div>\n",
              "  </div>\n"
            ]
          },
          "metadata": {},
          "execution_count": 140
        }
      ]
    },
    {
      "cell_type": "code",
      "source": [
        "from sklearn.decomposition import PCA\n",
        "components = [1,3,5,7,9]\n",
        "test_size = 0.3\n",
        "val_size  = test_size/(1-test_size)\n",
        "perf = [] #desempeños de los modelos\n",
        "Rdm_forest = RandomForestRegressor(n_estimators = 5,max_depth = 9)\n",
        "for i in components:\n",
        "    pca = PCA(n_components = i)\n",
        "    X_tns = pca.fit_transform(X_ns)\n",
        "\n",
        "    #Partición de datos\n",
        "    #Xtrain_ns, ytrain_ns son los datos que se usan para entrenar el modelo\n",
        "    #Xtest_ns, ytest_ns son los datos que se usan para probar el modelo\n",
        "    Xtrain_ns, Xtest_ns, ytrain_ns, ytest_ns = train_test_split(X_tns, y_ns, test_size=test_size)\n",
        "    print (Xtrain_ns.shape, Xtest_ns.shape)\n",
        "\n",
        "    Rdm_forest.fit(Xtrain_ns, ytrain_ns)\n",
        "    perf.append(RMSLE(ytest_ns , Rdm_forest.predict(Xtest_ns)))\n",
        "    print('RMSLE del modelo con ', i ,'elementos: ',\"{:.5f}\".format(RMSLE(ytest_ns , Rdm_forest.predict(Xtest_ns))))\n",
        "    print('------------')\n",
        "\n",
        "print('Mejor RMSLE: ',\"{:.5f}\".format(np.min(perf)),'  ; obtenido con ',components[np.argmin(perf)],' componentes para PCA')\n"
      ],
      "metadata": {
        "colab": {
          "base_uri": "https://localhost:8080/"
        },
        "id": "vtdz1Eq5doAX",
        "outputId": "11d3b787-f40c-453f-9ecf-475162545414"
      },
      "execution_count": 141,
      "outputs": [
        {
          "output_type": "stream",
          "name": "stdout",
          "text": [
            "(38595, 1) (16542, 1)\n",
            "RMSLE del modelo con  1 elementos:  74.28238\n",
            "------------\n",
            "(38595, 3) (16542, 3)\n",
            "RMSLE del modelo con  3 elementos:  61.13218\n",
            "------------\n",
            "(38595, 5) (16542, 5)\n",
            "RMSLE del modelo con  5 elementos:  59.59795\n",
            "------------\n",
            "(38595, 7) (16542, 7)\n",
            "RMSLE del modelo con  7 elementos:  59.94273\n",
            "------------\n",
            "(38595, 9) (16542, 9)\n",
            "RMSLE del modelo con  9 elementos:  58.05684\n",
            "------------\n",
            "Mejor RMSLE:  58.05684   ; obtenido con  9  componentes para PCA\n"
          ]
        }
      ]
    },
    {
      "cell_type": "code",
      "source": [
        "#MEJOR PCA\n",
        "pca = PCA(n_components = 5)\n",
        "X_t1 = pca.fit_transform(X_ns)\n",
        "#Xtv_ns, ytv_ns son los datos que se usan para entrenar el modelo\n",
        "#Xts_ns, yts_ns son los datos que se usan para probar el modelo\n",
        "Xtv_ns, Xts_ns, ytv_ns, yts_ns = train_test_split(X_t1, y_ns, test_size=test_size)\n",
        "print (Xtv_ns.shape, Xts_ns.shape)"
      ],
      "metadata": {
        "colab": {
          "base_uri": "https://localhost:8080/"
        },
        "id": "rSi5G19ggcSp",
        "outputId": "0b94a25e-b212-49f0-f620-827011c26bef"
      },
      "execution_count": 142,
      "outputs": [
        {
          "output_type": "stream",
          "name": "stdout",
          "text": [
            "(38595, 5) (16542, 5)\n"
          ]
        }
      ]
    },
    {
      "cell_type": "code",
      "source": [
        "#Nota: Correr esta celda toma un tiempo considerable\n",
        "parametros = { 'n_estimators': [5,10,15],\n",
        "              'max_depth':[5,7,9]}\n",
        "\n",
        "forest_reg = GridSearchCV(estimator = estimator3,\n",
        "                        param_grid = parametros,\n",
        "                        cv = ShuffleSplit(n_splits= 5, test_size=val_size),\n",
        "                        scoring = 'neg_mean_squared_error',\n",
        "                        verbose = 1,\n",
        "                        return_train_score = True,\n",
        "                        n_jobs = -1)\n",
        "forest_reg.fit(Xtv_ns, ytv_ns)"
      ],
      "metadata": {
        "colab": {
          "base_uri": "https://localhost:8080/",
          "height": 0
        },
        "id": "NVToA39phad7",
        "outputId": "c085c588-af19-4f89-e225-8b7a08eb3254"
      },
      "execution_count": 143,
      "outputs": [
        {
          "output_type": "stream",
          "name": "stdout",
          "text": [
            "Fitting 5 folds for each of 9 candidates, totalling 45 fits\n"
          ]
        },
        {
          "output_type": "execute_result",
          "data": {
            "text/plain": [
              "GridSearchCV(cv=ShuffleSplit(n_splits=5, random_state=None, test_size=0.4285714285714286,\n",
              "       train_size=None),\n",
              "             estimator=RandomForestRegressor(max_depth=5, n_estimators=2),\n",
              "             n_jobs=-1,\n",
              "             param_grid={'max_depth': [5, 7, 9], 'n_estimators': [5, 10, 15]},\n",
              "             return_train_score=True, scoring='neg_mean_squared_error',\n",
              "             verbose=1)"
            ],
            "text/html": [
              "<style>#sk-container-id-14 {color: black;background-color: white;}#sk-container-id-14 pre{padding: 0;}#sk-container-id-14 div.sk-toggleable {background-color: white;}#sk-container-id-14 label.sk-toggleable__label {cursor: pointer;display: block;width: 100%;margin-bottom: 0;padding: 0.3em;box-sizing: border-box;text-align: center;}#sk-container-id-14 label.sk-toggleable__label-arrow:before {content: \"▸\";float: left;margin-right: 0.25em;color: #696969;}#sk-container-id-14 label.sk-toggleable__label-arrow:hover:before {color: black;}#sk-container-id-14 div.sk-estimator:hover label.sk-toggleable__label-arrow:before {color: black;}#sk-container-id-14 div.sk-toggleable__content {max-height: 0;max-width: 0;overflow: hidden;text-align: left;background-color: #f0f8ff;}#sk-container-id-14 div.sk-toggleable__content pre {margin: 0.2em;color: black;border-radius: 0.25em;background-color: #f0f8ff;}#sk-container-id-14 input.sk-toggleable__control:checked~div.sk-toggleable__content {max-height: 200px;max-width: 100%;overflow: auto;}#sk-container-id-14 input.sk-toggleable__control:checked~label.sk-toggleable__label-arrow:before {content: \"▾\";}#sk-container-id-14 div.sk-estimator input.sk-toggleable__control:checked~label.sk-toggleable__label {background-color: #d4ebff;}#sk-container-id-14 div.sk-label input.sk-toggleable__control:checked~label.sk-toggleable__label {background-color: #d4ebff;}#sk-container-id-14 input.sk-hidden--visually {border: 0;clip: rect(1px 1px 1px 1px);clip: rect(1px, 1px, 1px, 1px);height: 1px;margin: -1px;overflow: hidden;padding: 0;position: absolute;width: 1px;}#sk-container-id-14 div.sk-estimator {font-family: monospace;background-color: #f0f8ff;border: 1px dotted black;border-radius: 0.25em;box-sizing: border-box;margin-bottom: 0.5em;}#sk-container-id-14 div.sk-estimator:hover {background-color: #d4ebff;}#sk-container-id-14 div.sk-parallel-item::after {content: \"\";width: 100%;border-bottom: 1px solid gray;flex-grow: 1;}#sk-container-id-14 div.sk-label:hover label.sk-toggleable__label {background-color: #d4ebff;}#sk-container-id-14 div.sk-serial::before {content: \"\";position: absolute;border-left: 1px solid gray;box-sizing: border-box;top: 0;bottom: 0;left: 50%;z-index: 0;}#sk-container-id-14 div.sk-serial {display: flex;flex-direction: column;align-items: center;background-color: white;padding-right: 0.2em;padding-left: 0.2em;position: relative;}#sk-container-id-14 div.sk-item {position: relative;z-index: 1;}#sk-container-id-14 div.sk-parallel {display: flex;align-items: stretch;justify-content: center;background-color: white;position: relative;}#sk-container-id-14 div.sk-item::before, #sk-container-id-14 div.sk-parallel-item::before {content: \"\";position: absolute;border-left: 1px solid gray;box-sizing: border-box;top: 0;bottom: 0;left: 50%;z-index: -1;}#sk-container-id-14 div.sk-parallel-item {display: flex;flex-direction: column;z-index: 1;position: relative;background-color: white;}#sk-container-id-14 div.sk-parallel-item:first-child::after {align-self: flex-end;width: 50%;}#sk-container-id-14 div.sk-parallel-item:last-child::after {align-self: flex-start;width: 50%;}#sk-container-id-14 div.sk-parallel-item:only-child::after {width: 0;}#sk-container-id-14 div.sk-dashed-wrapped {border: 1px dashed gray;margin: 0 0.4em 0.5em 0.4em;box-sizing: border-box;padding-bottom: 0.4em;background-color: white;}#sk-container-id-14 div.sk-label label {font-family: monospace;font-weight: bold;display: inline-block;line-height: 1.2em;}#sk-container-id-14 div.sk-label-container {text-align: center;}#sk-container-id-14 div.sk-container {/* jupyter's `normalize.less` sets `[hidden] { display: none; }` but bootstrap.min.css set `[hidden] { display: none !important; }` so we also need the `!important` here to be able to override the default hidden behavior on the sphinx rendered scikit-learn.org. See: https://github.com/scikit-learn/scikit-learn/issues/21755 */display: inline-block !important;position: relative;}#sk-container-id-14 div.sk-text-repr-fallback {display: none;}</style><div id=\"sk-container-id-14\" class=\"sk-top-container\"><div class=\"sk-text-repr-fallback\"><pre>GridSearchCV(cv=ShuffleSplit(n_splits=5, random_state=None, test_size=0.4285714285714286,\n",
              "       train_size=None),\n",
              "             estimator=RandomForestRegressor(max_depth=5, n_estimators=2),\n",
              "             n_jobs=-1,\n",
              "             param_grid={&#x27;max_depth&#x27;: [5, 7, 9], &#x27;n_estimators&#x27;: [5, 10, 15]},\n",
              "             return_train_score=True, scoring=&#x27;neg_mean_squared_error&#x27;,\n",
              "             verbose=1)</pre><b>In a Jupyter environment, please rerun this cell to show the HTML representation or trust the notebook. <br />On GitHub, the HTML representation is unable to render, please try loading this page with nbviewer.org.</b></div><div class=\"sk-container\" hidden><div class=\"sk-item sk-dashed-wrapped\"><div class=\"sk-label-container\"><div class=\"sk-label sk-toggleable\"><input class=\"sk-toggleable__control sk-hidden--visually\" id=\"sk-estimator-id-26\" type=\"checkbox\" ><label for=\"sk-estimator-id-26\" class=\"sk-toggleable__label sk-toggleable__label-arrow\">GridSearchCV</label><div class=\"sk-toggleable__content\"><pre>GridSearchCV(cv=ShuffleSplit(n_splits=5, random_state=None, test_size=0.4285714285714286,\n",
              "       train_size=None),\n",
              "             estimator=RandomForestRegressor(max_depth=5, n_estimators=2),\n",
              "             n_jobs=-1,\n",
              "             param_grid={&#x27;max_depth&#x27;: [5, 7, 9], &#x27;n_estimators&#x27;: [5, 10, 15]},\n",
              "             return_train_score=True, scoring=&#x27;neg_mean_squared_error&#x27;,\n",
              "             verbose=1)</pre></div></div></div><div class=\"sk-parallel\"><div class=\"sk-parallel-item\"><div class=\"sk-item\"><div class=\"sk-label-container\"><div class=\"sk-label sk-toggleable\"><input class=\"sk-toggleable__control sk-hidden--visually\" id=\"sk-estimator-id-27\" type=\"checkbox\" ><label for=\"sk-estimator-id-27\" class=\"sk-toggleable__label sk-toggleable__label-arrow\">estimator: RandomForestRegressor</label><div class=\"sk-toggleable__content\"><pre>RandomForestRegressor(max_depth=5, n_estimators=2)</pre></div></div></div><div class=\"sk-serial\"><div class=\"sk-item\"><div class=\"sk-estimator sk-toggleable\"><input class=\"sk-toggleable__control sk-hidden--visually\" id=\"sk-estimator-id-28\" type=\"checkbox\" ><label for=\"sk-estimator-id-28\" class=\"sk-toggleable__label sk-toggleable__label-arrow\">RandomForestRegressor</label><div class=\"sk-toggleable__content\"><pre>RandomForestRegressor(max_depth=5, n_estimators=2)</pre></div></div></div></div></div></div></div></div></div></div>"
            ]
          },
          "metadata": {},
          "execution_count": 143
        }
      ]
    },
    {
      "cell_type": "code",
      "source": [
        "print(\"Mejor estimador Random Forest: \",forest_reg.best_estimator_)\n",
        "print(\"Mejores parámetros para el estimador Random Forest: \", forest_reg.best_params_)"
      ],
      "metadata": {
        "colab": {
          "base_uri": "https://localhost:8080/"
        },
        "id": "U8RuzHcgibjx",
        "outputId": "d5c6ac97-a6fa-409a-fcde-7d80801504b3"
      },
      "execution_count": 144,
      "outputs": [
        {
          "output_type": "stream",
          "name": "stdout",
          "text": [
            "Mejor estimador Random Forest:  RandomForestRegressor(max_depth=9, n_estimators=15)\n",
            "Mejores parámetros para el estimador Random Forest:  {'max_depth': 9, 'n_estimators': 15}\n"
          ]
        }
      ]
    },
    {
      "cell_type": "code",
      "source": [
        "#Mejor random forest para el PCA obtenido\n",
        "test_size = 0.3\n",
        "val_size  = test_size/(1-test_size)\n",
        "Xtv_ns2, Xts_ns2, ytv_ns2, yts_ns2 = train_test_split(X_t1, y_ns, test_size=test_size)\n",
        "print (Xtv_ns2.shape, Xts_ns2.shape)\n",
        "Rdm_forest = RandomForestRegressor(n_estimators = 15,max_depth = 9)\n",
        "Rdm_forest.fit(Xtv_ns2, ytv_ns2)"
      ],
      "metadata": {
        "colab": {
          "base_uri": "https://localhost:8080/",
          "height": 0
        },
        "id": "gMPAOCPbid5j",
        "outputId": "aaac996b-c303-436e-d81d-7ea6e9573c4b"
      },
      "execution_count": 145,
      "outputs": [
        {
          "output_type": "stream",
          "name": "stdout",
          "text": [
            "(38595, 5) (16542, 5)\n"
          ]
        },
        {
          "output_type": "execute_result",
          "data": {
            "text/plain": [
              "RandomForestRegressor(max_depth=9, n_estimators=15)"
            ],
            "text/html": [
              "<style>#sk-container-id-15 {color: black;background-color: white;}#sk-container-id-15 pre{padding: 0;}#sk-container-id-15 div.sk-toggleable {background-color: white;}#sk-container-id-15 label.sk-toggleable__label {cursor: pointer;display: block;width: 100%;margin-bottom: 0;padding: 0.3em;box-sizing: border-box;text-align: center;}#sk-container-id-15 label.sk-toggleable__label-arrow:before {content: \"▸\";float: left;margin-right: 0.25em;color: #696969;}#sk-container-id-15 label.sk-toggleable__label-arrow:hover:before {color: black;}#sk-container-id-15 div.sk-estimator:hover label.sk-toggleable__label-arrow:before {color: black;}#sk-container-id-15 div.sk-toggleable__content {max-height: 0;max-width: 0;overflow: hidden;text-align: left;background-color: #f0f8ff;}#sk-container-id-15 div.sk-toggleable__content pre {margin: 0.2em;color: black;border-radius: 0.25em;background-color: #f0f8ff;}#sk-container-id-15 input.sk-toggleable__control:checked~div.sk-toggleable__content {max-height: 200px;max-width: 100%;overflow: auto;}#sk-container-id-15 input.sk-toggleable__control:checked~label.sk-toggleable__label-arrow:before {content: \"▾\";}#sk-container-id-15 div.sk-estimator input.sk-toggleable__control:checked~label.sk-toggleable__label {background-color: #d4ebff;}#sk-container-id-15 div.sk-label input.sk-toggleable__control:checked~label.sk-toggleable__label {background-color: #d4ebff;}#sk-container-id-15 input.sk-hidden--visually {border: 0;clip: rect(1px 1px 1px 1px);clip: rect(1px, 1px, 1px, 1px);height: 1px;margin: -1px;overflow: hidden;padding: 0;position: absolute;width: 1px;}#sk-container-id-15 div.sk-estimator {font-family: monospace;background-color: #f0f8ff;border: 1px dotted black;border-radius: 0.25em;box-sizing: border-box;margin-bottom: 0.5em;}#sk-container-id-15 div.sk-estimator:hover {background-color: #d4ebff;}#sk-container-id-15 div.sk-parallel-item::after {content: \"\";width: 100%;border-bottom: 1px solid gray;flex-grow: 1;}#sk-container-id-15 div.sk-label:hover label.sk-toggleable__label {background-color: #d4ebff;}#sk-container-id-15 div.sk-serial::before {content: \"\";position: absolute;border-left: 1px solid gray;box-sizing: border-box;top: 0;bottom: 0;left: 50%;z-index: 0;}#sk-container-id-15 div.sk-serial {display: flex;flex-direction: column;align-items: center;background-color: white;padding-right: 0.2em;padding-left: 0.2em;position: relative;}#sk-container-id-15 div.sk-item {position: relative;z-index: 1;}#sk-container-id-15 div.sk-parallel {display: flex;align-items: stretch;justify-content: center;background-color: white;position: relative;}#sk-container-id-15 div.sk-item::before, #sk-container-id-15 div.sk-parallel-item::before {content: \"\";position: absolute;border-left: 1px solid gray;box-sizing: border-box;top: 0;bottom: 0;left: 50%;z-index: -1;}#sk-container-id-15 div.sk-parallel-item {display: flex;flex-direction: column;z-index: 1;position: relative;background-color: white;}#sk-container-id-15 div.sk-parallel-item:first-child::after {align-self: flex-end;width: 50%;}#sk-container-id-15 div.sk-parallel-item:last-child::after {align-self: flex-start;width: 50%;}#sk-container-id-15 div.sk-parallel-item:only-child::after {width: 0;}#sk-container-id-15 div.sk-dashed-wrapped {border: 1px dashed gray;margin: 0 0.4em 0.5em 0.4em;box-sizing: border-box;padding-bottom: 0.4em;background-color: white;}#sk-container-id-15 div.sk-label label {font-family: monospace;font-weight: bold;display: inline-block;line-height: 1.2em;}#sk-container-id-15 div.sk-label-container {text-align: center;}#sk-container-id-15 div.sk-container {/* jupyter's `normalize.less` sets `[hidden] { display: none; }` but bootstrap.min.css set `[hidden] { display: none !important; }` so we also need the `!important` here to be able to override the default hidden behavior on the sphinx rendered scikit-learn.org. See: https://github.com/scikit-learn/scikit-learn/issues/21755 */display: inline-block !important;position: relative;}#sk-container-id-15 div.sk-text-repr-fallback {display: none;}</style><div id=\"sk-container-id-15\" class=\"sk-top-container\"><div class=\"sk-text-repr-fallback\"><pre>RandomForestRegressor(max_depth=9, n_estimators=15)</pre><b>In a Jupyter environment, please rerun this cell to show the HTML representation or trust the notebook. <br />On GitHub, the HTML representation is unable to render, please try loading this page with nbviewer.org.</b></div><div class=\"sk-container\" hidden><div class=\"sk-item\"><div class=\"sk-estimator sk-toggleable\"><input class=\"sk-toggleable__control sk-hidden--visually\" id=\"sk-estimator-id-29\" type=\"checkbox\" checked><label for=\"sk-estimator-id-29\" class=\"sk-toggleable__label sk-toggleable__label-arrow\">RandomForestRegressor</label><div class=\"sk-toggleable__content\"><pre>RandomForestRegressor(max_depth=9, n_estimators=15)</pre></div></div></div></div></div>"
            ]
          },
          "metadata": {},
          "execution_count": 145
        }
      ]
    },
    {
      "cell_type": "code",
      "source": [
        "#Desempeño del modelo Random Forest seleccionado\n",
        "\n",
        "print('RMSLE del Random Forest en entrenamiento: ',\"{:.5f}\".format(RMSLE((ytv_ns2) , (Rdm_forest.predict(Xtv_ns2)))))\n",
        "print('RMSLE del Random Forest validación: ',\"{:.5f}\".format(RMSLE(yts_ns2 , Rdm_forest.predict(Xts_ns2))))"
      ],
      "metadata": {
        "colab": {
          "base_uri": "https://localhost:8080/"
        },
        "id": "E5WvALj2pa7K",
        "outputId": "f9ef9e9b-57c5-4411-e89d-3eacd7b27dea"
      },
      "execution_count": 146,
      "outputs": [
        {
          "output_type": "stream",
          "name": "stdout",
          "text": [
            "RMSLE del Random Forest en entrenamiento:  54.09794\n",
            "RMSLE del Random Forest validación:  59.99453\n"
          ]
        }
      ]
    },
    {
      "cell_type": "markdown",
      "source": [
        "## 4.2 NMF"
      ],
      "metadata": {
        "id": "r3qh3_RDpw0r"
      }
    },
    {
      "cell_type": "markdown",
      "source": [
        "Para este método se eliminan columnas con valores negativos"
      ],
      "metadata": {
        "id": "75_F2lLDrJIA"
      }
    },
    {
      "cell_type": "code",
      "source": [
        "# Verificar si alguna columna tiene valores negativos\n",
        "columnas_con_negativos = X_ns.columns[X_ns.lt(0).any()]\n",
        "\n",
        "if not columnas_con_negativos.empty:\n",
        "    print(\"Columnas con negativos:\")\n",
        "    for columna in columnas_con_negativos:\n",
        "        print(columna)"
      ],
      "metadata": {
        "colab": {
          "base_uri": "https://localhost:8080/"
        },
        "id": "TNp8wID8pz4i",
        "outputId": "4f665c86-045d-45c2-c4d6-06eb3a41abda"
      },
      "execution_count": 147,
      "outputs": [
        {
          "output_type": "stream",
          "name": "stdout",
          "text": [
            "Columnas con negativos:\n",
            "longitude\n"
          ]
        }
      ]
    },
    {
      "cell_type": "code",
      "source": [
        "X2 = X_ns.drop(['longitude'],axis=1)"
      ],
      "metadata": {
        "id": "NL1Ma3S0rZrU"
      },
      "execution_count": 148,
      "outputs": []
    },
    {
      "cell_type": "code",
      "source": [
        "from sklearn.decomposition import NMF\n",
        "components = [1,3,5,7,9]\n",
        "test_size = 0.3\n",
        "val_size  = test_size/(1-test_size)\n",
        "perf = [] #desempeños de los modelos\n",
        "Des_tree = DecisionTreeRegressor(max_depth=15)\n",
        "for i in components:\n",
        "    nmf = NMF(n_components = i)\n",
        "    X_tns2 = nmf.fit_transform(X2)\n",
        "    #Xtv, ytv son los datos que se usan para entrenar el modelo\n",
        "    #Xts, yts son los datos que se usan para probar el modelo\n",
        "    Xtv, Xts, ytv, yts = train_test_split(X_tns2, y_ns, test_size=test_size)\n",
        "    print (Xtv.shape, Xts.shape)\n",
        "\n",
        "    Des_tree.fit(Xtv, ytv)\n",
        "    perf.append(RMSLE(yts , Des_tree.predict(Xts)))\n",
        "    print('RMSLE del modelo con ', i ,'elementos: ',\"{:.5f}\".format(RMSLE(yts , Des_tree.predict(Xts))))\n",
        "    print('------------')\n",
        "\n",
        "print('Mejor RMSLE: ',\"{:.5f}\".format(np.min(perf)),'  ; obtenido con ',components[np.argmin(perf)],' componentes para PCA')\n"
      ],
      "metadata": {
        "colab": {
          "base_uri": "https://localhost:8080/"
        },
        "id": "ASXBcCytrkWz",
        "outputId": "c7df76a0-893a-48e1-8a8e-314de0544d09"
      },
      "execution_count": 149,
      "outputs": [
        {
          "output_type": "stream",
          "name": "stderr",
          "text": [
            "/usr/local/lib/python3.10/dist-packages/sklearn/decomposition/_nmf.py:1665: ConvergenceWarning: Maximum number of iterations 200 reached. Increase it to improve convergence.\n",
            "  warnings.warn(\n"
          ]
        },
        {
          "output_type": "stream",
          "name": "stdout",
          "text": [
            "(38595, 1) (16542, 1)\n",
            "RMSLE del modelo con  1 elementos:  82.92100\n",
            "------------\n",
            "(38595, 3) (16542, 3)\n",
            "RMSLE del modelo con  3 elementos:  71.64687\n",
            "------------\n",
            "(38595, 5) (16542, 5)\n",
            "RMSLE del modelo con  5 elementos:  72.30521\n",
            "------------\n",
            "(38595, 7) (16542, 7)\n",
            "RMSLE del modelo con  7 elementos:  72.88217\n",
            "------------\n"
          ]
        },
        {
          "output_type": "stream",
          "name": "stderr",
          "text": [
            "/usr/local/lib/python3.10/dist-packages/sklearn/decomposition/_nmf.py:1665: ConvergenceWarning: Maximum number of iterations 200 reached. Increase it to improve convergence.\n",
            "  warnings.warn(\n"
          ]
        },
        {
          "output_type": "stream",
          "name": "stdout",
          "text": [
            "(38595, 9) (16542, 9)\n",
            "RMSLE del modelo con  9 elementos:  70.74854\n",
            "------------\n",
            "Mejor RMSLE:  70.74854   ; obtenido con  9  componentes para PCA\n"
          ]
        }
      ]
    },
    {
      "cell_type": "code",
      "source": [
        "#MEJOR NMF\n",
        "nmf = NMF(n_components = 5)\n",
        "X_t2 = nmf.fit_transform(X2)\n",
        "Xtv, Xts, ytv, yts = train_test_split(X_t2, y, test_size=test_size)\n",
        "print (Xtv.shape, Xts.shape)"
      ],
      "metadata": {
        "colab": {
          "base_uri": "https://localhost:8080/"
        },
        "id": "tkDIDhXKttsv",
        "outputId": "486c65b1-d341-4b61-b1a5-ac7267cf4a02"
      },
      "execution_count": 150,
      "outputs": [
        {
          "output_type": "stream",
          "name": "stdout",
          "text": [
            "(38595, 5) (16542, 5)\n"
          ]
        }
      ]
    },
    {
      "cell_type": "code",
      "source": [
        "#Nota: esta celda requiere de gran tiempo para completarse\n",
        "parametros = {'max_depth': [2,5,8,12,15]}\n",
        "\n",
        "\n",
        "decission_tree = GridSearchCV(estimator = estimator2,\n",
        "                        param_grid = parametros,\n",
        "                        cv = ShuffleSplit(n_splits= 5, test_size=val_size),\n",
        "                        scoring = 'neg_mean_squared_error',\n",
        "                        verbose = 1,\n",
        "                        return_train_score = True,\n",
        "                        n_jobs = -1)\n",
        "\n",
        "decission_tree.fit(Xtv, ytv)"
      ],
      "metadata": {
        "colab": {
          "base_uri": "https://localhost:8080/",
          "height": 0
        },
        "id": "TrF9Ax9wxaO2",
        "outputId": "cd247d21-4452-4484-caa1-964ca5ea200a"
      },
      "execution_count": 151,
      "outputs": [
        {
          "output_type": "stream",
          "name": "stdout",
          "text": [
            "Fitting 5 folds for each of 5 candidates, totalling 25 fits\n"
          ]
        },
        {
          "output_type": "execute_result",
          "data": {
            "text/plain": [
              "GridSearchCV(cv=ShuffleSplit(n_splits=5, random_state=None, test_size=0.4285714285714286,\n",
              "       train_size=None),\n",
              "             estimator=DecisionTreeRegressor(max_depth=5), n_jobs=-1,\n",
              "             param_grid={'max_depth': [2, 5, 8, 12, 15]},\n",
              "             return_train_score=True, scoring='neg_mean_squared_error',\n",
              "             verbose=1)"
            ],
            "text/html": [
              "<style>#sk-container-id-16 {color: black;background-color: white;}#sk-container-id-16 pre{padding: 0;}#sk-container-id-16 div.sk-toggleable {background-color: white;}#sk-container-id-16 label.sk-toggleable__label {cursor: pointer;display: block;width: 100%;margin-bottom: 0;padding: 0.3em;box-sizing: border-box;text-align: center;}#sk-container-id-16 label.sk-toggleable__label-arrow:before {content: \"▸\";float: left;margin-right: 0.25em;color: #696969;}#sk-container-id-16 label.sk-toggleable__label-arrow:hover:before {color: black;}#sk-container-id-16 div.sk-estimator:hover label.sk-toggleable__label-arrow:before {color: black;}#sk-container-id-16 div.sk-toggleable__content {max-height: 0;max-width: 0;overflow: hidden;text-align: left;background-color: #f0f8ff;}#sk-container-id-16 div.sk-toggleable__content pre {margin: 0.2em;color: black;border-radius: 0.25em;background-color: #f0f8ff;}#sk-container-id-16 input.sk-toggleable__control:checked~div.sk-toggleable__content {max-height: 200px;max-width: 100%;overflow: auto;}#sk-container-id-16 input.sk-toggleable__control:checked~label.sk-toggleable__label-arrow:before {content: \"▾\";}#sk-container-id-16 div.sk-estimator input.sk-toggleable__control:checked~label.sk-toggleable__label {background-color: #d4ebff;}#sk-container-id-16 div.sk-label input.sk-toggleable__control:checked~label.sk-toggleable__label {background-color: #d4ebff;}#sk-container-id-16 input.sk-hidden--visually {border: 0;clip: rect(1px 1px 1px 1px);clip: rect(1px, 1px, 1px, 1px);height: 1px;margin: -1px;overflow: hidden;padding: 0;position: absolute;width: 1px;}#sk-container-id-16 div.sk-estimator {font-family: monospace;background-color: #f0f8ff;border: 1px dotted black;border-radius: 0.25em;box-sizing: border-box;margin-bottom: 0.5em;}#sk-container-id-16 div.sk-estimator:hover {background-color: #d4ebff;}#sk-container-id-16 div.sk-parallel-item::after {content: \"\";width: 100%;border-bottom: 1px solid gray;flex-grow: 1;}#sk-container-id-16 div.sk-label:hover label.sk-toggleable__label {background-color: #d4ebff;}#sk-container-id-16 div.sk-serial::before {content: \"\";position: absolute;border-left: 1px solid gray;box-sizing: border-box;top: 0;bottom: 0;left: 50%;z-index: 0;}#sk-container-id-16 div.sk-serial {display: flex;flex-direction: column;align-items: center;background-color: white;padding-right: 0.2em;padding-left: 0.2em;position: relative;}#sk-container-id-16 div.sk-item {position: relative;z-index: 1;}#sk-container-id-16 div.sk-parallel {display: flex;align-items: stretch;justify-content: center;background-color: white;position: relative;}#sk-container-id-16 div.sk-item::before, #sk-container-id-16 div.sk-parallel-item::before {content: \"\";position: absolute;border-left: 1px solid gray;box-sizing: border-box;top: 0;bottom: 0;left: 50%;z-index: -1;}#sk-container-id-16 div.sk-parallel-item {display: flex;flex-direction: column;z-index: 1;position: relative;background-color: white;}#sk-container-id-16 div.sk-parallel-item:first-child::after {align-self: flex-end;width: 50%;}#sk-container-id-16 div.sk-parallel-item:last-child::after {align-self: flex-start;width: 50%;}#sk-container-id-16 div.sk-parallel-item:only-child::after {width: 0;}#sk-container-id-16 div.sk-dashed-wrapped {border: 1px dashed gray;margin: 0 0.4em 0.5em 0.4em;box-sizing: border-box;padding-bottom: 0.4em;background-color: white;}#sk-container-id-16 div.sk-label label {font-family: monospace;font-weight: bold;display: inline-block;line-height: 1.2em;}#sk-container-id-16 div.sk-label-container {text-align: center;}#sk-container-id-16 div.sk-container {/* jupyter's `normalize.less` sets `[hidden] { display: none; }` but bootstrap.min.css set `[hidden] { display: none !important; }` so we also need the `!important` here to be able to override the default hidden behavior on the sphinx rendered scikit-learn.org. See: https://github.com/scikit-learn/scikit-learn/issues/21755 */display: inline-block !important;position: relative;}#sk-container-id-16 div.sk-text-repr-fallback {display: none;}</style><div id=\"sk-container-id-16\" class=\"sk-top-container\"><div class=\"sk-text-repr-fallback\"><pre>GridSearchCV(cv=ShuffleSplit(n_splits=5, random_state=None, test_size=0.4285714285714286,\n",
              "       train_size=None),\n",
              "             estimator=DecisionTreeRegressor(max_depth=5), n_jobs=-1,\n",
              "             param_grid={&#x27;max_depth&#x27;: [2, 5, 8, 12, 15]},\n",
              "             return_train_score=True, scoring=&#x27;neg_mean_squared_error&#x27;,\n",
              "             verbose=1)</pre><b>In a Jupyter environment, please rerun this cell to show the HTML representation or trust the notebook. <br />On GitHub, the HTML representation is unable to render, please try loading this page with nbviewer.org.</b></div><div class=\"sk-container\" hidden><div class=\"sk-item sk-dashed-wrapped\"><div class=\"sk-label-container\"><div class=\"sk-label sk-toggleable\"><input class=\"sk-toggleable__control sk-hidden--visually\" id=\"sk-estimator-id-30\" type=\"checkbox\" ><label for=\"sk-estimator-id-30\" class=\"sk-toggleable__label sk-toggleable__label-arrow\">GridSearchCV</label><div class=\"sk-toggleable__content\"><pre>GridSearchCV(cv=ShuffleSplit(n_splits=5, random_state=None, test_size=0.4285714285714286,\n",
              "       train_size=None),\n",
              "             estimator=DecisionTreeRegressor(max_depth=5), n_jobs=-1,\n",
              "             param_grid={&#x27;max_depth&#x27;: [2, 5, 8, 12, 15]},\n",
              "             return_train_score=True, scoring=&#x27;neg_mean_squared_error&#x27;,\n",
              "             verbose=1)</pre></div></div></div><div class=\"sk-parallel\"><div class=\"sk-parallel-item\"><div class=\"sk-item\"><div class=\"sk-label-container\"><div class=\"sk-label sk-toggleable\"><input class=\"sk-toggleable__control sk-hidden--visually\" id=\"sk-estimator-id-31\" type=\"checkbox\" ><label for=\"sk-estimator-id-31\" class=\"sk-toggleable__label sk-toggleable__label-arrow\">estimator: DecisionTreeRegressor</label><div class=\"sk-toggleable__content\"><pre>DecisionTreeRegressor(max_depth=5)</pre></div></div></div><div class=\"sk-serial\"><div class=\"sk-item\"><div class=\"sk-estimator sk-toggleable\"><input class=\"sk-toggleable__control sk-hidden--visually\" id=\"sk-estimator-id-32\" type=\"checkbox\" ><label for=\"sk-estimator-id-32\" class=\"sk-toggleable__label sk-toggleable__label-arrow\">DecisionTreeRegressor</label><div class=\"sk-toggleable__content\"><pre>DecisionTreeRegressor(max_depth=5)</pre></div></div></div></div></div></div></div></div></div></div>"
            ]
          },
          "metadata": {},
          "execution_count": 151
        }
      ]
    },
    {
      "cell_type": "code",
      "source": [
        "print(\"Mejor estimador Decision Tree: \",decission_tree.best_estimator_)\n",
        "print(\"Mejores parámetros para el estimador Decision Tree: \", decission_tree.best_params_)"
      ],
      "metadata": {
        "colab": {
          "base_uri": "https://localhost:8080/"
        },
        "id": "B9NSBibUxgQ9",
        "outputId": "8b7c1b91-2f34-4745-a282-a38b52ca72f1"
      },
      "execution_count": 152,
      "outputs": [
        {
          "output_type": "stream",
          "name": "stdout",
          "text": [
            "Mejor estimador Decision Tree:  DecisionTreeRegressor(max_depth=5)\n",
            "Mejores parámetros para el estimador Decision Tree:  {'max_depth': 5}\n"
          ]
        }
      ]
    },
    {
      "cell_type": "code",
      "source": [
        "#Mejor Decision Tree para el NMF obtenido\n",
        "test_size = 0.3\n",
        "val_size  = test_size/(1-test_size)\n",
        "Xtv, Xts, ytv, yts = train_test_split(X_t2, y, test_size=test_size)\n",
        "print (Xtv.shape, Xts.shape)\n",
        "Des_tree = DecisionTreeRegressor(max_depth=8)\n",
        "Des_tree.fit(Xtv, ytv)"
      ],
      "metadata": {
        "colab": {
          "base_uri": "https://localhost:8080/",
          "height": 0
        },
        "id": "axL5tl1gxjzd",
        "outputId": "7406e03c-e755-4ba3-f815-97c30c30b581"
      },
      "execution_count": 153,
      "outputs": [
        {
          "output_type": "stream",
          "name": "stdout",
          "text": [
            "(38595, 5) (16542, 5)\n"
          ]
        },
        {
          "output_type": "execute_result",
          "data": {
            "text/plain": [
              "DecisionTreeRegressor(max_depth=8)"
            ],
            "text/html": [
              "<style>#sk-container-id-17 {color: black;background-color: white;}#sk-container-id-17 pre{padding: 0;}#sk-container-id-17 div.sk-toggleable {background-color: white;}#sk-container-id-17 label.sk-toggleable__label {cursor: pointer;display: block;width: 100%;margin-bottom: 0;padding: 0.3em;box-sizing: border-box;text-align: center;}#sk-container-id-17 label.sk-toggleable__label-arrow:before {content: \"▸\";float: left;margin-right: 0.25em;color: #696969;}#sk-container-id-17 label.sk-toggleable__label-arrow:hover:before {color: black;}#sk-container-id-17 div.sk-estimator:hover label.sk-toggleable__label-arrow:before {color: black;}#sk-container-id-17 div.sk-toggleable__content {max-height: 0;max-width: 0;overflow: hidden;text-align: left;background-color: #f0f8ff;}#sk-container-id-17 div.sk-toggleable__content pre {margin: 0.2em;color: black;border-radius: 0.25em;background-color: #f0f8ff;}#sk-container-id-17 input.sk-toggleable__control:checked~div.sk-toggleable__content {max-height: 200px;max-width: 100%;overflow: auto;}#sk-container-id-17 input.sk-toggleable__control:checked~label.sk-toggleable__label-arrow:before {content: \"▾\";}#sk-container-id-17 div.sk-estimator input.sk-toggleable__control:checked~label.sk-toggleable__label {background-color: #d4ebff;}#sk-container-id-17 div.sk-label input.sk-toggleable__control:checked~label.sk-toggleable__label {background-color: #d4ebff;}#sk-container-id-17 input.sk-hidden--visually {border: 0;clip: rect(1px 1px 1px 1px);clip: rect(1px, 1px, 1px, 1px);height: 1px;margin: -1px;overflow: hidden;padding: 0;position: absolute;width: 1px;}#sk-container-id-17 div.sk-estimator {font-family: monospace;background-color: #f0f8ff;border: 1px dotted black;border-radius: 0.25em;box-sizing: border-box;margin-bottom: 0.5em;}#sk-container-id-17 div.sk-estimator:hover {background-color: #d4ebff;}#sk-container-id-17 div.sk-parallel-item::after {content: \"\";width: 100%;border-bottom: 1px solid gray;flex-grow: 1;}#sk-container-id-17 div.sk-label:hover label.sk-toggleable__label {background-color: #d4ebff;}#sk-container-id-17 div.sk-serial::before {content: \"\";position: absolute;border-left: 1px solid gray;box-sizing: border-box;top: 0;bottom: 0;left: 50%;z-index: 0;}#sk-container-id-17 div.sk-serial {display: flex;flex-direction: column;align-items: center;background-color: white;padding-right: 0.2em;padding-left: 0.2em;position: relative;}#sk-container-id-17 div.sk-item {position: relative;z-index: 1;}#sk-container-id-17 div.sk-parallel {display: flex;align-items: stretch;justify-content: center;background-color: white;position: relative;}#sk-container-id-17 div.sk-item::before, #sk-container-id-17 div.sk-parallel-item::before {content: \"\";position: absolute;border-left: 1px solid gray;box-sizing: border-box;top: 0;bottom: 0;left: 50%;z-index: -1;}#sk-container-id-17 div.sk-parallel-item {display: flex;flex-direction: column;z-index: 1;position: relative;background-color: white;}#sk-container-id-17 div.sk-parallel-item:first-child::after {align-self: flex-end;width: 50%;}#sk-container-id-17 div.sk-parallel-item:last-child::after {align-self: flex-start;width: 50%;}#sk-container-id-17 div.sk-parallel-item:only-child::after {width: 0;}#sk-container-id-17 div.sk-dashed-wrapped {border: 1px dashed gray;margin: 0 0.4em 0.5em 0.4em;box-sizing: border-box;padding-bottom: 0.4em;background-color: white;}#sk-container-id-17 div.sk-label label {font-family: monospace;font-weight: bold;display: inline-block;line-height: 1.2em;}#sk-container-id-17 div.sk-label-container {text-align: center;}#sk-container-id-17 div.sk-container {/* jupyter's `normalize.less` sets `[hidden] { display: none; }` but bootstrap.min.css set `[hidden] { display: none !important; }` so we also need the `!important` here to be able to override the default hidden behavior on the sphinx rendered scikit-learn.org. See: https://github.com/scikit-learn/scikit-learn/issues/21755 */display: inline-block !important;position: relative;}#sk-container-id-17 div.sk-text-repr-fallback {display: none;}</style><div id=\"sk-container-id-17\" class=\"sk-top-container\"><div class=\"sk-text-repr-fallback\"><pre>DecisionTreeRegressor(max_depth=8)</pre><b>In a Jupyter environment, please rerun this cell to show the HTML representation or trust the notebook. <br />On GitHub, the HTML representation is unable to render, please try loading this page with nbviewer.org.</b></div><div class=\"sk-container\" hidden><div class=\"sk-item\"><div class=\"sk-estimator sk-toggleable\"><input class=\"sk-toggleable__control sk-hidden--visually\" id=\"sk-estimator-id-33\" type=\"checkbox\" checked><label for=\"sk-estimator-id-33\" class=\"sk-toggleable__label sk-toggleable__label-arrow\">DecisionTreeRegressor</label><div class=\"sk-toggleable__content\"><pre>DecisionTreeRegressor(max_depth=8)</pre></div></div></div></div></div>"
            ]
          },
          "metadata": {},
          "execution_count": 153
        }
      ]
    },
    {
      "cell_type": "code",
      "source": [
        "print('RMSLE del Decision Tree en entrenamiento: ',\"{:.5f}\".format(RMSLE((ytv) , (Des_tree.predict(Xtv)))))\n",
        "print('RMSLE del Decision Tree seleccionado: ',\"{:.5f}\".format(RMSLE(yts , Des_tree.predict(Xts))))"
      ],
      "metadata": {
        "colab": {
          "base_uri": "https://localhost:8080/"
        },
        "id": "XmQNCNozxtBt",
        "outputId": "21e14038-b539-4a1d-e698-4b6f63e687ba"
      },
      "execution_count": 154,
      "outputs": [
        {
          "output_type": "stream",
          "name": "stdout",
          "text": [
            "RMSLE del Decision Tree en entrenamiento:  58.48497\n",
            "RMSLE del Decision Tree seleccionado:  63.03054\n"
          ]
        }
      ]
    },
    {
      "cell_type": "markdown",
      "source": [
        "# 5 Curvas de aprenizaje"
      ],
      "metadata": {
        "id": "7x7Eg1X3xyaN"
      }
    },
    {
      "cell_type": "markdown",
      "source": [
        "#### Función para graficar"
      ],
      "metadata": {
        "id": "XkijYmJC9cT2"
      }
    },
    {
      "cell_type": "code",
      "source": [
        "def lc_plot(estimator,X,y):\n",
        "    train_sizes, train_scores, valid_scores = learning_curve(estimator, X, y, train_sizes= [0.3, 0.5,0.7,0.9],\n",
        "                 scoring ='neg_root_mean_squared_error', cv = ShuffleSplit(n_splits=10, test_size=val_size))\n",
        "\n",
        "    train_scores = np.abs(train_scores)\n",
        "    valid_scores = np.abs(valid_scores)\n",
        "\n",
        "    train_mean = np.mean(train_scores, axis=1)\n",
        "    train_std = np.std(train_scores, axis=1)\n",
        "\n",
        "    valid_mean = np.mean(valid_scores, axis=1)\n",
        "    valid_std = np.std(valid_scores, axis=1)\n",
        "\n",
        "    plt.subplots(1, figsize=(5,5))\n",
        "    plt.plot(train_sizes, train_mean, '--', color=\"r\",  label=\"Training score\")\n",
        "    plt.plot(train_sizes, valid_mean, color=\"g\", label=\"Cross-validation score\")\n",
        "\n",
        "\n",
        "\n",
        "    plt.grid()\n",
        "    plt.title(\"Learning Curve\")\n",
        "    plt.xlabel(\"Training Set Size\"), plt.ylabel(\"RMSLE\"), plt.legend(loc=\"best\")\n",
        "    plt.tight_layout()\n",
        "    plt.show()\n",
        "    return plt"
      ],
      "metadata": {
        "id": "MNBMNlAT8dOz"
      },
      "execution_count": 155,
      "outputs": []
    },
    {
      "cell_type": "markdown",
      "source": [
        "## 5.1 Métodos supervisados"
      ],
      "metadata": {
        "id": "Eu1C2BWp0UCO"
      }
    },
    {
      "cell_type": "markdown",
      "source": [
        "#### Partición"
      ],
      "metadata": {
        "id": "E5brIokh9o5L"
      }
    },
    {
      "cell_type": "code",
      "source": [
        "X = tabla_completa.drop(['price'],axis = 1)\n",
        "y = tabla_completa['price'].values"
      ],
      "metadata": {
        "id": "Xz-x_0CVx3wN"
      },
      "execution_count": 156,
      "outputs": []
    },
    {
      "cell_type": "code",
      "source": [
        "test_size = 0.3\n",
        "val_size  = test_size/(1-test_size) # Elementos de validación\n",
        "\n",
        "\n",
        "print (X.shape, y.shape)\n",
        "print (\"test size %.2f\"%test_size)\n",
        "print (\"val size is %.2f (relative to %.2f) \"%(val_size, 1-test_size))\n",
        "\n",
        "#Xtv, ytv son los datos que se usan para entrenar el modelo\n",
        "#Xts, yts son los datos que se usan para probar el modelo\n",
        "Xtv, Xts, ytv, yts = train_test_split(X, y, test_size=test_size)\n",
        "print (Xtv.shape, Xts.shape)"
      ],
      "metadata": {
        "colab": {
          "base_uri": "https://localhost:8080/"
        },
        "id": "gDIJGnV86kvO",
        "outputId": "104822c6-04ae-4348-daa6-0180b889d0af"
      },
      "execution_count": 157,
      "outputs": [
        {
          "output_type": "stream",
          "name": "stdout",
          "text": [
            "(55137, 337) (55137,)\n",
            "test size 0.30\n",
            "val size is 0.43 (relative to 0.70) \n",
            "(38595, 337) (16542, 337)\n"
          ]
        }
      ]
    },
    {
      "cell_type": "markdown",
      "source": [
        "### 5.1.1 Decision Tree"
      ],
      "metadata": {
        "id": "M4iz7rtW7CPU"
      }
    },
    {
      "cell_type": "code",
      "source": [
        "Des_tree1 = DecisionTreeRegressor(max_depth=8)\n",
        "lc_plot(Des_tree1,Xtv,ytv)"
      ],
      "metadata": {
        "colab": {
          "base_uri": "https://localhost:8080/",
          "height": 0
        },
        "id": "m0s3Lewt7GNM",
        "outputId": "8bdb59e1-0abd-4836-89ab-c7b2dfc461ad"
      },
      "execution_count": 158,
      "outputs": [
        {
          "output_type": "display_data",
          "data": {
            "text/plain": [
              "<Figure size 500x500 with 1 Axes>"
            ],
            "image/png": "[encoded data removed]"
          },
          "metadata": {}
        },
        {
          "output_type": "execute_result",
          "data": {
            "text/plain": [
              "<module 'matplotlib.pyplot' from '/usr/local/lib/python3.10/dist-packages/matplotlib/pyplot.py'>"
            ]
          },
          "metadata": {},
          "execution_count": 158
        }
      ]
    },
    {
      "cell_type": "markdown",
      "source": [
        "### 5.1.2 Random Forest"
      ],
      "metadata": {
        "id": "65RSZaSN83IV"
      }
    },
    {
      "cell_type": "code",
      "source": [
        "Rdm_forest1 = RandomForestRegressor(n_estimators = 15,max_depth = 9)\n",
        "lc_plot(Rdm_forest,Xtv,ytv)"
      ],
      "metadata": {
        "colab": {
          "base_uri": "https://localhost:8080/",
          "height": 0
        },
        "id": "SlxGluzp7sLo",
        "outputId": "dfa7fb53-015c-4935-dc84-3f825403d5d4"
      },
      "execution_count": 159,
      "outputs": [
        {
          "output_type": "display_data",
          "data": {
            "text/plain": [
              "<Figure size 500x500 with 1 Axes>"
            ],
            "image/png": "[encoded data removed]"
          },
          "metadata": {}
        },
        {
          "output_type": "execute_result",
          "data": {
            "text/plain": [
              "<module 'matplotlib.pyplot' from '/usr/local/lib/python3.10/dist-packages/matplotlib/pyplot.py'>"
            ]
          },
          "metadata": {},
          "execution_count": 159
        }
      ]
    },
    {
      "cell_type": "markdown",
      "source": [
        "## 5.2 Método no supervisado + Método supervisado"
      ],
      "metadata": {
        "id": "p-qFeev691ku"
      }
    },
    {
      "cell_type": "markdown",
      "source": [
        "### 5.2.1 PCA + Random Forest"
      ],
      "metadata": {
        "id": "ghb7bTmCA0LB"
      }
    },
    {
      "cell_type": "code",
      "source": [
        "X_ns2 = tabla_completa.drop(['price'],axis = 1)\n",
        "y_ns2 = tabla_completa['price'].values"
      ],
      "metadata": {
        "id": "d12zg8EX7su0"
      },
      "execution_count": 160,
      "outputs": []
    },
    {
      "cell_type": "code",
      "source": [
        "from sklearn.decomposition import PCA\n",
        "pca = PCA(n_components = 5)\n",
        "X_t1 = pca.fit_transform(X_ns2)\n",
        "test_size = 0.3\n",
        "val_size  = test_size/(1-test_size)\n",
        "Xtv, Xts, ytv, yts = train_test_split(X_t1, y_ns2, test_size=test_size)\n",
        "Rdm_forest3 = RandomForestRegressor(n_estimators = 15,max_depth = 9)"
      ],
      "metadata": {
        "id": "6fVamrdiBNsg"
      },
      "execution_count": 161,
      "outputs": []
    },
    {
      "cell_type": "code",
      "source": [
        "lc_plot(Rdm_forest3,Xtv,ytv)"
      ],
      "metadata": {
        "colab": {
          "base_uri": "https://localhost:8080/",
          "height": 0
        },
        "id": "V9F9qnwCDZ6v",
        "outputId": "42dfb39d-f36b-4c9a-f2db-c6f31a8b362c"
      },
      "execution_count": 162,
      "outputs": [
        {
          "output_type": "display_data",
          "data": {
            "text/plain": [
              "<Figure size 500x500 with 1 Axes>"
            ],
            "image/png": "[encoded data removed]"
          },
          "metadata": {}
        },
        {
          "output_type": "execute_result",
          "data": {
            "text/plain": [
              "<module 'matplotlib.pyplot' from '/usr/local/lib/python3.10/dist-packages/matplotlib/pyplot.py'>"
            ]
          },
          "metadata": {},
          "execution_count": 162
        }
      ]
    },
    {
      "cell_type": "markdown",
      "source": [
        "### 5.2.2 NMF + Decision Tree"
      ],
      "metadata": {
        "id": "8hljfaHoDP1N"
      }
    },
    {
      "cell_type": "code",
      "source": [
        "X2 = X_ns2.drop(['longitude'],axis=1)"
      ],
      "metadata": {
        "id": "cv_9EanWDlU1"
      },
      "execution_count": 163,
      "outputs": []
    },
    {
      "cell_type": "code",
      "source": [
        "from sklearn.decomposition import NMF\n",
        "nmf = NMF(n_components = 3)\n",
        "X_t2 = nmf.fit_transform(X2)\n",
        "test_size = 0.3\n",
        "val_size  = test_size/(1-test_size)\n",
        "Xtv, Xts, ytv, yts = train_test_split(X_t2, y, test_size=test_size)\n",
        "Des_tree = DecisionTreeRegressor(max_depth=15)"
      ],
      "metadata": {
        "id": "YDTEpYuGDzrA"
      },
      "execution_count": 164,
      "outputs": []
    },
    {
      "cell_type": "code",
      "source": [
        "lc_plot(Des_tree,Xtv,ytv)"
      ],
      "metadata": {
        "colab": {
          "base_uri": "https://localhost:8080/",
          "height": 0
        },
        "id": "uK0cydy-D103",
        "outputId": "6dacd746-a1fe-42d2-fe5c-3a66839657e9"
      },
      "execution_count": 165,
      "outputs": [
        {
          "output_type": "display_data",
          "data": {
            "text/plain": [
              "<Figure size 500x500 with 1 Axes>"
            ],
            "image/png": "[encoded data removed]"
          },
          "metadata": {}
        },
        {
          "output_type": "execute_result",
          "data": {
            "text/plain": [
              "<module 'matplotlib.pyplot' from '/usr/local/lib/python3.10/dist-packages/matplotlib/pyplot.py'>"
            ]
          },
          "metadata": {},
          "execution_count": 165
        }
      ]
    }
  ]
}